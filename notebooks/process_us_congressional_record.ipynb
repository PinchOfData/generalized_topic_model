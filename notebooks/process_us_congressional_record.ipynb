{
 "cells": [
  {
   "cell_type": "raw",
   "id": "91ef43da",
   "metadata": {},
   "source": [
    "import pandas as pd\n",
    "temp = pd.read_pickle('../data/us_congressional_record/us_congress_speeches.pkl')\n",
    "df = pd.DataFrame(temp)\n",
    "df.columns = ['title', 'doc']\n",
    "del temp\n",
    "\n",
    "# Speech dates\n",
    "df['speech_date'] = [a.split('/')[2] for a in df['title']]\n",
    "df['speech_year'] = [a.split('-')[0] for a in df['speech_date']]\n",
    "df['speech_month'] = [a.split('-')[1] for a in df['speech_date']]\n",
    "df['speech_day'] = [a.split('-')[2] for a in df['speech_date']]\n",
    "\n",
    "# Metadata\n",
    "meta1 = pd.read_csv('../data/us_congressional_record/gpo_metadata.csv')\n",
    "meta2 = pd.read_csv('../data/us_congressional_record/hein_metadata.csv')\n",
    "meta = pd.concat([meta1, meta2], sort=False)\n",
    "meta = meta.rename({'file_name': 'title'}, axis=1)\n",
    "meta = meta.drop(['date'], axis=1)  # This is already in\n",
    "print('I have metadata for {} speeches'.format(len(meta)))\n",
    "# 10 869 566\n",
    "pre = len(df)\n",
    "df = pd.merge(df, meta, on=['title'], how='left')\n",
    "print('Metadata: this should be True %r' % (pre == len(df)))\n",
    "del meta\n",
    "del meta1\n",
    "del meta2\n",
    "\n",
    "# Additional (political) metadata\n",
    "metadata = pd.read_csv('../data/us_congressional_record/metadata_members_of_us_congress.csv')\n",
    "df = pd.merge(df, metadata, on=['title'], how='left')\n",
    "\n",
    "# Raw speeches of Republicans and Democrats with metadata\n",
    "df = df.dropna(subset = ['party'])\n",
    "df = df[df['party'].isin(['Democrat', 'Republican'])]\n",
    "df.to_csv('../data/us_congressional_record/us_congress_raw_speeches_with_metadata.csv')\n",
    "df"
   ]
  },
  {
   "cell_type": "code",
   "execution_count": 13,
   "id": "f1050354",
   "metadata": {},
   "outputs": [
    {
     "name": "stderr",
     "output_type": "stream",
     "text": [
      "/tmp/ipykernel_11373/594880073.py:2: DtypeWarning: Columns (28,29) have mixed types. Specify dtype option on import or set low_memory=False.\n",
      "  df = pd.read_csv('../data/us_congress_raw_speeches_with_metadata.csv')\n"
     ]
    }
   ],
   "source": [
    "import pandas as pd \n",
    "df = pd.read_csv('../data/us_congressional_record/us_congress_raw_speeches_with_metadata.csv')\n",
    "df = df[['doc', 'party', 'speech_year']]"
   ]
  },
  {
   "cell_type": "code",
   "execution_count": 2,
   "id": "9584dabc",
   "metadata": {},
   "outputs": [
    {
     "name": "stderr",
     "output_type": "stream",
     "text": [
      "/home/germain/Documents/topic models/generalized_topic_model/venv/lib/python3.10/site-packages/tqdm/auto.py:21: TqdmWarning: IProgress not found. Please update jupyter and ipywidgets. See https://ipywidgets.readthedocs.io/en/stable/user_install.html\n",
      "  from .autonotebook import tqdm as notebook_tqdm\n",
      "100%|██████████████████████████████████████████████████████████████████████████████████████████████████████████████████████| 2205460/2205460 [2:43:11<00:00, 225.25it/s]\n"
     ]
    }
   ],
   "source": [
    "import sys\n",
    "sys.path.append('../gtm/')\n",
    "from utils import text_processor\n",
    "    \n",
    "p = text_processor(\n",
    "    'en_core_web_sm', \n",
    "    pos_tags_to_keep = ['VERB', 'NOUN']\n",
    ")\n",
    "\n",
    "df['doc_clean'] = p.process_docs(df['doc'], batch_size = 10, output_path = 'temp_us_congress_clean.csv')"
   ]
  },
  {
   "cell_type": "raw",
   "id": "b3336759",
   "metadata": {},
   "source": [
    "from collections import Counter\n",
    "doc_clean = list(df['doc_clean'])\n",
    "doc_clean_tokenized = [doc.split() for doc in doc_clean]\n",
    "doc_clean_tokenized = [item for sublist in doc_clean_tokenized for item in sublist]\n",
    "c = Counter(doc_clean_tokenized)\n",
    "c = {k:v for k,v in c.items() if v > 100}\n",
    "print(len(c))\n",
    "keepers = list(c)\n",
    "\n",
    "doc_clean_tokenized = [doc.split() for doc in doc_clean]\n",
    "docs = []\n",
    "for doc in doc_clean_tokenized:\n",
    "    d = []\n",
    "    for tok in doc:\n",
    "        if tok in keepers:\n",
    "            d.append(tok)\n",
    "    d = ' '.join(d)\n",
    "    d = d.strip()\n",
    "    docs.append(d)\n",
    "df['doc_clean'] = docs\n",
    "\n",
    "df = df[df[\"doc_clean\"] != '']\n",
    "df = df.reset_index(drop=True)\n",
    "\n",
    "df = df.dropna(subset = ['doc_clean'])\n",
    "df = df.reset_index(drop=True)"
   ]
  },
  {
   "cell_type": "code",
   "execution_count": 14,
   "id": "2dc1940b",
   "metadata": {},
   "outputs": [],
   "source": [
    "l = pd.read_csv('temp_us_congress_clean.csv')['doc_clean'].to_list()\n",
    "\n",
    "df['doc_clean'] = l\n",
    "idx = [k for k,v in enumerate(l) if len(str(v).split()) >= 20] # drop speeches of less than 20 preprocessed tokens\n",
    "df = df.iloc[idx]\n",
    "df = df.reset_index(drop=True)\n",
    "\n",
    "df.to_csv('../data/us_congressional_record/us_congress_speeches_processed.csv')"
   ]
  }
 ],
 "metadata": {
  "kernelspec": {
   "display_name": "Python 3 (ipykernel)",
   "language": "python",
   "name": "python3"
  },
  "language_info": {
   "codemirror_mode": {
    "name": "ipython",
    "version": 3
   },
   "file_extension": ".py",
   "mimetype": "text/x-python",
   "name": "python",
   "nbconvert_exporter": "python",
   "pygments_lexer": "ipython3",
   "version": "3.10.12"
  }
 },
 "nbformat": 4,
 "nbformat_minor": 5
}
