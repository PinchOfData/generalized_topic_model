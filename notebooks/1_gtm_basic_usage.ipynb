{
 "cells": [
  {
   "cell_type": "code",
   "execution_count": 1,
   "id": "729d6390",
   "metadata": {
    "scrolled": false
   },
   "outputs": [],
   "source": [
    "import pandas as pd\n",
    "df = pd.read_csv('../data/hansard_archive/hansard_speeches_processed.csv', nrows = 1000)"
   ]
  },
  {
   "cell_type": "code",
   "execution_count": 2,
   "id": "fae3e603",
   "metadata": {},
   "outputs": [
    {
     "name": "stderr",
     "output_type": "stream",
     "text": [
      "/home/germain/Documents/topic models/generalized_topic_model/venv/lib/python3.10/site-packages/tqdm/auto.py:21: TqdmWarning: IProgress not found. Please update jupyter and ipywidgets. See https://ipywidgets.readthedocs.io/en/stable/user_install.html\n",
      "  from .autonotebook import tqdm as notebook_tqdm\n",
      "/home/germain/Documents/topic models/generalized_topic_model/venv/lib/python3.10/site-packages/umap/distances.py:1063: NumbaDeprecationWarning: The 'nopython' keyword argument was not supplied to the 'numba.jit' decorator. The implicit default value for this argument is currently False, but it will be changed to True in Numba 0.59.0. See https://numba.readthedocs.io/en/stable/reference/deprecation.html#deprecation-of-object-mode-fall-back-behaviour-when-using-jit for details.\n",
      "  @numba.jit()\n",
      "/home/germain/Documents/topic models/generalized_topic_model/venv/lib/python3.10/site-packages/umap/distances.py:1071: NumbaDeprecationWarning: The 'nopython' keyword argument was not supplied to the 'numba.jit' decorator. The implicit default value for this argument is currently False, but it will be changed to True in Numba 0.59.0. See https://numba.readthedocs.io/en/stable/reference/deprecation.html#deprecation-of-object-mode-fall-back-behaviour-when-using-jit for details.\n",
      "  @numba.jit()\n",
      "/home/germain/Documents/topic models/generalized_topic_model/venv/lib/python3.10/site-packages/umap/distances.py:1086: NumbaDeprecationWarning: The 'nopython' keyword argument was not supplied to the 'numba.jit' decorator. The implicit default value for this argument is currently False, but it will be changed to True in Numba 0.59.0. See https://numba.readthedocs.io/en/stable/reference/deprecation.html#deprecation-of-object-mode-fall-back-behaviour-when-using-jit for details.\n",
      "  @numba.jit()\n",
      "/home/germain/Documents/topic models/generalized_topic_model/venv/lib/python3.10/site-packages/umap/umap_.py:660: NumbaDeprecationWarning: The 'nopython' keyword argument was not supplied to the 'numba.jit' decorator. The implicit default value for this argument is currently False, but it will be changed to True in Numba 0.59.0. See https://numba.readthedocs.io/en/stable/reference/deprecation.html#deprecation-of-object-mode-fall-back-behaviour-when-using-jit for details.\n",
      "  @numba.jit()\n"
     ]
    }
   ],
   "source": [
    "import sys\n",
    "sys.path.append('../gtm/')\n",
    "from corpus import GTMCorpus\n",
    "from gtm import GTM\n",
    "\n",
    "train_dataset = GTMCorpus(\n",
    "    df, \n",
    "    prevalence = \"~ party\", \n",
    "    content = \"~ party\",\n",
    "    vectorizer_args={'ngram_range':(1, 2), 'max_df':0.99, 'min_df':0.01}\n",
    ")"
   ]
  },
  {
   "cell_type": "code",
   "execution_count": 3,
   "id": "600e51b5",
   "metadata": {
    "scrolled": false
   },
   "outputs": [
    {
     "name": "stdout",
     "output_type": "stream",
     "text": [
      "\n",
      "Epoch   1\tMean Training Loss:1635.6785812\n",
      "\n",
      "Topic_0: ['begin', 'point', 'involve', 'happen', 'take', 'industry', 'school', 'seem']\n",
      "Topic_1: ['help', 'argument', 'receive', 'time', 'example', 'vote', 'speech', 'word']\n",
      "Topic_2: ['thing', 'gentleman', 'man', 'produce', 'right', 'fund', 'party', 'answer']\n",
      "Topic_3: ['feel', 'consider', 'sector', 'road', 'people', 'leave', 'mean', 'discuss']\n",
      "Topic_4: ['election campaign', 'become', 'control', 'refer', 'difference', 'live', 'thing', 'party']\n",
      "Topic_5: ['view', 'cut', 'hon member', 'go', 'leader', 'agree', 'period', 'involve']\n",
      "Topic_6: ['world', 'interest', 'right', 'difficulty', 'remark', 'education', 'review', 'voter']\n",
      "Topic_7: ['intention', 'policy', 'account', 'loss', 'arise', 'resource', 'affect', 'balance']\n",
      "Topic_8: ['look', 'view', 'concern', 'show', 'matter', 'campaign', 'enable', 'hon']\n",
      "Topic_9: ['difference', 'speech', 'step', 'operation', 'level', 'principle', 'business', 'amend']\n",
      "\n",
      "\n",
      "Intercept: ['try', 'start', 'arrangement', 'tenant', 'sense', 'base', 'difficulty', 'settlement']\n",
      "party[T.Labour]: ['come', 'turn', 'raise', 'learn', 'expect', 'face', 'agreement', 'talk']\n",
      "\n",
      "\n",
      "\n",
      "Epoch   2\tMean Training Loss:1239.6614151\n",
      "\n",
      "Topic_0: ['point', 'take', 'begin', 'involve', 'happen', 'industry', 'leave', 'school']\n",
      "Topic_1: ['help', 'time', 'argument', 'receive', 'vote', 'speech', 'example', 'proposal']\n",
      "Topic_2: ['gentleman', 'thing', 'man', 'right', 'produce', 'party', 'answer', 'fund']\n",
      "Topic_3: ['feel', 'consider', 'people', 'sector', 'leave', 'mean', 'discuss', 'road']\n",
      "Topic_4: ['election campaign', 'become', 'refer', 'control', 'live', 'thing', 'want', 'party']\n",
      "Topic_5: ['view', 'go', 'hon member', 'cut', 'agree', 'leader', 'period', 'government']\n",
      "Topic_6: ['world', 'interest', 'right', 'education', 'allow', 'find', 'difficulty', 'remark']\n",
      "Topic_7: ['policy', 'intention', 'account', 'resource', 'loss', 'care', 'arise', 'attention']\n",
      "Topic_8: ['look', 'concern', 'view', 'matter', 'show', 'campaign', 'hon', 'enable']\n",
      "Topic_9: ['speech', 'difference', 'step', 'level', 'principle', 'operation', 'business', 'order']\n",
      "\n",
      "\n",
      "Intercept: ['try', 'start', 'arrangement', 'tenant', 'difficulty', 'base', 'expenditure', 'sense']\n",
      "party[T.Labour]: ['come', 'turn', 'raise', 'learn', 'face', 'talk', 'follow', 'expect']\n",
      "\n",
      "\n",
      "\n",
      "Epoch   3\tMean Training Loss:1216.2668648\n",
      "\n",
      "Topic_0: ['point', 'take', 'begin', 'involve', 'happen', 'industry', 'leave', 'seem']\n",
      "Topic_1: ['time', 'help', 'argument', 'receive', 'proposal', 'vote', 'speech', 'example']\n",
      "Topic_2: ['gentleman', 'thing', 'man', 'right', 'produce', 'party', 'answer', 'word']\n",
      "Topic_3: ['consider', 'feel', 'people', 'leave', 'discuss', 'position', 'mean', 'turn']\n",
      "Topic_4: ['election campaign', 'refer', 'become', 'live', 'control', 'want', 'thing', 'party']\n",
      "Topic_5: ['view', 'go', 'hon member', 'cut', 'agree', 'government', 'part', 'period']\n",
      "Topic_6: ['interest', 'world', 'education', 'right', 'find', 'allow', 'remark', 'difficulty']\n",
      "Topic_7: ['policy', 'intention', 'account', 'resource', 'care', 'look', 'balance', 'attention']\n",
      "Topic_8: ['look', 'concern', 'matter', 'view', 'show', 'hon', 'campaign', 'enable']\n",
      "Topic_9: ['speech', 'difference', 'level', 'step', 'business', 'principle', 'operation', 'order']\n",
      "\n",
      "\n",
      "Intercept: ['try', 'start', 'difficulty', 'tenant', 'expenditure', 'arrangement', 'build', 'come']\n",
      "party[T.Labour]: ['come', 'turn', 'learn', 'face', 'talk', 'raise', 'friend', 'follow']\n",
      "\n",
      "\n",
      "\n",
      "Epoch   4\tMean Training Loss:1286.8030319\n",
      "\n",
      "Topic_0: ['point', 'take', 'begin', 'involve', 'industry', 'happen', 'leave', 'way']\n",
      "Topic_1: ['time', 'help', 'argument', 'proposal', 'receive', 'speech', 'vote', 'gentleman']\n",
      "Topic_2: ['gentleman', 'thing', 'party', 'right', 'man', 'answer', 'produce', 'word']\n",
      "Topic_3: ['consider', 'feel', 'people', 'leave', 'discuss', 'position', 'mean', 'turn']\n",
      "Topic_4: ['refer', 'become', 'election campaign', 'live', 'want', 'control', 'party', 'thing']\n",
      "Topic_5: ['view', 'go', 'hon member', 'cut', 'agree', 'government', 'part', 'find']\n",
      "Topic_6: ['interest', 'world', 'find', 'education', 'allow', 'right', 'make', 'place']\n",
      "Topic_7: ['policy', 'intention', 'account', 'care', 'resource', 'look', 'balance', 'attention']\n",
      "Topic_8: ['look', 'matter', 'concern', 'view', 'hon', 'show', 'campaign', 'cent']\n",
      "Topic_9: ['speech', 'difference', 'level', 'order', 'consider', 'step', 'hope', 'business']\n",
      "\n",
      "\n",
      "Intercept: ['try', 'start', 'difficulty', 'expenditure', 'arrangement', 'tenant', 'come', 'build']\n",
      "party[T.Labour]: ['come', 'turn', 'face', 'learn', 'talk', 'friend', 'raise', 'see']\n",
      "\n",
      "\n",
      "Early stopping at Epoch 4. Reverting to Epoch 3\n"
     ]
    }
   ],
   "source": [
    "# Train the model\n",
    "tm = GTM(\n",
    "    train_dataset, \n",
    "    n_topics=10,\n",
    "    doc_topic_prior='logistic_normal',\n",
    "    alpha=0.1,\n",
    "    update_prior=True,\n",
    "    num_epochs=10,\n",
    "    log_every_n_epochs = 1\n",
    ")"
   ]
  },
  {
   "cell_type": "code",
   "execution_count": 4,
   "id": "d9f42dd8",
   "metadata": {},
   "outputs": [
    {
     "name": "stdout",
     "output_type": "stream",
     "text": [
      "Topic_0: ['point', 'take', 'begin', 'involve', 'happen', 'industry', 'leave', 'seem']\n",
      "Topic_1: ['time', 'help', 'argument', 'receive', 'proposal', 'vote', 'speech', 'example']\n",
      "Topic_2: ['gentleman', 'thing', 'man', 'right', 'produce', 'party', 'answer', 'word']\n",
      "Topic_3: ['consider', 'feel', 'people', 'leave', 'discuss', 'position', 'mean', 'turn']\n",
      "Topic_4: ['election campaign', 'refer', 'become', 'live', 'control', 'want', 'thing', 'party']\n",
      "Topic_5: ['view', 'go', 'hon member', 'cut', 'agree', 'government', 'part', 'period']\n",
      "Topic_6: ['interest', 'world', 'education', 'right', 'find', 'allow', 'remark', 'difficulty']\n",
      "Topic_7: ['policy', 'intention', 'account', 'resource', 'care', 'look', 'balance', 'attention']\n",
      "Topic_8: ['look', 'concern', 'matter', 'view', 'show', 'hon', 'campaign', 'enable']\n",
      "Topic_9: ['speech', 'difference', 'level', 'step', 'business', 'principle', 'operation', 'order']\n",
      "\n",
      "\n",
      "Intercept: ['try', 'start', 'difficulty', 'tenant', 'expenditure', 'arrangement', 'build', 'come']\n",
      "party[T.Labour]: ['come', 'turn', 'learn', 'face', 'talk', 'raise', 'friend', 'follow']\n"
     ]
    }
   ],
   "source": [
    "print(\n",
    "    \"\\n\".join(\n",
    "        [\n",
    "            \"{}: {}\".format(k, str(v))\n",
    "            for k, v in tm.get_topic_words().items()\n",
    "        ]\n",
    "    )\n",
    ")\n",
    "\n",
    "print('\\n')\n",
    "\n",
    "print(\n",
    "    \"\\n\".join(\n",
    "        [\n",
    "            \"{}: {}\".format(k, str(v))\n",
    "            for k, v in tm.get_covariate_words().items()\n",
    "        ]\n",
    "    )\n",
    ")"
   ]
  }
 ],
 "metadata": {
  "kernelspec": {
   "display_name": "Python 3 (ipykernel)",
   "language": "python",
   "name": "python3"
  },
  "language_info": {
   "codemirror_mode": {
    "name": "ipython",
    "version": 3
   },
   "file_extension": ".py",
   "mimetype": "text/x-python",
   "name": "python",
   "nbconvert_exporter": "python",
   "pygments_lexer": "ipython3",
   "version": "3.10.12"
  }
 },
 "nbformat": 4,
 "nbformat_minor": 5
}
