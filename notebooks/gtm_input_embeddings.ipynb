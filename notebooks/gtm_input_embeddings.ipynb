{
 "cells": [
  {
   "cell_type": "code",
   "execution_count": null,
   "id": "49a6ddfa",
   "metadata": {},
   "outputs": [],
   "source": [
    "import pandas as pd\n",
    "df = pd.read_csv('../data/hansard_archive/hansard_speeches_processed.csv')\n",
    "df = df.sample(n=50000, random_state=42).reset_index(drop=True)\n",
    "\n",
    "import os\n",
    "os.environ[\"TOKENIZERS_PARALLELISM\"] = \"false\" # to avoid some warnings\n",
    "\n",
    "import sys\n",
    "sys.path.append('../gtm/')\n",
    "from corpus import GTMCorpus\n",
    "from gtm import GTM\n",
    "\n",
    "# Create a GTMCorpus object\n",
    "train_dataset = GTMCorpus(\n",
    "    df, \n",
    "    embeddings_type = \"SentenceTransformer\",\n",
    "    sbert_model_to_load = \"all-MiniLM-L6-v2\",\n",
    "    prevalence = \"~ party\", \n",
    "    content = \"~ party\",\n",
    "    max_seq_length = 256\n",
    ")"
   ]
  },
  {
   "cell_type": "code",
   "execution_count": null,
   "id": "85f8ea0f",
   "metadata": {},
   "outputs": [],
   "source": [
    "# Train the model\n",
    "tm = GTM(\n",
    "    train_dataset, \n",
    "    n_topics=20,\n",
    "    doc_topic_prior='dirichlet',\n",
    "    update_prior=True,\n",
    "    encoder_input = 'embeddings',\n",
    "    encoder_hidden_layers = [128,64],\n",
    "    num_epochs=2\n",
    ")"
   ]
  }
 ],
 "metadata": {
  "kernelspec": {
   "display_name": "Python 3 (ipykernel)",
   "language": "python",
   "name": "python3"
  },
  "language_info": {
   "codemirror_mode": {
    "name": "ipython",
    "version": 3
   },
   "file_extension": ".py",
   "mimetype": "text/x-python",
   "name": "python",
   "nbconvert_exporter": "python",
   "pygments_lexer": "ipython3",
   "version": "3.10.12"
  }
 },
 "nbformat": 4,
 "nbformat_minor": 5
}
