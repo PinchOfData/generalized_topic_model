{
 "cells": [
  {
   "cell_type": "code",
   "execution_count": 1,
   "id": "e5ead4b8",
   "metadata": {},
   "outputs": [],
   "source": [
    "from sklearn.datasets import make_classification\n",
    "\n",
    "X, Y = make_classification(\n",
    "  n_samples=100, n_features=4, n_redundant=0,\n",
    "  n_informative=3,  n_clusters_per_class=2, n_classes=3\n",
    ")"
   ]
  },
  {
   "cell_type": "code",
   "execution_count": 4,
   "id": "f3506868",
   "metadata": {},
   "outputs": [
    {
     "data": {
      "text/plain": [
       "array([2, 1, 1, 2, 0, 2, 0, 1, 0, 2, 1, 1, 1, 2, 1, 2, 0, 2, 2, 1, 1, 0,\n",
       "       0, 1, 1, 2, 1, 2, 2, 0, 1, 1, 0, 2, 1, 0, 2, 1, 2, 0, 0, 1, 0, 0,\n",
       "       2, 0, 2, 1, 2, 2, 0, 0, 1, 2, 1, 2, 1, 2, 0, 1, 0, 0, 0, 1, 1, 0,\n",
       "       1, 2, 0, 0, 2, 1, 2, 1, 1, 2, 0, 2, 0, 0, 1, 1, 0, 0, 0, 1, 2, 2,\n",
       "       2, 0, 0, 2, 2, 0, 0, 1, 2, 0, 2, 1])"
      ]
     },
     "execution_count": 4,
     "metadata": {},
     "output_type": "execute_result"
    }
   ],
   "source": [
    "Y"
   ]
  }
 ],
 "metadata": {
  "kernelspec": {
   "display_name": "Python 3 (ipykernel)",
   "language": "python",
   "name": "python3"
  },
  "language_info": {
   "codemirror_mode": {
    "name": "ipython",
    "version": 3
   },
   "file_extension": ".py",
   "mimetype": "text/x-python",
   "name": "python",
   "nbconvert_exporter": "python",
   "pygments_lexer": "ipython3",
   "version": "3.10.6"
  }
 },
 "nbformat": 4,
 "nbformat_minor": 5
}
