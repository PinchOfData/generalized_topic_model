{
 "cells": [
  {
   "cell_type": "code",
   "execution_count": 1,
   "id": "e5ead4b8",
   "metadata": {},
   "outputs": [
    {
     "data": {
      "text/plain": [
       "['../data/wall_street_journal/dtm_output_file_WSJ_1gram_eigth_0.csv.gz',\n",
       " '../data/wall_street_journal/dtm_output_file_WSJ_1gram_eigth_1.csv.gz',\n",
       " '../data/wall_street_journal/dtm_output_file_WSJ_1gram_eigth_10.csv.gz',\n",
       " '../data/wall_street_journal/dtm_output_file_WSJ_1gram_eigth_100.csv.gz',\n",
       " '../data/wall_street_journal/dtm_output_file_WSJ_1gram_eigth_1000.csv.gz',\n",
       " '../data/wall_street_journal/dtm_output_file_WSJ_1gram_eigth_1001.csv.gz',\n",
       " '../data/wall_street_journal/dtm_output_file_WSJ_1gram_eigth_1002.csv.gz',\n",
       " '../data/wall_street_journal/dtm_output_file_WSJ_1gram_eigth_1003.csv.gz',\n",
       " '../data/wall_street_journal/dtm_output_file_WSJ_1gram_eigth_1004.csv.gz',\n",
       " '../data/wall_street_journal/dtm_output_file_WSJ_1gram_eigth_1005.csv.gz']"
      ]
     },
     "execution_count": 1,
     "metadata": {},
     "output_type": "execute_result"
    }
   ],
   "source": [
    "from glob import glob\n",
    "from tqdm import tqdm\n",
    "import pandas as pd \n",
    "import csv\n",
    "import sys\n",
    "\n",
    "filenames = glob('../data/wall_street_journal/*.gz')   \n",
    "filenames = sorted(filenames)\n",
    "filenames[0:10]"
   ]
  }
 ],
 "metadata": {
  "kernelspec": {
   "display_name": "Python 3 (ipykernel)",
   "language": "python",
   "name": "python3"
  },
  "language_info": {
   "codemirror_mode": {
    "name": "ipython",
    "version": 3
   },
   "file_extension": ".py",
   "mimetype": "text/x-python",
   "name": "python",
   "nbconvert_exporter": "python",
   "pygments_lexer": "ipython3",
   "version": "3.10.12"
  }
 },
 "nbformat": 4,
 "nbformat_minor": 5
}
