{
 "cells": [
  {
   "cell_type": "code",
   "execution_count": null,
   "id": "729d6390",
   "metadata": {
    "scrolled": false
   },
   "outputs": [],
   "source": [
    "import pandas as pd\n",
    "df = pd.read_csv('../data/hansard_archive/hansard_speeches_processed.csv')\n",
    "df = df.sample(n=50000, random_state = 42)"
   ]
  },
  {
   "cell_type": "code",
   "execution_count": null,
   "id": "fae3e603",
   "metadata": {},
   "outputs": [],
   "source": [
    "import sys\n",
    "sys.path.append('../gtm/')\n",
    "from corpus import GTMCorpus\n",
    "from gtm import GTM\n",
    "\n",
    "# Create a GTMCorpus object\n",
    "train_dataset = GTMCorpus(\n",
    "    df, \n",
    "    prevalence = \"~ party\", \n",
    "    content = \"~ party\",\n",
    "    vectorizer_args={'ngram_range':(1, 2)}\n",
    ")"
   ]
  },
  {
   "cell_type": "code",
   "execution_count": null,
   "id": "600e51b5",
   "metadata": {
    "scrolled": false
   },
   "outputs": [],
   "source": [
    "# Train the model\n",
    "tm = GTM(\n",
    "    train_dataset, \n",
    "    n_topics=10,\n",
    "    doc_topic_prior='dirichlet',\n",
    "    alpha=0.1,\n",
    "    update_prior=False,\n",
    "    num_epochs=10,\n",
    "    print_every=10000,\n",
    "    log_every=1,\n",
    "    w_prior=None,\n",
    "    batch_size=256\n",
    ")"
   ]
  },
  {
   "cell_type": "code",
   "execution_count": null,
   "id": "76e2c12b",
   "metadata": {},
   "outputs": [],
   "source": [
    "# Assess the quality of the learned word embeddings \n",
    "# Top 8 closest words to a specific word\n",
    "\n",
    "import torch\n",
    "import torch.nn.functional as F\n",
    "\n",
    "specific_word = 'crime'\n",
    "\n",
    "word_id = [i for i,w in enumerate(train_dataset.vocab) if w == specific_word][0]\n",
    "\n",
    "words = tm.AutoEncoder.decoder['dec_1'].weight.T\n",
    "\n",
    "logit = torch.matmul(words.T[word_id], words)\n",
    "\n",
    "beta = F.softmax(logit)\n",
    "\n",
    "tm.AutoEncoder.eval()\n",
    "topic_words = []\n",
    "vals, indices = torch.topk(beta, 8)\n",
    "vals = vals.cpu().tolist()\n",
    "indices = indices.cpu().tolist()\n",
    "[tm.id2token[idx] for idx in indices]"
   ]
  },
  {
   "cell_type": "code",
   "execution_count": null,
   "id": "12944952",
   "metadata": {},
   "outputs": [],
   "source": [
    "# Visualize the learned embeddings space \n",
    "\n",
    "# Topic, covariates, and word embeddings\n",
    "topics_and_covs = tm.AutoEncoder.decoder['dec_0'].weight.T\n",
    "words = tm.AutoEncoder.decoder['dec_1'].weight.T\n",
    "\n",
    "# Dimension reduction (PCA 50 components + UMAP 2 components)\n",
    "all_vecs = torch.cat([words.T, topics_and_covs], dim=0)\n",
    "all_vecs = all_vecs.cpu().detach().numpy()\n",
    "\n",
    "from sklearn.decomposition import PCA\n",
    "pca_args={\"n_components\": 50, \"svd_solver\": \"full\"}\n",
    "pca_model = PCA(**pca_args).fit(all_vecs)\n",
    "all_vecs = pca_model.transform(all_vecs)\n",
    "\n",
    "import umap\n",
    "umap_args={\"n_neighbors\": 15, \"n_components\": 2, \"random_state\": 0}\n",
    "umap_model = umap.umap_.UMAP(**umap_args).fit(all_vecs)\n",
    "\n",
    "# Plot resulting vectors\n",
    "import matplotlib.pyplot as plt\n",
    "plt.figure(dpi=80)\n",
    "\n",
    "words = words.T.cpu().detach().numpy()\n",
    "words = pca_model.transform(words)\n",
    "words = umap_model.transform(words)\n",
    "plt.scatter(\n",
    "    words[:,0],\n",
    "    words[:,1],\n",
    "    color=(0.5, 0.5, 1),\n",
    "    alpha=0.5,\n",
    ")\n",
    "\n",
    "topics = topics_and_covs.cpu().detach().numpy()\n",
    "topics = pca_model.transform(topics)\n",
    "topics = umap_model.transform(topics)\n",
    "plt.scatter(\n",
    "    topics[:,0],\n",
    "    topics[:,1],\n",
    "    color=(0, 0.5, 0.5),\n",
    "    alpha=1,\n",
    ")"
   ]
  },
  {
   "cell_type": "code",
   "execution_count": null,
   "id": "4fb81da9",
   "metadata": {},
   "outputs": [],
   "source": [
    "tm.prior.lambda_"
   ]
  },
  {
   "cell_type": "code",
   "execution_count": null,
   "id": "b53df888",
   "metadata": {},
   "outputs": [],
   "source": [
    "# tm.get_topic_correlations()"
   ]
  }
 ],
 "metadata": {
  "kernelspec": {
   "display_name": "Python 3 (ipykernel)",
   "language": "python",
   "name": "python3"
  },
  "language_info": {
   "codemirror_mode": {
    "name": "ipython",
    "version": 3
   },
   "file_extension": ".py",
   "mimetype": "text/x-python",
   "name": "python",
   "nbconvert_exporter": "python",
   "pygments_lexer": "ipython3",
   "version": "3.10.12"
  }
 },
 "nbformat": 4,
 "nbformat_minor": 5
}
