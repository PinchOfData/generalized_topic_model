{
 "cells": [
  {
   "cell_type": "code",
   "execution_count": null,
   "id": "729d6390",
   "metadata": {
    "scrolled": true
   },
   "outputs": [],
   "source": [
    "import pandas as pd\n",
    "df = pd.read_csv('../data/hansard_speeches_processed.csv')\n",
    "df = df.sample(n=50000, random_state = 42)\n",
    "\n",
    "import sys\n",
    "sys.path.append('../gtm/')\n",
    "from corpus import GTMCorpus\n",
    "from gtm import GTM\n",
    "\n",
    "# Create a GTMCorpus object\n",
    "train_dataset = GTMCorpus(\n",
    "    df, \n",
    "    prevalence = \"~ party\", \n",
    "    content = \"~ party\"\n",
    ")\n",
    "\n",
    "# Train the model\n",
    "tm = GTM(\n",
    "    train_dataset, \n",
    "    doc_topic_prior='dirichlet',\n",
    "    update_prior=True,\n",
    "    decoder_type='sage',\n",
    "    decoder_estimate_interactions=True,\n",
    "    num_epochs=10\n",
    ")"
   ]
  },
  {
   "cell_type": "code",
   "execution_count": null,
   "id": "5525e771",
   "metadata": {},
   "outputs": [],
   "source": [
    "# Most common words\n",
    "import torch\n",
    "from torch.nn import functional as F\n",
    "num_words = 8\n",
    "gamma = tm.AutoEncoder.beta.bias\n",
    "top_words = torch.topk(gamma, k=num_words, dim=0).indices.cpu().numpy().flatten()\n",
    "[tm.id2token[a] for a in top_words]"
   ]
  },
  {
   "cell_type": "code",
   "execution_count": null,
   "id": "017633d3",
   "metadata": {},
   "outputs": [],
   "source": [
    "# Labour Party deviation (for the whole corpus)\n",
    "from torch.nn import functional as F\n",
    "gamma = tm.AutoEncoder.beta_c.weight[:,1:2]\n",
    "top_words = torch.topk(gamma, k=num_words, dim=0).indices.cpu().numpy().flatten()\n",
    "[tm.id2token[a] for a in top_words]"
   ]
  },
  {
   "cell_type": "code",
   "execution_count": null,
   "id": "32b90766",
   "metadata": {},
   "outputs": [],
   "source": [
    "# Labour Party deviation (for each topic)\n",
    "for k in range(20):\n",
    "    gamma = tm.AutoEncoder.beta_ci.weight[:,k*2+1]\n",
    "    top_words = torch.topk(gamma, k=num_words, dim=0).indices.cpu().numpy().flatten()\n",
    "    print([tm.id2token[a] for a in top_words])"
   ]
  }
 ],
 "metadata": {
  "kernelspec": {
   "display_name": "Python 3 (ipykernel)",
   "language": "python",
   "name": "python3"
  },
  "language_info": {
   "codemirror_mode": {
    "name": "ipython",
    "version": 3
   },
   "file_extension": ".py",
   "mimetype": "text/x-python",
   "name": "python",
   "nbconvert_exporter": "python",
   "pygments_lexer": "ipython3",
   "version": "3.10.6"
  }
 },
 "nbformat": 4,
 "nbformat_minor": 5
}
