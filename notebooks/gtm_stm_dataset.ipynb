{
 "cells": [
  {
   "cell_type": "code",
   "execution_count": null,
   "id": "ad8690db",
   "metadata": {},
   "outputs": [],
   "source": [
    "import pandas as pd \n",
    "df = pd.read_csv('../data/stm_datasets/poliblogs2008.csv')\n",
    "df['doc'] = df['documents']\n",
    "df"
   ]
  },
  {
   "cell_type": "code",
   "execution_count": null,
   "id": "0251ca99",
   "metadata": {},
   "outputs": [],
   "source": [
    "import sys\n",
    "sys.path.append('../gtm/')\n",
    "\n",
    "from utils import text_processor\n",
    "p = text_processor('en_core_web_sm', pos_tags_to_keep = ['VERB', 'NOUN'])\n",
    "df['doc_clean'] = p.process_docs(df['doc'])"
   ]
  },
  {
   "cell_type": "code",
   "execution_count": null,
   "id": "a17f8ee3",
   "metadata": {},
   "outputs": [],
   "source": [
    "from corpus import GTMCorpus\n",
    "\n",
    "# Create a GTMCorpus object\n",
    "train_dataset = GTMCorpus(\n",
    "    df, \n",
    "    prevalence = \"~ rating\", # + C(speech_year) \n",
    "    content = \"~ rating\" # + C(speech_year)\n",
    ")\n",
    "\n",
    "train_dataset.M_prevalence_covariates.shape"
   ]
  },
  {
   "cell_type": "code",
   "execution_count": null,
   "id": "051f0bad",
   "metadata": {
    "scrolled": true
   },
   "outputs": [],
   "source": [
    "from gtm import GTM\n",
    "\n",
    "# Train the model\n",
    "tm = GTM(\n",
    "    train_dataset, \n",
    "    n_topics=20,\n",
    "    doc_topic_prior='dirichlet', # logistic_normal\n",
    "    alpha=0.1,\n",
    "    prevalence_covariates_regularization=0.1,\n",
    "    update_prior=True,\n",
    "    encoder_hidden_layers=[], # structure of the encoder neural net\n",
    "    decoder_hidden_layers=[300], # structure of the decoder neural net\n",
    "    num_epochs=2,\n",
    "    print_every=10000,\n",
    "    log_every=1,\n",
    "    w_prior=None,\n",
    "    batch_size=250\n",
    ")"
   ]
  },
  {
   "cell_type": "code",
   "execution_count": null,
   "id": "84cf8944",
   "metadata": {},
   "outputs": [],
   "source": [
    "tm.plot_wordcloud(topic_id = 18)"
   ]
  },
  {
   "cell_type": "code",
   "execution_count": null,
   "id": "f832844b",
   "metadata": {},
   "outputs": [],
   "source": [
    "# Assess the quality of the learned word embeddings \n",
    "# Top 8 closest words to a specific word\n",
    "\n",
    "import torch\n",
    "import torch.nn.functional as F\n",
    "\n",
    "specific_word = 'tax'\n",
    "\n",
    "word_id = [i for i,w in enumerate(train_dataset.vocab) if w == specific_word][0]\n",
    "\n",
    "words = tm.AutoEncoder.decoder['dec_1'].weight.T\n",
    "\n",
    "logit = torch.matmul(words.T[word_id], words)\n",
    "\n",
    "beta = F.softmax(logit)\n",
    "\n",
    "tm.AutoEncoder.eval()\n",
    "topic_words = []\n",
    "vals, indices = torch.topk(beta, 8)\n",
    "vals = vals.cpu().tolist()\n",
    "indices = indices.cpu().tolist()\n",
    "[tm.id2token[idx] for idx in indices]"
   ]
  },
  {
   "cell_type": "code",
   "execution_count": null,
   "id": "453791b7",
   "metadata": {
    "scrolled": true
   },
   "outputs": [],
   "source": [
    "dfc = tm.estimate_effect(train_dataset, n_samples=10, topic_ids=None)\n",
    "dfc"
   ]
  },
  {
   "cell_type": "code",
   "execution_count": null,
   "id": "9bcfac72",
   "metadata": {},
   "outputs": [],
   "source": [
    "import statsmodels.api as sm\n",
    "Y = tm.get_doc_topic_distribution(train_dataset)\n",
    "X = train_dataset.M_prevalence_covariates\n",
    "model = sm.OLS(Y[:,1],X)\n",
    "results = model.fit()\n",
    "covs = train_dataset.prevalence_colnames\n",
    "pd.DataFrame([covs, results.params])"
   ]
  },
  {
   "cell_type": "code",
   "execution_count": null,
   "id": "9b8d0547",
   "metadata": {},
   "outputs": [],
   "source": [
    "tm.get_top_docs(train_dataset, topic_id = 10)"
   ]
  },
  {
   "cell_type": "code",
   "execution_count": null,
   "id": "28c485b6",
   "metadata": {},
   "outputs": [],
   "source": [
    "tm.prior.prevalence_covariates_size"
   ]
  },
  {
   "cell_type": "code",
   "execution_count": null,
   "id": "a0c72ca3",
   "metadata": {},
   "outputs": [],
   "source": [
    "tm.prior.sample(N=X.shape[0], M_prevalence_covariates = X, epoch = 10)[0]"
   ]
  }
 ],
 "metadata": {
  "kernelspec": {
   "display_name": "Python 3 (ipykernel)",
   "language": "python",
   "name": "python3"
  },
  "language_info": {
   "codemirror_mode": {
    "name": "ipython",
    "version": 3
   },
   "file_extension": ".py",
   "mimetype": "text/x-python",
   "name": "python",
   "nbconvert_exporter": "python",
   "pygments_lexer": "ipython3",
   "version": "3.10.12"
  }
 },
 "nbformat": 4,
 "nbformat_minor": 5
}
