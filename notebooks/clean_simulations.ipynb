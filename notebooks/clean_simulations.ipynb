{
 "cells": [
  {
   "cell_type": "code",
   "execution_count": 1,
   "id": "ae6da6d8",
   "metadata": {},
   "outputs": [
    {
     "name": "stderr",
     "output_type": "stream",
     "text": [
      "/home/germain/Documents/topic models/generalized_topic_model/venv/lib/python3.10/site-packages/tqdm/auto.py:21: TqdmWarning: IProgress not found. Please update jupyter and ipywidgets. See https://ipywidgets.readthedocs.io/en/stable/user_install.html\n",
      "  from .autonotebook import tqdm as notebook_tqdm\n",
      "/home/germain/Documents/topic models/generalized_topic_model/venv/lib/python3.10/site-packages/umap/distances.py:1063: NumbaDeprecationWarning: The 'nopython' keyword argument was not supplied to the 'numba.jit' decorator. The implicit default value for this argument is currently False, but it will be changed to True in Numba 0.59.0. See https://numba.readthedocs.io/en/stable/reference/deprecation.html#deprecation-of-object-mode-fall-back-behaviour-when-using-jit for details.\n",
      "  @numba.jit()\n",
      "/home/germain/Documents/topic models/generalized_topic_model/venv/lib/python3.10/site-packages/umap/distances.py:1071: NumbaDeprecationWarning: The 'nopython' keyword argument was not supplied to the 'numba.jit' decorator. The implicit default value for this argument is currently False, but it will be changed to True in Numba 0.59.0. See https://numba.readthedocs.io/en/stable/reference/deprecation.html#deprecation-of-object-mode-fall-back-behaviour-when-using-jit for details.\n",
      "  @numba.jit()\n",
      "/home/germain/Documents/topic models/generalized_topic_model/venv/lib/python3.10/site-packages/umap/distances.py:1086: NumbaDeprecationWarning: The 'nopython' keyword argument was not supplied to the 'numba.jit' decorator. The implicit default value for this argument is currently False, but it will be changed to True in Numba 0.59.0. See https://numba.readthedocs.io/en/stable/reference/deprecation.html#deprecation-of-object-mode-fall-back-behaviour-when-using-jit for details.\n",
      "  @numba.jit()\n",
      "/home/germain/Documents/topic models/generalized_topic_model/venv/lib/python3.10/site-packages/umap/umap_.py:660: NumbaDeprecationWarning: The 'nopython' keyword argument was not supplied to the 'numba.jit' decorator. The implicit default value for this argument is currently False, but it will be changed to True in Numba 0.59.0. See https://numba.readthedocs.io/en/stable/reference/deprecation.html#deprecation-of-object-mode-fall-back-behaviour-when-using-jit for details.\n",
      "  @numba.jit()\n"
     ]
    }
   ],
   "source": [
    "import sys\n",
    "sys.path.append('../gtm/')\n",
    "sys.path.append('../simulation/')\n",
    "import matplotlib.pyplot as plt\n",
    "import numpy as np\n",
    "from scipy.optimize import linear_sum_assignment\n",
    "from random import random\n",
    "import torch\n",
    "import pandas as pd\n",
    "from tqdm import tqdm\n",
    "from corpus import GTMCorpus\n",
    "from gtm import GTM\n",
    "from simulations import generate_docs_by_lda"
   ]
  },
  {
   "cell_type": "code",
   "execution_count": 2,
   "id": "4685b313",
   "metadata": {
    "scrolled": false
   },
   "outputs": [
    {
     "name": "stderr",
     "output_type": "stream",
     "text": [
      "/home/germain/Documents/topic models/generalized_topic_model/notebooks/../simulation/simulations.py:68: RuntimeWarning: covariance is not symmetric positive-semidefinite.\n",
      "  sample = np.random.multivariate_normal(mean, sigma)\n"
     ]
    },
    {
     "name": "stdout",
     "output_type": "stream",
     "text": [
      "0\n"
     ]
    },
    {
     "name": "stderr",
     "output_type": "stream",
     "text": [
      "100%|██████████████████████████████████████████████████████████████████████████████████████████████████████████████████████████████| 10000/10000 [03:00<00:00, 55.31it/s]\n"
     ]
    },
    {
     "name": "stdout",
     "output_type": "stream",
     "text": [
      "\n",
      "Epoch   1\tMean Training Loss:1337.5316240\n",
      "\n",
      "Topic_0: ['word_98', 'word_82', 'word_38', 'word_79', 'word_49', 'word_22', 'word_74', 'word_59']\n",
      "Topic_1: ['word_16', 'word_91', 'word_97', 'word_53', 'word_28', 'word_79', 'word_48', 'word_62']\n",
      "Topic_2: ['word_9', 'word_88', 'word_39', 'word_82', 'word_38', 'word_84', 'word_30', 'word_18']\n",
      "\n",
      "\n",
      "\n",
      "Epoch   2\tMean Training Loss:1140.1306351\n",
      "\n",
      "Topic_0: ['word_98', 'word_49', 'word_82', 'word_38', 'word_79', 'word_22', 'word_42', 'word_74']\n",
      "Topic_1: ['word_16', 'word_53', 'word_91', 'word_79', 'word_15', 'word_33', 'word_42', 'word_47']\n",
      "Topic_2: ['word_9', 'word_82', 'word_30', 'word_84', 'word_38', 'word_39', 'word_88', 'word_16']\n",
      "\n",
      "\n",
      "\n",
      "Epoch   3\tMean Training Loss:1129.1989124\n",
      "\n",
      "Topic_0: ['word_98', 'word_49', 'word_38', 'word_79', 'word_82', 'word_42', 'word_34', 'word_53']\n",
      "Topic_1: ['word_16', 'word_53', 'word_15', 'word_79', 'word_47', 'word_42', 'word_91', 'word_33']\n",
      "Topic_2: ['word_9', 'word_30', 'word_84', 'word_82', 'word_38', 'word_16', 'word_87', 'word_39']\n",
      "\n",
      "\n",
      "\n",
      "Epoch   4\tMean Training Loss:1078.7517214\n",
      "\n",
      "Topic_0: ['word_49', 'word_98', 'word_79', 'word_38', 'word_42', 'word_34', 'word_82', 'word_53']\n",
      "Topic_1: ['word_16', 'word_53', 'word_15', 'word_47', 'word_79', 'word_42', 'word_30', 'word_87']\n",
      "Topic_2: ['word_9', 'word_30', 'word_84', 'word_16', 'word_38', 'word_82', 'word_87', 'word_25']\n",
      "\n",
      "\n",
      "\n",
      "Epoch   5\tMean Training Loss:1072.2320879\n",
      "\n",
      "Topic_0: ['word_49', 'word_98', 'word_34', 'word_42', 'word_53', 'word_87', 'word_79', 'word_38']\n",
      "Topic_1: ['word_16', 'word_53', 'word_15', 'word_47', 'word_79', 'word_30', 'word_42', 'word_25']\n",
      "Topic_2: ['word_9', 'word_30', 'word_84', 'word_16', 'word_87', 'word_25', 'word_38', 'word_82']\n",
      "\n",
      "\n",
      "\n",
      "Epoch   6\tMean Training Loss:1037.7833186\n",
      "\n",
      "Topic_0: ['word_49', 'word_98', 'word_34', 'word_53', 'word_42', 'word_25', 'word_87', 'word_38']\n",
      "Topic_1: ['word_16', 'word_53', 'word_15', 'word_47', 'word_25', 'word_30', 'word_79', 'word_42']\n",
      "Topic_2: ['word_9', 'word_30', 'word_84', 'word_16', 'word_25', 'word_87', 'word_53', 'word_47']\n",
      "\n",
      "\n",
      "\n",
      "Epoch   7\tMean Training Loss:1040.6475344\n",
      "\n",
      "Topic_0: ['word_49', 'word_98', 'word_34', 'word_25', 'word_53', 'word_87', 'word_42', 'word_9']\n",
      "Topic_1: ['word_53', 'word_16', 'word_15', 'word_47', 'word_25', 'word_30', 'word_87', 'word_79']\n",
      "Topic_2: ['word_30', 'word_9', 'word_25', 'word_84', 'word_16', 'word_87', 'word_53', 'word_47']\n",
      "\n",
      "\n",
      "Early stopping at Epoch 7. Reverting to Epoch 6\n",
      "finished 3 topics' simulation\n",
      "\n"
     ]
    }
   ],
   "source": [
    "cossim_list = []\n",
    "true_doc_topic_list = []\n",
    "estimated_doc_topic_list = []\n",
    "\n",
    "doc_topic_prior = 'logistic_normal'\n",
    "update_prior = True\n",
    "num_epochs = 100\n",
    "num_iter = 1\n",
    "num_jobs = 4\n",
    "num_topics = 3\n",
    "num_covs = 1\n",
    "num_docs = 50000\n",
    "min_words = 200\n",
    "max_words = 300\n",
    "voc_size = 100\n",
    "\n",
    "np.random.seed(42)\n",
    "lambda_ = np.array(\n",
    "    [[ 0,0.5,0.3],\n",
    "    [ 0,-0.5,-0.4]])\n",
    "sqrt_sigma = np.random.rand(num_topics, num_topics)\n",
    "sigma = sqrt_sigma * sqrt_sigma.T\n",
    "\n",
    "dict_betas = {}\n",
    "for i in range(num_topics):\n",
    "    dict_betas[i] = {}\n",
    "    for c in range(num_covs+1):\n",
    "        dict_betas[i][c] = []\n",
    "\n",
    "for i in range(num_iter):\n",
    "    \n",
    "    print(i)\n",
    "    \n",
    "    gtm_model_args = {\n",
    "        \"n_topics\": num_topics,\n",
    "        \"num_epochs\":num_epochs,\n",
    "        \"update_prior\": update_prior,\n",
    "        \"doc_topic_prior\": doc_topic_prior,\n",
    "        \"seed\":42,\n",
    "        \"tol\":0.000000000000000000001\n",
    "        }\n",
    "    \n",
    "    df_true_dist_list_gtm, df_test = generate_docs_by_lda(\n",
    "        num_docs, \n",
    "        num_topics, \n",
    "        num_covs, \n",
    "        doc_topic_prior, \n",
    "        lambda_, \n",
    "        sigma,\n",
    "        min_words, \n",
    "        max_words, \n",
    "        voc_size, \n",
    "        num_jobs,\n",
    "        seed=i\n",
    "    )  \n",
    "    \n",
    "    test_dataset = GTMCorpus(\n",
    "        df_test,\n",
    "        prevalence = \"~ cov_0 + cov_1 - 1\"\n",
    "    )\n",
    "    tm_test = GTM(\n",
    "        train_data = test_dataset,\n",
    "        **gtm_model_args\n",
    "    )\n",
    "    df_doc_topic_gtm = pd.DataFrame(\n",
    "            tm_test.get_doc_topic_distribution(test_dataset),\n",
    "            index=[\"Doc{}\".format(i) for i in range(num_docs)],\n",
    "            columns=[\"Topic{}\".format(i) for i in range(num_topics)],\n",
    "        )\n",
    "    true_df = df_true_dist_list_gtm[0]\n",
    "    estimated_df = df_doc_topic_gtm\n",
    "\n",
    "    ### matching the columns of estimated doc_topic dist with those of true doc_topic dist by maximizing dot-product\n",
    "    score_list = []\n",
    "    for true_col in true_df.columns:\n",
    "        true_target_col = true_df.loc[:, true_col]\n",
    "        score_list_per_row = []\n",
    "        for col in estimated_df.columns:\n",
    "            target_col = estimated_df.loc[:, col]\n",
    "            score_list_per_row.append(np.dot(target_col, true_target_col))\n",
    "        score_list.append(score_list_per_row)\n",
    "    corres_num_topic_dict_gtm = {}\n",
    "    corres_num_topic_dict_gtm_bis = {}\n",
    "    score_matrix = pd.DataFrame(score_list)\n",
    "    true_topics, estimated_topics = linear_sum_assignment(-score_matrix)\n",
    "    for true_topic, estimated_topic in zip(true_topics, estimated_topics):\n",
    "        corres_num_topic_dict_gtm[\"Topic{}\".format(true_topic)] = \"Topic{}\".format(\n",
    "            estimated_topic\n",
    "        )\n",
    "        corres_num_topic_dict_gtm_bis[true_topic] = estimated_topic\n",
    "    reanged_df_gtm = estimated_df.loc[:, corres_num_topic_dict_gtm.values()]\n",
    "    reanged_df_gtm.columns = corres_num_topic_dict_gtm.keys()\n",
    "\n",
    "    true_doc_topic_list.append(true_df)\n",
    "    estimated_doc_topic_list.append(reanged_df_gtm)\n",
    "\n",
    "    lambda_hat = tm_test.prior.lambda_\n",
    "    lambda_hat = lambda_hat - lambda_hat[:, corres_num_topic_dict_gtm_bis[0]][:, None]\n",
    "\n",
    "    for i in range(num_topics):\n",
    "        for c in range(num_covs+1):\n",
    "            dict_betas[i][c] = dict_betas[i][c] + [lambda_hat[c, corres_num_topic_dict_gtm_bis[i]]]    \n",
    "\n",
    "    ### calculating the cossim scores between true and estimated doc_topic dist\n",
    "    cossim_score_gtm = []\n",
    "    for col in true_df.columns:\n",
    "        inner_res = []\n",
    "        series_1 = true_df.loc[:, col]\n",
    "        series_2 = reanged_df_gtm.loc[:, col]\n",
    "        cossim_score_gtm.append(\n",
    "            np.dot(series_1.T, series_2)\n",
    "            / (np.linalg.norm(series_1) * np.linalg.norm(series_2)))\n",
    "    cossim_list.append(cossim_score_gtm)\n",
    "    print(\"finished {} topics' simulation\".format(num_topics))\n",
    "    print()"
   ]
  },
  {
   "cell_type": "code",
   "execution_count": 3,
   "id": "0ef40260",
   "metadata": {},
   "outputs": [
    {
     "data": {
      "text/plain": [
       "array([[ 0. ,  0.5,  0.3],\n",
       "       [ 0. , -0.5, -0.4]])"
      ]
     },
     "execution_count": 3,
     "metadata": {},
     "output_type": "execute_result"
    }
   ],
   "source": [
    "lambda_"
   ]
  },
  {
   "cell_type": "code",
   "execution_count": 4,
   "id": "95f970ce",
   "metadata": {},
   "outputs": [
    {
     "data": {
      "text/plain": [
       "tensor([[-0.3930,  0.0000,  0.6356],\n",
       "        [-0.0196,  0.0000, -0.0451]], device='cuda:0')"
      ]
     },
     "execution_count": 4,
     "metadata": {},
     "output_type": "execute_result"
    }
   ],
   "source": [
    "lambda_hat"
   ]
  },
  {
   "cell_type": "code",
   "execution_count": 5,
   "id": "c7e3ea76",
   "metadata": {
    "scrolled": false
   },
   "outputs": [
    {
     "name": "stderr",
     "output_type": "stream",
     "text": [
      "/home/germain/Documents/topic models/generalized_topic_model/venv/lib/python3.10/site-packages/matplotlib/axes/_axes.py:1185: RuntimeWarning: All-NaN axis encountered\n",
      "  miny = np.nanmin(masked_verts[..., 1])\n",
      "/home/germain/Documents/topic models/generalized_topic_model/venv/lib/python3.10/site-packages/matplotlib/axes/_axes.py:1186: RuntimeWarning: All-NaN axis encountered\n",
      "  maxy = np.nanmax(masked_verts[..., 1])\n"
     ]
    },
    {
     "data": {
      "image/png": "[encoded data removed]",
      "text/plain": [
       "<Figure size 1000x500 with 1 Axes>"
      ]
     },
     "metadata": {},
     "output_type": "display_data"
    }
   ],
   "source": [
    "fig = plt.figure(figsize=(10,5),facecolor=\"white\", tight_layout=True)\n",
    "ax = fig.add_subplot(1, 1, 1,xlabel=\"Topic\", ylabel=\"Cosine Similarity\")\n",
    "df_score_res = pd.DataFrame(cossim_list,index=[\"Iter_{}\".format(i) for i in range(num_iter)])\n",
    "x = np.array(range(num_topics))\n",
    "ax.set_xticks(x)\n",
    "mean = df_score_res.mean(axis=0)\n",
    "std = df_score_res.std(axis=0)\n",
    "ax.bar(x, mean, yerr=std)\n",
    "plt.savefig('doc_topic_proportions.png')"
   ]
  },
  {
   "cell_type": "code",
   "execution_count": 6,
   "id": "6ed4ef4a",
   "metadata": {},
   "outputs": [
    {
     "name": "stdout",
     "output_type": "stream",
     "text": [
      "Topic 0 | Cov 1\n",
      "True Value: 0.0 | Mean: 0.0 | SE: 0.0\n",
      "\n",
      "\n",
      "Topic 0 | Cov 2\n",
      "True Value: 0.0 | Mean: 0.0 | SE: 0.0\n",
      "\n",
      "\n",
      "Topic 1 | Cov 1\n",
      "True Value: 0.5 | Mean: 0.6355737447738647 | SE: 0.0\n",
      "\n",
      "\n",
      "Topic 1 | Cov 2\n",
      "True Value: -0.5 | Mean: -0.0450863391160965 | SE: 0.0\n",
      "\n",
      "\n",
      "Topic 2 | Cov 1\n",
      "True Value: 0.3 | Mean: -0.3930400311946869 | SE: 0.0\n",
      "\n",
      "\n",
      "Topic 2 | Cov 2\n",
      "True Value: -0.4 | Mean: -0.01963922381401062 | SE: 0.0\n",
      "\n",
      "\n"
     ]
    }
   ],
   "source": [
    "for i in range(num_topics):\n",
    "    for c in range(num_covs+1):\n",
    "#        data = dict_betas[i][c]\n",
    "        data = [i.cpu().numpy() for i in dict_betas[i][c]]\n",
    "        true_value = lambda_[c,i]\n",
    "        mean = np.mean(data)\n",
    "        se = np.std(data)\n",
    "        print(\"Topic {} | Cov {}\".format(i,c+1))\n",
    "        print(\"True Value: {} | Mean: {} | SE: {}\".format(\n",
    "            true_value,\n",
    "            mean,\n",
    "            se))\n",
    "        print('\\n')"
   ]
  },
  {
   "cell_type": "code",
   "execution_count": null,
   "id": "02b70f93",
   "metadata": {},
   "outputs": [],
   "source": [
    "import numpy as np\n",
    "import matplotlib.pyplot as plt\n",
    "\n",
    "fig, axes = plt.subplots(num_topics-1, num_covs + 1, figsize=(15, 10))\n",
    "\n",
    "for i in range(1,num_topics):\n",
    "    for c in range(num_covs + 1):\n",
    "#        data = dict_betas[i][c]\n",
    "        data = [i.cpu().numpy() for i in dict_betas[i][c]]\n",
    "        mean = np.mean(data)\n",
    "        se = np.std(data)\n",
    "        ax = axes[i-1, c]\n",
    "        ax.hist(data, bins=30, alpha=1, color='lightblue', label='Mean = {:.2f}, SE = {:.2f}'.format(mean,se))\n",
    "        vertical_line_value = round(lambda_[c, i], 2)  \n",
    "        ax.axvline(x=vertical_line_value, color='black', linestyle='dashed', linewidth=1,\n",
    "                   label='True Value = {}'.format(vertical_line_value))\n",
    "        ax.set_xlabel('Estimates')\n",
    "        ax.set_ylabel('Frequency')\n",
    "        ax.legend()\n",
    "\n",
    "# Adjust layout\n",
    "plt.tight_layout()\n",
    "\n",
    "# Save the figure\n",
    "plt.savefig('monte_carlos_barplots.png')"
   ]
  },
  {
   "cell_type": "code",
   "execution_count": 7,
   "id": "dcf79c41",
   "metadata": {},
   "outputs": [
    {
     "ename": "ValueError",
     "evalue": "`dataset` input should have multiple elements.",
     "output_type": "error",
     "traceback": [
      "\u001b[0;31m---------------------------------------------------------------------------\u001b[0m",
      "\u001b[0;31mValueError\u001b[0m                                Traceback (most recent call last)",
      "Cell \u001b[0;32mIn[7], line 13\u001b[0m\n\u001b[1;32m     11\u001b[0m mean \u001b[38;5;241m=\u001b[39m np\u001b[38;5;241m.\u001b[39mmean(data)\n\u001b[1;32m     12\u001b[0m se \u001b[38;5;241m=\u001b[39m np\u001b[38;5;241m.\u001b[39mstd(data)\n\u001b[0;32m---> 13\u001b[0m kde \u001b[38;5;241m=\u001b[39m \u001b[43mgaussian_kde\u001b[49m\u001b[43m(\u001b[49m\u001b[43mdata\u001b[49m\u001b[43m)\u001b[49m\n\u001b[1;32m     14\u001b[0m x \u001b[38;5;241m=\u001b[39m np\u001b[38;5;241m.\u001b[39mlinspace(\u001b[38;5;28mmin\u001b[39m(data) \u001b[38;5;241m-\u001b[39m \u001b[38;5;241m1\u001b[39m, \u001b[38;5;28mmax\u001b[39m(data) \u001b[38;5;241m+\u001b[39m \u001b[38;5;241m1\u001b[39m, \u001b[38;5;241m1000\u001b[39m)\n\u001b[1;32m     15\u001b[0m ax \u001b[38;5;241m=\u001b[39m axes[i\u001b[38;5;241m-\u001b[39m\u001b[38;5;241m1\u001b[39m, c]\n",
      "File \u001b[0;32m~/Documents/topic models/generalized_topic_model/venv/lib/python3.10/site-packages/scipy/stats/_kde.py:199\u001b[0m, in \u001b[0;36mgaussian_kde.__init__\u001b[0;34m(self, dataset, bw_method, weights)\u001b[0m\n\u001b[1;32m    197\u001b[0m \u001b[38;5;28mself\u001b[39m\u001b[38;5;241m.\u001b[39mdataset \u001b[38;5;241m=\u001b[39m atleast_2d(asarray(dataset))\n\u001b[1;32m    198\u001b[0m \u001b[38;5;28;01mif\u001b[39;00m \u001b[38;5;129;01mnot\u001b[39;00m \u001b[38;5;28mself\u001b[39m\u001b[38;5;241m.\u001b[39mdataset\u001b[38;5;241m.\u001b[39msize \u001b[38;5;241m>\u001b[39m \u001b[38;5;241m1\u001b[39m:\n\u001b[0;32m--> 199\u001b[0m     \u001b[38;5;28;01mraise\u001b[39;00m \u001b[38;5;167;01mValueError\u001b[39;00m(\u001b[38;5;124m\"\u001b[39m\u001b[38;5;124m`dataset` input should have multiple elements.\u001b[39m\u001b[38;5;124m\"\u001b[39m)\n\u001b[1;32m    201\u001b[0m \u001b[38;5;28mself\u001b[39m\u001b[38;5;241m.\u001b[39md, \u001b[38;5;28mself\u001b[39m\u001b[38;5;241m.\u001b[39mn \u001b[38;5;241m=\u001b[39m \u001b[38;5;28mself\u001b[39m\u001b[38;5;241m.\u001b[39mdataset\u001b[38;5;241m.\u001b[39mshape\n\u001b[1;32m    203\u001b[0m \u001b[38;5;28;01mif\u001b[39;00m weights \u001b[38;5;129;01mis\u001b[39;00m \u001b[38;5;129;01mnot\u001b[39;00m \u001b[38;5;28;01mNone\u001b[39;00m:\n",
      "\u001b[0;31mValueError\u001b[0m: `dataset` input should have multiple elements."
     ]
    },
    {
     "data": {
      "image/png": "[encoded data removed]",
      "text/plain": [
       "<Figure size 1500x1000 with 4 Axes>"
      ]
     },
     "metadata": {},
     "output_type": "display_data"
    }
   ],
   "source": [
    "import numpy as np\n",
    "import matplotlib.pyplot as plt\n",
    "from scipy.stats import gaussian_kde\n",
    "\n",
    "fig, axes = plt.subplots(num_topics-1, num_covs + 1, figsize=(15, 10))\n",
    "\n",
    "for i in range(1,num_topics):\n",
    "    for c in range(num_covs + 1):\n",
    "#        data = dict_betas[i][c]\n",
    "        data = [i.cpu().numpy() for i in dict_betas[i][c]]\n",
    "        mean = np.mean(data)\n",
    "        se = np.std(data)\n",
    "        kde = gaussian_kde(data)\n",
    "        x = np.linspace(min(data) - 1, max(data) + 1, 1000)\n",
    "        ax = axes[i-1, c]\n",
    "        ax.fill_between(x, kde(x), alpha=1, color='lightblue', label='Mean = {:.2f}, SE = {:.2f}'.format(mean,se))\n",
    "        vertical_line_value = round(lambda_[c, i], 2)  \n",
    "        ax.axvline(x=vertical_line_value, color='black', linestyle='dashed', linewidth=1,\n",
    "                   label='True Value = {}'.format(vertical_line_value))\n",
    "        ax.set_xlabel('Estimates')\n",
    "        ax.set_ylabel('Density')\n",
    "        ax.legend()\n",
    "\n",
    "# Adjust layout\n",
    "plt.tight_layout()\n",
    "\n",
    "# Save the figure\n",
    "plt.savefig('monte_carlos_kde_plots.png')"
   ]
  }
 ],
 "metadata": {
  "kernelspec": {
   "display_name": "Python 3 (ipykernel)",
   "language": "python",
   "name": "python3"
  },
  "language_info": {
   "codemirror_mode": {
    "name": "ipython",
    "version": 3
   },
   "file_extension": ".py",
   "mimetype": "text/x-python",
   "name": "python",
   "nbconvert_exporter": "python",
   "pygments_lexer": "ipython3",
   "version": "3.10.12"
  }
 },
 "nbformat": 4,
 "nbformat_minor": 5
}
