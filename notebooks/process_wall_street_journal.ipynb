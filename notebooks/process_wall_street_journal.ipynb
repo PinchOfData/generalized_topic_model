{
 "cells": [
  {
   "cell_type": "code",
   "execution_count": null,
   "id": "9002439f",
   "metadata": {},
   "outputs": [],
   "source": [
    "from glob import glob\n",
    "from tqdm import tqdm\n",
    "import pandas as pd \n",
    "import csv\n",
    "import sys\n",
    "\n",
    "i = int(sys.argv[1])\n",
    "\n",
    "filenames = glob('../data/wall_street_journal/*')   \n",
    "\n",
    "with open('../data/wall_street_journal/WSJ_articles_0_999.csv', \"w\", newline=\"\") as csvfile:\n",
    "    fieldnames = [\"GOID\",\"Date\",\"doc\"]\n",
    "    writer = csv.writer(csvfile)\n",
    "    writer.writerow(fieldnames)\n",
    "    for file in tqdm(filenames[(i-1)*1000:(i+1)*1000]):\n",
    "        df = pd.read_csv(file, compression='gzip')\n",
    "        list_of_dicts = df.to_dict('records')\n",
    "        for d in list_of_dicts:\n",
    "            doc = []\n",
    "            for key, value in d.items():\n",
    "                if key not in ['GOID', 'Date']:\n",
    "                    if value > 0:\n",
    "                        for i in range(value):\n",
    "                            doc.append(key)\n",
    "            d['doc'] = ' '.join(doc)\n",
    "            writer.writerow([d['GOID'], d['Date'], d['doc']])           "
   ]
  }
 ],
 "metadata": {
  "kernelspec": {
   "display_name": "Python 3 (ipykernel)",
   "language": "python",
   "name": "python3"
  },
  "language_info": {
   "codemirror_mode": {
    "name": "ipython",
    "version": 3
   },
   "file_extension": ".py",
   "mimetype": "text/x-python",
   "name": "python",
   "nbconvert_exporter": "python",
   "pygments_lexer": "ipython3",
   "version": "3.10.12"
  }
 },
 "nbformat": 4,
 "nbformat_minor": 5
}
