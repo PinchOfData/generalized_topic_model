{
 "cells": [
  {
   "cell_type": "code",
   "execution_count": null,
   "id": "f5550a6c",
   "metadata": {
    "scrolled": false
   },
   "outputs": [],
   "source": [
    "import pandas as pd\n",
    "df = pd.read_csv('../data/us_congressional_record/us_congress_speeches_processed.csv')\n",
    "df = df.sample(n=50000,random_state=42)\n",
    "\n",
    "import numpy as np\n",
    "df['random'] = np.random.normal(size = len(df.index))\n",
    "\n",
    "train = df.sample(frac=0.9,random_state=42)\n",
    "test = df.drop(train.index).reset_index(drop=True)\n",
    "train = train.reset_index(drop=True)"
   ]
  },
  {
   "cell_type": "code",
   "execution_count": null,
   "id": "a5738081",
   "metadata": {},
   "outputs": [],
   "source": [
    "import sys\n",
    "sys.path.append('../gtm/')\n",
    "from corpus import GTMCorpus\n",
    "from gtm import GTM\n",
    "\n",
    "# Create a GTMCorpus objects (one train and one test set to avoid overfitting the supervised learning algorithm)\n",
    "train_dataset = GTMCorpus(\n",
    "    train, # Must contain a column 'doc' with the text of each document and a column 'doc_clean' with the cleaned text of each document.\n",
    "    labels = \"~party-1\", # The features to predict. Would be \"~ gdp\" if the df has a column 'gdp'.\n",
    "    content = \"~1\",\n",
    "    prediction = \"~random-1\",\n",
    ")\n",
    "\n",
    "test_dataset = GTMCorpus(\n",
    "    test, \n",
    "    labels = \"~party-1\", \n",
    "    content = \"~1\",\n",
    "    prediction = \"~random-1\",\n",
    "    vectorizer = train_dataset.vectorizer # pass on the same vectorizer as for the training set (this ensures the document term matrices have the same number of dimensions)\n",
    ")"
   ]
  },
  {
   "cell_type": "code",
   "execution_count": null,
   "id": "3ad3fd84",
   "metadata": {},
   "outputs": [],
   "source": [
    "import numpy as np\n",
    "train_dataset.M_labels = np.delete(train_dataset.M_labels, -0, axis=1)\n",
    "test_dataset.M_labels = np.delete(test_dataset.M_labels, -0, axis=1)"
   ]
  },
  {
   "cell_type": "code",
   "execution_count": null,
   "id": "3aaf0b08",
   "metadata": {
    "scrolled": false
   },
   "outputs": [],
   "source": [
    "# Train the model\n",
    "tm = GTM(\n",
    "    train_dataset, \n",
    "    test_dataset,\n",
    "    n_topics=20,\n",
    "    doc_topic_prior='dirichlet', # other option is \"logistic_normal\"\n",
    "    update_prior=False, # no prevalence covariates so no need to update the prior\n",
    "    alpha=0.1, # sparsity of the dirichlet prior\n",
    "    encoder_hidden_layers=[], # structure of the encoder neural net\n",
    "    decoder_hidden_layers=[300], # structure of the decoder neural net\n",
    "    predictor_hidden_layers=[],\n",
    "    predictor_type='classifier', # 'regressor' for continuous variables such as GDP\n",
    "    num_epochs=5, # No need to run many epochs. I found 5-10 to work well on 50 000 speeches.\n",
    "    w_pred_loss=1000, # how much weight should we give to the prediction task in the likelihood?\n",
    "    w_prior=None, # how much weight should we give to the prior in the likelihood?\n",
    "    print_every=100000, # print progress every x batches\n",
    "    log_every=1, # print topic-word dist every x epochs\n",
    "    batch_size=250,\n",
    ")"
   ]
  },
  {
   "cell_type": "code",
   "execution_count": null,
   "id": "4a0cda80",
   "metadata": {},
   "outputs": [],
   "source": [
    "# Assess the quality of the learned word embeddings \n",
    "# Top 8 closest words to a specific word\n",
    "\n",
    "import torch\n",
    "import torch.nn.functional as F\n",
    "\n",
    "specific_word = 'tax'\n",
    "\n",
    "word_id = [i for i,w in enumerate(train_dataset.vocab) if w == specific_word][0]\n",
    "\n",
    "words = tm.AutoEncoder.decoder['dec_1'].weight.T\n",
    "\n",
    "logit = torch.matmul(words.T[word_id], words)\n",
    "\n",
    "beta = F.softmax(logit)\n",
    "\n",
    "tm.AutoEncoder.eval()\n",
    "topic_words = []\n",
    "vals, indices = torch.topk(beta, 8)\n",
    "vals = vals.cpu().tolist()\n",
    "indices = indices.cpu().tolist()\n",
    "[tm.id2token[idx] for idx in indices]"
   ]
  },
  {
   "cell_type": "code",
   "execution_count": null,
   "id": "03ade3d2",
   "metadata": {},
   "outputs": [],
   "source": [
    "tm.get_predictions(train_dataset, to_numpy=False).shape"
   ]
  },
  {
   "cell_type": "code",
   "execution_count": null,
   "id": "c125a47d",
   "metadata": {},
   "outputs": [],
   "source": [
    "tm.get_doc_topic_distribution(train_dataset, to_numpy=True).shape"
   ]
  }
 ],
 "metadata": {
  "kernelspec": {
   "display_name": "Python 3 (ipykernel)",
   "language": "python",
   "name": "python3"
  },
  "language_info": {
   "codemirror_mode": {
    "name": "ipython",
    "version": 3
   },
   "file_extension": ".py",
   "mimetype": "text/x-python",
   "name": "python",
   "nbconvert_exporter": "python",
   "pygments_lexer": "ipython3",
   "version": "3.10.12"
  }
 },
 "nbformat": 4,
 "nbformat_minor": 5
}
