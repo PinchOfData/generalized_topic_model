{
 "cells": [
  {
   "cell_type": "code",
   "execution_count": 1,
   "id": "91a73889",
   "metadata": {},
   "outputs": [],
   "source": [
    "import pandas as pd\n",
    "df = pd.read_csv('../data/hansard_speeches_processed.csv')\n",
    "df = df.sample(n=50000, random_state = 42)\n",
    "df\n",
    "\n",
    "from gensim.corpora.dictionary import Dictionary\n",
    "from gensim.models import LdaModel\n",
    "\n",
    "common_texts = list(df['doc_clean'])\n",
    "common_texts = [text.split() for text in common_texts]\n",
    "common_dictionary = Dictionary(common_texts)\n",
    "common_corpus = [common_dictionary.doc2bow(text) for text in common_texts]\n",
    "lda = LdaModel(corpus = common_corpus, id2word = common_dictionary, num_topics=20)"
   ]
  },
  {
   "cell_type": "code",
   "execution_count": 2,
   "id": "1ebecead",
   "metadata": {},
   "outputs": [
    {
     "name": "stdout",
     "output_type": "stream",
     "text": [
      "['housing', 'authority', 'house', 'home', 'property', 'council', 'tenant', 'rent']\n",
      "['country', 'aid', 'action', 'fire', 'dog', 'right', 'sanction', 'port']\n",
      "['industry', 'company', 'market', 'investment', 'year', 'job', 'sector', 'trade']\n",
      "['service', 'authority', 'health', 'year', 'hon', 'money', 'expenditure', 'make']\n",
      "['people', 'say', 'get', 'go', 'want', 'country', 'make', 'work']\n",
      "['party', 'system', 'reform', 'right', 'election', 'hon', 'believe', 'government']\n",
      "['make', 'hon', 'member', 'take', 'agreement', 'issue', 'power', 'process']\n",
      "['child', 'school', 'education', 'people', 'work', 'family', 'parent', 'woman']\n",
      "['police', 'case', 'court', 'law', 'crime', 'officer', 'make', 'prison']\n",
      "['pay', 'scheme', 'year', 'benefit', 'cent', 'work', 'pension', 'people']\n",
      "['business', 'development', 'area', 'need', 'plan', 'support', 'bank', 'land']\n",
      "['hon', 'say', 'make', 'debate', 'member', 'friend', 'matter', 'point']\n",
      "['hon', 'friend', 'constituency', 'make', 'debate', 'member', 'say', 'point']\n",
      "['farmer', 'food', 'problem', 'hon', 'test', 'time', 'system', 'farm']\n",
      "['patient', 'health', 'service', 'need', 'people', 'care', 'ensure', 'take']\n",
      "['line', 'licence', 'take', 'consider', 'report', 'airport', 'link', 'consultation']\n",
      "['force', 'defence', 'war', 'world', 'hon', 'country', 'say', 'take']\n",
      "['road', 'water', 'area', 'use', 'station', 'transport', 'car', 'people']\n",
      "['tax', 'rate', 'year', 'increase', 'cent', 'business', 'economy', 'policy']\n",
      "['council', 'inquiry', 'charge', 'county', 'community', 'take', 'application', 'borough']\n"
     ]
    }
   ],
   "source": [
    "for idx, topic in lda.show_topics(formatted=False, num_words=8, num_topics=20):\n",
    "    print([w[0] for w in topic])"
   ]
  }
 ],
 "metadata": {
  "kernelspec": {
   "display_name": "Python 3 (ipykernel)",
   "language": "python",
   "name": "python3"
  },
  "language_info": {
   "codemirror_mode": {
    "name": "ipython",
    "version": 3
   },
   "file_extension": ".py",
   "mimetype": "text/x-python",
   "name": "python",
   "nbconvert_exporter": "python",
   "pygments_lexer": "ipython3",
   "version": "3.10.6"
  }
 },
 "nbformat": 4,
 "nbformat_minor": 5
}
