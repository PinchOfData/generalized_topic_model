{
 "cells": [
  {
   "cell_type": "code",
   "execution_count": 2,
   "id": "91a73889",
   "metadata": {},
   "outputs": [],
   "source": [
    "import pandas as pd\n",
    "df = pd.read_csv('../data/hansard_archive/hansard_speeches_processed.csv', nrows = 1000)\n",
    "\n",
    "from gensim.corpora.dictionary import Dictionary\n",
    "from gensim.models import LdaModel\n",
    "\n",
    "common_texts = list(df['doc_clean'])\n",
    "common_texts = [text.split() for text in common_texts]\n",
    "common_dictionary = Dictionary(common_texts)\n",
    "common_corpus = [common_dictionary.doc2bow(text) for text in common_texts]\n",
    "lda = LdaModel(corpus = common_corpus, id2word = common_dictionary, num_topics=20)"
   ]
  },
  {
   "cell_type": "code",
   "execution_count": 3,
   "id": "1ebecead",
   "metadata": {},
   "outputs": [
    {
     "name": "stdout",
     "output_type": "stream",
     "text": [
      "['hon', 'people', 'make', 'friend', 'say', 'take', 'country', 'year']\n",
      "['hon', 'people', 'year', 'take', 'say', 'problem', 'give', 'make']\n",
      "['hon', 'country', 'people', 'industry', 'school', 'need', 'believe', 'problem']\n",
      "['hon', 'friend', 'make', 'say', 'year', 'take', 'people', 'time']\n",
      "['hon', 'school', 'year', 'people', 'council', 'cent', 'say', 'take']\n",
      "['hon', 'say', 'make', 'friend', 'people', 'member', 'year', 'take']\n",
      "['hon', 'make', 'say', 'year', 'people', 'take', 'give', 'member']\n",
      "['hon', 'say', 'know', 'people', 'year', 'problem', 'make', 'take']\n",
      "['hon', 'say', 'people', 'year', 'make', 'tenant', 'authority', 'friend']\n",
      "['hon', 'say', 'make', 'friend', 'year', 'matter', 'people', 'government']\n",
      "['hon', 'people', 'say', 'friend', 'make', 'take', 'give', 'year']\n",
      "['hon', 'make', 'year', 'education', 'area', 'school', 'authority', 'problem']\n",
      "['hon', 'make', 'take', 'people', 'industry', 'give', 'friend', 'say']\n",
      "['hon', 'make', 'say', 'take', 'year', 'people', 'give', 'hope']\n",
      "['hon', 'people', 'year', 'say', 'problem', 'make', 'friend', 'time']\n",
      "['hon', 'people', 'problem', 'year', 'make', 'say', 'give', 'policy']\n",
      "['hon', 'people', 'time', 'friend', 'country', 'make', 'say', 'matter']\n",
      "['hon', 'people', 'year', 'take', 'say', 'area', 'believe', 'problem']\n",
      "['hon', 'make', 'people', 'say', 'matter', 'year', 'friend', 'country']\n",
      "['hon', 'make', 'say', 'year', 'people', 'take', 'friend', 'country']\n"
     ]
    }
   ],
   "source": [
    "for idx, topic in lda.show_topics(formatted=False, num_words=8, num_topics=20):\n",
    "    print([w[0] for w in topic])"
   ]
  }
 ],
 "metadata": {
  "kernelspec": {
   "display_name": "Python 3 (ipykernel)",
   "language": "python",
   "name": "python3"
  },
  "language_info": {
   "codemirror_mode": {
    "name": "ipython",
    "version": 3
   },
   "file_extension": ".py",
   "mimetype": "text/x-python",
   "name": "python",
   "nbconvert_exporter": "python",
   "pygments_lexer": "ipython3",
   "version": "3.10.12"
  }
 },
 "nbformat": 4,
 "nbformat_minor": 5
}
