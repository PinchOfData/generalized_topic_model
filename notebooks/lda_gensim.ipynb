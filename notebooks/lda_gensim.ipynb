{
 "cells": [
  {
   "cell_type": "code",
   "execution_count": 1,
   "id": "91a73889",
   "metadata": {},
   "outputs": [],
   "source": [
    "import pandas as pd\n",
    "df = pd.read_csv('../data/us_congressional_record/us_congress_speeches_processed.csv', nrows = 1000)\n",
    "df.dropna(subset=['doc_clean'], inplace=True)\n",
    "df['word_count'] = df['doc_clean'].apply(lambda x: len(x.split()))\n",
    "df = df[df[\"word_count\"] > 30]\n",
    "\n",
    "from gensim.corpora.dictionary import Dictionary\n",
    "from gensim.models import LdaModel\n",
    "\n",
    "common_texts = list(df['doc_clean'])\n",
    "common_texts = [text.split() for text in common_texts]\n",
    "common_dictionary = Dictionary(common_texts)\n",
    "common_corpus = [common_dictionary.doc2bow(text) for text in common_texts]\n",
    "lda = LdaModel(corpus = common_corpus, id2word = common_dictionary, num_topics=20)"
   ]
  },
  {
   "cell_type": "code",
   "execution_count": 2,
   "id": "1ebecead",
   "metadata": {},
   "outputs": [
    {
     "name": "stdout",
     "output_type": "stream",
     "text": [
      "['baseball', 'year', 'rail', 'bill', 'many', 'small', 'support', 'education']\n",
      "['hospital', 'veteran', 'military', 'work', 'amendment', 'gentleman', 'subvention', 'country']\n",
      "['amendment', 'other', 'bill', 'program', 'support', 'year', 'offer', 'make']\n",
      "['promise', 'hospital', 'artery', 'care', 'time', 'say', 'issue', 'need']\n",
      "['market', 'export', 'year', 'business', 'trade', 'american', 'interest', 'world']\n",
      "['drug', 'prescription', 'copay', 'year', 'pharmacy', 'grade', 'time', 'senior']\n",
      "['go', 'gentleman', 'say', 'think', 'want', 'make', 'get', 'amendment']\n",
      "['tax', 'number', 'make', 'year', 'percent', 'business', 'support', 'relief']\n",
      "['trade', 'environmental', 'other', 'people', 'amendment', 'support', 'agreement', 'area']\n",
      "['military', 'retiree', 'work', 'gentleman', 'make', 'go', 'program', 'say']\n",
      "['gun', 'say', 'right', 'law', 'year', 'make', 'people', 'go']\n",
      "['military', 'care', 'retiree', 'health', 'amendment', 'facility', 'serve', 'woman']\n",
      "['invitation', 'tax', 'access', 'year', 'bill', 'hearing', 'go', 'charge']\n",
      "['amendment', 'bill', 'support', 'make', 'vote', 'year', 'time', 'law']\n",
      "['year', 'unobligated', 'bill', 'program', 'area', 'support', 'gentleman', 'use']\n",
      "['clinic', 'bill', 'say', 'get', 'people', 'military', 'go', 'dependent']\n",
      "['military', 'gentleman', 'year', 'work', 'support', 'make', 'people', 'time']\n",
      "['bill', 'year', 'farmer', 'make', 'program', 'go', 'provide', 'need']\n",
      "['city', 'people', 'go', 'year', 'percent', 'rail', 'system', 'see']\n",
      "['rail', 'light', 'military', 'say', 'plan', 'see', 'need', 'support']\n"
     ]
    }
   ],
   "source": [
    "for idx, topic in lda.show_topics(formatted=False, num_words=8, num_topics=20):\n",
    "    print([w[0] for w in topic])"
   ]
  }
 ],
 "metadata": {
  "kernelspec": {
   "display_name": "Python 3 (ipykernel)",
   "language": "python",
   "name": "python3"
  },
  "language_info": {
   "codemirror_mode": {
    "name": "ipython",
    "version": 3
   },
   "file_extension": ".py",
   "mimetype": "text/x-python",
   "name": "python",
   "nbconvert_exporter": "python",
   "pygments_lexer": "ipython3",
   "version": "3.10.12"
  }
 },
 "nbformat": 4,
 "nbformat_minor": 5
}
