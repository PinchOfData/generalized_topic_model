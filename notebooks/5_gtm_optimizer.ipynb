{
 "cells": [
  {
   "cell_type": "code",
   "execution_count": 1,
   "id": "90e56b8b",
   "metadata": {},
   "outputs": [
    {
     "name": "stderr",
     "output_type": "stream",
     "text": [
      "/home/germain/Documents/topic models/generalized_topic_model_dev/venv/lib/python3.10/site-packages/tqdm/auto.py:21: TqdmWarning: IProgress not found. Please update jupyter and ipywidgets. See https://ipywidgets.readthedocs.io/en/stable/user_install.html\n",
      "  from .autonotebook import tqdm as notebook_tqdm\n"
     ]
    },
    {
     "name": "stdout",
     "output_type": "stream",
     "text": [
      "\n",
      "Stopping at Epoch 2. Reverting to Epoch 2\n",
      "\n",
      "Stopping at Epoch 2. Reverting to Epoch 2\n"
     ]
    }
   ],
   "source": [
    "import pandas as pd\n",
    "df = pd.read_csv('../data/us_congressional_record/us_congress_speeches_sample_1000.csv')\n",
    "df.dropna(subset=['doc_clean'], inplace=True)\n",
    "df = df.reset_index(drop=True)\n",
    "\n",
    "import sys\n",
    "sys.path.append('../gtm/')\n",
    "\n",
    "from corpus import GTMCorpus\n",
    "train_dataset = GTMCorpus(\n",
    "    df, \n",
    "    prevalence = \"~ Rep\", \n",
    "    content = \"~ Rep\",\n",
    "    vectorizer_args={'ngram_range':(1, 1), 'max_df':0.99, 'min_df':0.01}\n",
    ")\n",
    "\n",
    "from optimizer import GTMOptimizer\n",
    "opt = GTMOptimizer(n_topics=[10], w_priors = [1.0, 10.0], n_samples=1)\n",
    "opt.optimize(train_dataset)"
   ]
  },
  {
   "cell_type": "code",
   "execution_count": 2,
   "id": "1543fb3c",
   "metadata": {},
   "outputs": [
    {
     "data": {
      "text/html": [
       "<div>\n",
       "<style scoped>\n",
       "    .dataframe tbody tr th:only-of-type {\n",
       "        vertical-align: middle;\n",
       "    }\n",
       "\n",
       "    .dataframe tbody tr th {\n",
       "        vertical-align: top;\n",
       "    }\n",
       "\n",
       "    .dataframe thead th {\n",
       "        text-align: right;\n",
       "    }\n",
       "</style>\n",
       "<table border=\"1\" class=\"dataframe\">\n",
       "  <thead>\n",
       "    <tr style=\"text-align: right;\">\n",
       "      <th></th>\n",
       "      <th>n_topics</th>\n",
       "      <th>doc_topic_prior</th>\n",
       "      <th>alpha</th>\n",
       "      <th>encoder_input</th>\n",
       "      <th>encoder_hidden_layer</th>\n",
       "      <th>encoder_non_linear_activation</th>\n",
       "      <th>encoder_bias</th>\n",
       "      <th>decoder_hidden_layer</th>\n",
       "      <th>decoder_non_linear_activation</th>\n",
       "      <th>decoder_bias</th>\n",
       "      <th>...</th>\n",
       "      <th>predictor_non_linear_activation</th>\n",
       "      <th>w_prior</th>\n",
       "      <th>w_pred_loss</th>\n",
       "      <th>seed</th>\n",
       "      <th>config_id</th>\n",
       "      <th>diversity</th>\n",
       "      <th>c_npmi</th>\n",
       "      <th>c_v</th>\n",
       "      <th>c_uci</th>\n",
       "      <th>umass</th>\n",
       "    </tr>\n",
       "  </thead>\n",
       "  <tbody>\n",
       "    <tr>\n",
       "      <th>0</th>\n",
       "      <td>10</td>\n",
       "      <td>logistic_normal</td>\n",
       "      <td>0.1</td>\n",
       "      <td>bow</td>\n",
       "      <td>[1024, 512]</td>\n",
       "      <td>relu</td>\n",
       "      <td>True</td>\n",
       "      <td>[512, 1024]</td>\n",
       "      <td>relu</td>\n",
       "      <td>True</td>\n",
       "      <td>...</td>\n",
       "      <td>relu</td>\n",
       "      <td>1.0</td>\n",
       "      <td>1</td>\n",
       "      <td>0</td>\n",
       "      <td>1</td>\n",
       "      <td>0.11</td>\n",
       "      <td>-0.842704</td>\n",
       "      <td>0.360079</td>\n",
       "      <td>-0.114125</td>\n",
       "      <td>-0.842704</td>\n",
       "    </tr>\n",
       "    <tr>\n",
       "      <th>1</th>\n",
       "      <td>10</td>\n",
       "      <td>logistic_normal</td>\n",
       "      <td>0.1</td>\n",
       "      <td>bow</td>\n",
       "      <td>[1024, 512]</td>\n",
       "      <td>relu</td>\n",
       "      <td>True</td>\n",
       "      <td>[512, 1024]</td>\n",
       "      <td>relu</td>\n",
       "      <td>True</td>\n",
       "      <td>...</td>\n",
       "      <td>relu</td>\n",
       "      <td>10.0</td>\n",
       "      <td>1</td>\n",
       "      <td>0</td>\n",
       "      <td>2</td>\n",
       "      <td>0.12</td>\n",
       "      <td>-0.849648</td>\n",
       "      <td>0.357353</td>\n",
       "      <td>-0.118647</td>\n",
       "      <td>-0.849648</td>\n",
       "    </tr>\n",
       "  </tbody>\n",
       "</table>\n",
       "<p>2 rows × 21 columns</p>\n",
       "</div>"
      ],
      "text/plain": [
       "   n_topics  doc_topic_prior  alpha encoder_input encoder_hidden_layer  \\\n",
       "0        10  logistic_normal    0.1           bow          [1024, 512]   \n",
       "1        10  logistic_normal    0.1           bow          [1024, 512]   \n",
       "\n",
       "  encoder_non_linear_activation  encoder_bias decoder_hidden_layer  \\\n",
       "0                          relu          True          [512, 1024]   \n",
       "1                          relu          True          [512, 1024]   \n",
       "\n",
       "  decoder_non_linear_activation  decoder_bias  ...  \\\n",
       "0                          relu          True  ...   \n",
       "1                          relu          True  ...   \n",
       "\n",
       "  predictor_non_linear_activation w_prior  w_pred_loss  seed  config_id  \\\n",
       "0                            relu     1.0            1     0          1   \n",
       "1                            relu    10.0            1     0          2   \n",
       "\n",
       "   diversity    c_npmi       c_v     c_uci     umass  \n",
       "0       0.11 -0.842704  0.360079 -0.114125 -0.842704  \n",
       "1       0.12 -0.849648  0.357353 -0.118647 -0.849648  \n",
       "\n",
       "[2 rows x 21 columns]"
      ]
     },
     "execution_count": 2,
     "metadata": {},
     "output_type": "execute_result"
    }
   ],
   "source": [
    "opt.grid"
   ]
  },
  {
   "cell_type": "code",
   "execution_count": 3,
   "id": "c8381705",
   "metadata": {},
   "outputs": [
    {
     "data": {
      "image/png": "[encoded data removed]",
      "text/plain": [
       "<Figure size 1200x800 with 1 Axes>"
      ]
     },
     "metadata": {},
     "output_type": "display_data"
    }
   ],
   "source": [
    "opt.plot_evaluation_metric(metric = \"diversity\")"
   ]
  },
  {
   "cell_type": "code",
   "execution_count": 4,
   "id": "fbd95ea4",
   "metadata": {},
   "outputs": [],
   "source": [
    "best_model_params, gtm = opt.get_best_model(metric = 'c_uci')"
   ]
  },
  {
   "cell_type": "code",
   "execution_count": 5,
   "id": "01226fe2",
   "metadata": {},
   "outputs": [
    {
     "data": {
      "text/plain": [
       "{'n_topics': 10,\n",
       " 'doc_topic_prior': 'logistic_normal',\n",
       " 'alpha': 0.1,\n",
       " 'encoder_input': 'bow',\n",
       " 'encoder_hidden_layer': [1024, 512],\n",
       " 'encoder_non_linear_activation': 'relu',\n",
       " 'encoder_bias': True,\n",
       " 'decoder_hidden_layer': [512, 1024],\n",
       " 'decoder_non_linear_activation': 'relu',\n",
       " 'decoder_bias': True,\n",
       " 'predictor_hidden_layer': [],\n",
       " 'predictor_non_linear_activation': 'relu',\n",
       " 'w_prior': 1.0,\n",
       " 'w_pred_loss': 1,\n",
       " 'seed': 0,\n",
       " 'config_id': 1,\n",
       " 'diversity': 0.11,\n",
       " 'c_npmi': -0.842703700752095,\n",
       " 'c_v': 0.3600787260459356,\n",
       " 'c_uci': -0.11412474202061958,\n",
       " 'umass': -0.842703700752095}"
      ]
     },
     "execution_count": 5,
     "metadata": {},
     "output_type": "execute_result"
    }
   ],
   "source": [
    "best_model_params"
   ]
  }
 ],
 "metadata": {
  "kernelspec": {
   "display_name": "Python 3 (ipykernel)",
   "language": "python",
   "name": "python3"
  },
  "language_info": {
   "codemirror_mode": {
    "name": "ipython",
    "version": 3
   },
   "file_extension": ".py",
   "mimetype": "text/x-python",
   "name": "python",
   "nbconvert_exporter": "python",
   "pygments_lexer": "ipython3",
   "version": "3.10.12"
  }
 },
 "nbformat": 4,
 "nbformat_minor": 5
}
