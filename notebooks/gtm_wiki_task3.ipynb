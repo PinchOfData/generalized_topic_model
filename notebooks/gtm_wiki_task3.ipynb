{
 "cells": [
  {
   "cell_type": "code",
   "execution_count": 3,
   "id": "initial_id",
   "metadata": {
    "collapsed": true,
    "ExecuteTime": {
     "end_time": "2024-02-26T14:00:32.289181Z",
     "start_time": "2024-02-26T14:00:32.284003Z"
    }
   },
   "outputs": [],
   "source": [
    "import pandas as pd\n",
    "import sys\n",
    "sys.path.append('../gtm/')\n",
    "from corpus import GTMCorpus\n",
    "from gtm_customized import GTM\n",
    "import pickle as p\n",
    "import os\n",
    "language = 'en-zh'"
   ]
  },
  {
   "cell_type": "code",
   "outputs": [],
   "source": [
    "def load_examples(language='en'):\n",
    "\tdf = pd.read_csv('../data/wiki_shorts/{}/corpus/docs.txt'.format(language), header=None, delimiter='\\t')\n",
    "\tdf.columns = ['doc_clean']\n",
    "\t# df = df.head(1000)\n",
    "\treturn df"
   ],
   "metadata": {
    "collapsed": false,
    "ExecuteTime": {
     "end_time": "2024-02-26T14:00:33.143585Z",
     "start_time": "2024-02-26T14:00:33.140344Z"
    }
   },
   "id": "d8817b98e5dc637a",
   "execution_count": 4
  },
  {
   "cell_type": "code",
   "outputs": [
    {
     "name": "stdout",
     "output_type": "stream",
     "text": [
      "Loading train_dataset_intfloat-e5-large2-en-zh.pkl\n",
      "dataset loaded\n"
     ]
    }
   ],
   "source": [
    "if not os.path.exists('train_dataset_intfloat-e5-large2-{}.pkl'.format(language)):\n",
    "# if True:\n",
    "\tdf_en = load_examples('en')\n",
    "\tdf_zh = load_examples('zh')\n",
    "\n",
    "\t# merge two dfs into one df, with additional column specifying the language\n",
    "\tdf_en['language'] = 'en'\n",
    "\tdf_zh['language'] = 'zh'\n",
    "\n",
    "\t# randomly select 100 documents from each language\n",
    "\t# df_en = df_en.sample(n=100)\n",
    "\t# df_zh = df_zh.sample(n=100)\n",
    "\n",
    "\t# Concatenate the two DataFrames\n",
    "\tdf = pd.concat([df_en, df_zh], ignore_index=True)\n",
    "\n",
    "\ttrain_dataset = GTMCorpus(\n",
    "\t\tdf,\n",
    "\t\tcount_words=True,\n",
    "\t\tembeddings_type='SentenceTransformer',\n",
    "\t\tsbert_model_to_load='intfloat/multilingual-e5-large',\n",
    "\t\tcontent=None,\n",
    "\t\tbatch_size=64,\n",
    "\t\tmax_seq_length=512)\n",
    "\tprint('Saving train_dataset_intfloat-e5-large2-{}.pkl'.format(language))\n",
    "\twith open('train_dataset_intfloat-e5-large2-{}.pkl'.format(language), 'wb') as f:\n",
    "\t\tp.dump(train_dataset, f)\n",
    "else:\n",
    "\tprint('Loading train_dataset_intfloat-e5-large2-{}.pkl'.format(language))\n",
    "\twith open('train_dataset_intfloat-e5-large2-{}.pkl'.format(language), 'rb') as f:\n",
    "\t\ttrain_dataset = p.load(f)\n",
    "\n",
    "print('dataset loaded')"
   ],
   "metadata": {
    "collapsed": false,
    "ExecuteTime": {
     "end_time": "2024-02-26T14:00:34.415922Z",
     "start_time": "2024-02-26T14:00:34.072498Z"
    }
   },
   "id": "a627199d3daa13e0",
   "execution_count": 5
  },
  {
   "cell_type": "code",
   "outputs": [
    {
     "name": "stdout",
     "output_type": "stream",
     "text": [
      "Loading checkpoint from ../ckpt2/task3/best_model.ckpt\n",
      "OrderedDict([('encoder.enc_0.weight', tensor([[-2.8660,  2.7594,  0.4823,  ..., -1.3682,  0.7640,  1.7926],\n",
      "        [-0.9902, -3.7195, -0.8067,  ..., -2.0486,  1.9272, -2.5573],\n",
      "        [ 0.2376, -0.3710,  2.3733,  ...,  2.0066, -1.1746, -1.2584],\n",
      "        [ 2.0424,  0.4064, -0.4716,  ..., -0.9811, -1.0183,  0.8964],\n",
      "        [-0.6273,  1.9839, -1.2080,  ..., -0.9631, -0.6091, -0.3449],\n",
      "        [ 1.8523, -2.9478, -1.0739,  ...,  2.2302,  0.5745,  3.0608]],\n",
      "       device='mps:0')), ('encoder.enc_0.bias', tensor([ 0.0699,  0.0440,  0.0557,  0.0668, -0.1696,  0.0160], device='mps:0')), ('decoder.dec_0.weight', tensor([[ 0.4845, -2.3450, -0.2469,  1.6516, -1.3093,  0.4223],\n",
      "        [-0.1764,  0.5551,  0.2586, -0.1135, -0.1581, -0.1636],\n",
      "        [-0.0314,  2.5180,  0.4867,  1.4843, -0.0204, -0.0663],\n",
      "        ...,\n",
      "        [-0.1887,  0.1800,  0.1065, -0.7908, -0.1517, -0.1722],\n",
      "        [ 0.0156,  1.5931, -0.3519,  0.8887, -0.0628, -0.0034],\n",
      "        [ 0.0444, -2.8209, -0.1450,  0.4232,  0.0991,  0.1394]],\n",
      "       device='mps:0')), ('decoder.dec_0.bias', tensor([-0.4900,  0.1997,  0.0557, -0.0248, -0.2758,  0.0863, -0.0158, -0.0770,\n",
      "         0.1244,  0.1879,  0.3004, -0.1137,  0.0281,  0.0934,  0.1910, -0.0720,\n",
      "         0.1229, -0.1013,  0.1442, -0.1988, -0.2464,  0.0167, -0.0490,  0.1067,\n",
      "         0.1460,  0.2356,  0.1705,  0.0101,  0.1949,  0.0393, -0.2783,  0.0238,\n",
      "         0.1004,  0.3641,  0.1383,  0.1698,  0.1979, -0.0465,  0.1058, -0.1821,\n",
      "         0.0040, -0.0234, -0.2222,  0.0734,  0.1603, -0.2825,  0.1452, -0.2287,\n",
      "        -0.1881,  0.0416, -0.0843, -0.2649,  0.1599,  0.0616, -0.1444,  0.0735,\n",
      "         0.0590, -0.0323, -0.0874,  0.1184,  0.1301, -0.0357,  0.0159, -0.2468,\n",
      "        -0.0583, -0.0344, -0.1524,  0.1162, -0.2844,  0.1483, -0.0269,  0.0310,\n",
      "        -0.1649, -0.1829,  0.0204,  0.2074, -0.1700, -0.1779, -0.0785, -0.1673,\n",
      "        -0.0317, -0.1309,  0.2802,  0.0690, -0.1479,  0.1818, -0.0896, -0.2517,\n",
      "         0.0855, -0.1912, -0.1832, -0.0558, -0.2750,  0.1326, -0.0294,  0.0647,\n",
      "        -0.3816, -0.2880, -0.1174,  0.1801,  0.2392,  0.1949, -0.0368,  0.1892,\n",
      "        -0.2319,  0.0674,  0.0983,  0.0400, -0.0673, -0.1836, -0.0074,  0.0612,\n",
      "        -0.0049,  0.1562, -0.0803,  0.1116, -0.2551,  0.0379, -0.0615, -0.1056,\n",
      "        -0.1027, -0.2552, -0.2468,  0.2539,  0.1352, -0.0981, -0.0587, -0.0432,\n",
      "         0.1873,  0.0663, -0.0241, -0.2611,  0.0178, -0.0221, -0.2846, -0.1787,\n",
      "        -0.0038, -0.0919, -0.0027, -0.1277, -0.1018, -0.0294, -0.1999, -0.1552,\n",
      "        -0.4015,  0.0731,  0.0729,  0.2069,  0.1215, -0.0676,  0.1634, -0.2135,\n",
      "        -0.1307,  0.0704, -0.0490,  0.0429, -0.0898,  0.2489,  0.1068, -0.1908,\n",
      "        -0.3077,  0.0016,  0.1325,  0.2702,  0.0538,  0.1209,  0.2264,  0.0402,\n",
      "         0.2209,  0.1942, -0.0396, -0.0544,  0.2042,  0.1766, -0.0663,  0.1632,\n",
      "        -0.0174,  0.1849, -0.0653, -0.2023, -0.2149,  0.0761, -0.0095, -0.1307,\n",
      "         0.0936,  0.1719,  0.0894,  0.1889, -0.1638, -0.1419,  0.2065,  0.0248,\n",
      "        -0.2943, -0.0925,  0.1885, -0.3305,  0.1554, -0.1058, -0.0555,  0.1039,\n",
      "         0.2479, -0.0846,  0.1245, -0.2779, -0.2669, -0.0521,  0.0470,  0.1910,\n",
      "        -0.1605,  0.2151,  0.2251,  0.1242,  0.1679, -0.0567, -0.3496,  0.0530,\n",
      "         0.0652, -0.0052, -0.1248,  0.3278,  0.0794,  0.0491, -0.0762, -0.1362,\n",
      "        -0.0840, -0.0639, -0.2605, -0.1160,  0.0436,  0.1150,  0.2464, -0.0072,\n",
      "        -0.1880,  0.0828,  0.2395, -0.0612, -0.0174,  0.0778,  0.0724, -0.1636,\n",
      "        -0.0916, -0.1721,  0.1980, -0.1343, -0.0750, -0.1433, -0.0435,  0.0586,\n",
      "        -0.1219, -0.0262,  0.0166, -0.0868,  0.1433,  0.1560, -0.0308,  0.0153],\n",
      "       device='mps:0')), ('decoder.dec_1.weight', tensor([[-0.5006,  0.0412,  0.0831,  ...,  0.2182, -0.2965, -0.4437],\n",
      "        [-0.0901,  0.2591, -0.3062,  ...,  0.1250, -0.1981, -0.1106],\n",
      "        [ 0.2091, -0.2967,  0.8609,  ..., -0.0912,  0.1456, -0.9996],\n",
      "        ...,\n",
      "        [-0.0452, -0.1715, -0.1661,  ...,  0.1276, -0.0526,  0.0032],\n",
      "        [-0.0666, -0.0603,  0.0583,  ..., -0.1444,  0.1743, -0.6503],\n",
      "        [ 1.6656, -0.2133,  0.2844,  ..., -0.3224,  0.4368, -0.2138]],\n",
      "       device='mps:0')), ('decoder.dec_1.bias', tensor([ 0.1950,  0.2577, -0.2177,  ..., -0.1124, -0.4308, -0.5366],\n",
      "       device='mps:0')), ('decoder2.dec2_0.weight', tensor([[ 2.6409, -0.2040, -0.2216, -0.1927,  0.4817, -0.4297],\n",
      "        [-0.4799, -0.1597, -0.1686, -0.1495, -0.1873,  0.9002],\n",
      "        [-2.2870,  0.0402,  0.0602,  0.0448, -0.3832,  0.0286],\n",
      "        ...,\n",
      "        [-0.6383,  0.1116,  0.1397,  0.1418,  0.3871,  0.3851],\n",
      "        [-0.3902, -0.2991, -0.2622, -0.2796,  0.1318,  1.6482],\n",
      "        [-0.2010, -0.0451, -0.0591,  0.2764, -0.1447, -0.7554]],\n",
      "       device='mps:0')), ('decoder2.dec2_0.bias', tensor([ 0.3017,  0.1738,  0.0092,  0.2691,  0.0178, -0.1645,  0.0393,  0.1152,\n",
      "        -0.0752,  0.2828,  0.3057, -0.1550,  0.0423, -0.1391, -0.2430,  0.0839,\n",
      "        -0.0919, -0.0875,  0.3019,  0.0075,  0.2596,  0.0116,  0.2155,  0.1712,\n",
      "         0.2377,  0.1084, -0.1986,  0.1421, -0.1278,  0.0532,  0.1581,  0.1285,\n",
      "        -0.0721, -0.2332, -0.2696,  0.0769,  0.0326,  0.0833, -0.0552,  0.1363,\n",
      "        -0.2362, -0.0463,  0.3354, -0.0975, -0.1733, -0.0254, -0.1921,  0.2220,\n",
      "         0.0683, -0.0880, -0.2502, -0.0016, -0.1379, -0.0321,  0.0575, -0.0563,\n",
      "        -0.2521, -0.1041,  0.0095,  0.1439,  0.0638,  0.1088,  0.1507,  0.2962,\n",
      "         0.2478,  0.0291, -0.0139,  0.0990,  0.2935, -0.0758, -0.0815, -0.1569,\n",
      "        -0.2443,  0.1845, -0.0795, -0.1072, -0.1975,  0.2789, -0.1702, -0.1202,\n",
      "         0.1341,  0.0377, -0.2508,  0.1492,  0.1348, -0.0522,  0.2118, -0.2442,\n",
      "        -0.0884,  0.2090,  0.1460, -0.1528,  0.1610,  0.1390, -0.1969,  0.0933,\n",
      "        -0.0474,  0.0069,  0.1858, -0.2303, -0.0888,  0.1148, -0.1037,  0.0981,\n",
      "         0.2188,  0.1310,  0.2482,  0.0122, -0.3091,  0.2168, -0.3147, -0.0939,\n",
      "        -0.1138,  0.1762, -0.2604,  0.2370,  0.0068,  0.1075,  0.0165,  0.0340,\n",
      "         0.0053, -0.1520, -0.2024,  0.0512,  0.4920,  0.2280, -0.0476,  0.2002,\n",
      "        -0.0442, -0.0075, -0.1915,  0.2293,  0.0092,  0.1549,  0.0053, -0.2263,\n",
      "        -0.1891, -0.1549,  0.0308,  0.1472, -0.0567,  0.2979, -0.0279, -0.1844,\n",
      "        -0.0917,  0.1420,  0.1499,  0.0109,  0.2945, -0.0026,  0.1467,  0.1716,\n",
      "        -0.0039, -0.1987,  0.1740,  0.1649, -0.1535, -0.3238, -0.0386,  0.2641,\n",
      "         0.2301, -0.1386,  0.3204,  0.1823, -0.0266,  0.1011,  0.1903,  0.1161,\n",
      "        -0.1663, -0.3372, -0.1659, -0.0334,  0.1361,  0.0867,  0.1652, -0.2373,\n",
      "         0.1189,  0.0142,  0.2846,  0.2105,  0.1265,  0.3026, -0.0889,  0.1050,\n",
      "         0.0199,  0.0094, -0.0336,  0.2558,  0.1014, -0.1281, -0.1036, -0.1371,\n",
      "        -0.2885, -0.0249,  0.1507,  0.2340, -0.2460, -0.0943, -0.0213, -0.3491,\n",
      "         0.1875,  0.0728,  0.0156,  0.0596, -0.1724, -0.0858,  0.1537, -0.1918,\n",
      "         0.0476,  0.2460,  0.2905,  0.0599, -0.0812,  0.1218, -0.1698, -0.1629,\n",
      "         0.3022,  0.1667, -0.1866, -0.1761, -0.1555,  0.2210, -0.0807,  0.0788,\n",
      "        -0.0857,  0.2613, -0.2810, -0.2283, -0.1472, -0.0094,  0.2436,  0.2888,\n",
      "         0.2593, -0.0256,  0.2526,  0.1333, -0.2193, -0.1223, -0.2131, -0.1950,\n",
      "        -0.0412, -0.1076,  0.0868, -0.0937, -0.0486,  0.1607,  0.1046,  0.2831,\n",
      "        -0.1448, -0.1038,  0.1646, -0.3240,  0.2616, -0.1384,  0.3221,  0.0836],\n",
      "       device='mps:0')), ('decoder2.dec2_1.weight', tensor([[-0.1501, -0.1789, -0.2722,  ...,  0.2193, -0.2919, -2.3656],\n",
      "        [-0.2325, -0.2238, -0.1899,  ...,  0.2492, -0.2115, -2.4849],\n",
      "        [-0.2006, -0.2040, -0.2200,  ...,  0.2389, -0.2708, -2.3496],\n",
      "        ...,\n",
      "        [-0.1986, -0.2653, -0.2382,  ...,  0.2831, -0.2520, -2.4301],\n",
      "        [-0.1857, -0.1623, -0.2407,  ...,  0.2815, -0.2948, -2.3724],\n",
      "        [-0.2008, -0.2714, -0.2138,  ...,  0.2996, -0.2340, -2.4144]],\n",
      "       device='mps:0')), ('decoder2.dec2_1.bias', tensor([-0.4238, -0.4383, -0.4289,  ..., -0.4934, -0.4418, -0.5065],\n",
      "       device='mps:0'))])\n"
     ]
    }
   ],
   "source": [
    "# Train the model\n",
    "tm = GTM(\n",
    "\ttrain_dataset,\n",
    "\tn_topics=6,\n",
    "\tdoc_topic_prior='dirichlet', # logistic_normal, dirichlet\n",
    "\talpha=0.02,\n",
    "\tupdate_prior=False,\n",
    "\tencoder_input='embeddings', # 'bow', 'embeddings'\n",
    "\tseparate_decoders=True,\n",
    "\tencoder_hidden_layers=[], # structure of the encoder neural net\n",
    "\tdecoder_hidden_layers=[256], # structure of the decoder neural net\n",
    "\tencoder_bias=True,\n",
    "\tdecoder_bias=True,\n",
    "\tnum_epochs=0,\n",
    "\tprint_every=10000,\n",
    "\tdropout=0.0,\n",
    "\tlearning_rate=0.01,\n",
    "\tlog_every=1,\n",
    "\tw_prior=None,\n",
    "\tbatch_size=512,\n",
    "\tpatience=5,\n",
    "\tsave_path='../ckpt2/task3',\n",
    "\tckpt='../ckpt2/task3/best_model.ckpt'\n",
    ")"
   ],
   "metadata": {
    "collapsed": false,
    "ExecuteTime": {
     "end_time": "2024-02-26T14:34:34.642161Z",
     "start_time": "2024-02-26T14:34:31.529314Z"
    }
   },
   "id": "457ca708e0d52773",
   "execution_count": 29
  },
  {
   "cell_type": "code",
   "outputs": [],
   "source": [
    "import numpy as np\n",
    "\n",
    "def inspect(tm, ds):\n",
    "\tdoc_topic_distribution = tm.get_doc_topic_distribution(ds)\n",
    "\n",
    "\tprint('Number of documents per topic')\n",
    "\tprint('Topic 0: {}'.format((doc_topic_distribution.argmax(-1) == 0).sum()))\n",
    "\tprint('Topic 1: {}'.format((doc_topic_distribution.argmax(-1) == 1).sum()))\n",
    "\tprint('Topic 2: {}'.format((doc_topic_distribution.argmax(-1) == 2).sum()))\n",
    "\tprint('Topic 3: {}'.format((doc_topic_distribution.argmax(-1) == 3).sum()))\n",
    "\tprint('Topic 4: {}'.format((doc_topic_distribution.argmax(-1) == 4).sum()))\n",
    "\tprint('Topic 5: {}'.format((doc_topic_distribution.argmax(-1) == 5).sum()))\n",
    "\n",
    "\t# show five random documents per topic\n",
    "\tfor topic in range(tm.n_topics):\n",
    "\t\tprint('Topic {}'.format(topic))\n",
    "\t\tprint('xxxxxxxxxxxxxxxxxxxxxxxxxxxxxxxxxxxxxxxxxxxxxxxxxxxxxxxxxxxxxxxx')\n",
    "\t\tfor i in np.random.choice(np.where(doc_topic_distribution.argmax(-1) == topic)[0], 5):\n",
    "\t\t\tprint('=' * 50)\n",
    "\t\t\tprint(ds.df.iloc[i]['doc_clean'])\n",
    "\t\t\tprint('----------')\n",
    "\t\t\tprint('Topic distribution = {}'.format(doc_topic_distribution[i]))"
   ],
   "metadata": {
    "collapsed": false,
    "ExecuteTime": {
     "end_time": "2024-02-26T14:34:41.281871Z",
     "start_time": "2024-02-26T14:34:41.274119Z"
    }
   },
   "id": "abb7ea17e8113038",
   "execution_count": 30
  },
  {
   "cell_type": "code",
   "outputs": [
    {
     "data": {
      "text/plain": "'\\nEpoch 100\\tMean Training Loss:1846.3313570\\n'"
     },
     "execution_count": 31,
     "metadata": {},
     "output_type": "execute_result"
    }
   ],
   "source": [
    "'''\n",
    "Epoch 100\tMean Training Loss:1846.3313570\n",
    "'''"
   ],
   "metadata": {
    "collapsed": false,
    "ExecuteTime": {
     "end_time": "2024-02-26T14:34:41.646568Z",
     "start_time": "2024-02-26T14:34:41.642460Z"
    }
   },
   "id": "c7ccb7b4043d7ebe",
   "execution_count": 31
  },
  {
   "cell_type": "code",
   "outputs": [
    {
     "data": {
      "text/plain": "<gtm_task1.GTM at 0x35d059640>"
     },
     "execution_count": 32,
     "metadata": {},
     "output_type": "execute_result"
    }
   ],
   "source": [
    "tm"
   ],
   "metadata": {
    "collapsed": false,
    "ExecuteTime": {
     "end_time": "2024-02-26T14:34:41.866175Z",
     "start_time": "2024-02-26T14:34:41.861890Z"
    }
   },
   "id": "beaab3e580ba2ca7",
   "execution_count": 32
  },
  {
   "cell_type": "code",
   "outputs": [
    {
     "name": "stdout",
     "output_type": "stream",
     "text": [
      "Number of documents per topic\n",
      "Topic 0: 3179\n",
      "Topic 1: 3660\n",
      "Topic 2: 3349\n",
      "Topic 3: 3922\n",
      "Topic 4: 3680\n",
      "Topic 5: 3388\n",
      "Topic 0\n",
      "xxxxxxxxxxxxxxxxxxxxxxxxxxxxxxxxxxxxxxxxxxxxxxxxxxxxxxxxxxxxxxxx\n",
      "==================================================\n",
      "生力 啤酒 英文 SanMiguelBrewery 生力 集团 菲律宾 现时 最 大 的 食品 、 饮品 及 包装 上市 公司 所 生产 的 啤酒 旗下 尚 有 香港生力啤 酒厂 有限 公司 。 募资 年 月 日 麒麟 啤酒 斥资 约 亿 日 圆 合亿 美元 从 食品 和 饮料 巨头 生 力 集团 SanMiguelCorpPSESMCB 手中 购买 的 生力 啤酒 公司 SanMiguelBreweryIncPSESMB 股票 。 复以亿 美元 增购 了 生力 酿酒厂 的 股份 使 它 的 总 持股 达到 。\n",
      "----------\n",
      "Topic distribution = [9.0184724e-01 1.8349318e-04 4.2654285e-03 2.8228277e-04 6.9509139e-03\n",
      " 8.6470611e-02]\n",
      "==================================================\n",
      "北美 红松 鼠 （ 学名 ： Tamiasciurus hudsonicus ） 是 美洲 红松 鼠 的 其中 一 种 。\n",
      "----------\n",
      "Topic distribution = [9.9973136e-01 1.5267538e-07 1.4264106e-05 1.1400097e-06 3.2459149e-05\n",
      " 2.2055807e-04]\n",
      "==================================================\n",
      "考 氏鳍 天竺鲷 ( Pterapogon kauderni ) 是 一 种 细小 的 热带鱼 ， 常见于 水族 贸易 。 分佈 本 种 分佈 局限于 印尼 邦 盖 群岛 。 大部分 考氏鳍 天竺鲷 见于 邦盖 群岛 17 个 大 岛 以及 10 个 小 岛 ， 少数 发现 于中 苏拉威西 Luwuk 。 一 个 引入 的 种群 于 北 苏拉威西 蓝 碧海崃 建立 ， 该 处 位于 考氏鳍 天竺鲷 的 天然 分佈 地 北部 距离 400 公里 ， 于 2000年 的 由 水族 贸易 者 引入 。\n",
      "----------\n",
      "Topic distribution = [9.9983501e-01 1.6140278e-06 8.1148246e-06 2.0868892e-08 1.7962879e-05\n",
      " 1.3727737e-04]\n",
      "==================================================\n",
      "实业 先锋 （ INDUSTRIAL PIONEER ） 是 一 匹 在 香港 受训 的 纯种 赛驹 ， 主要 胜出 赛事 包括 香港 打吡 大赛 和 香港 金盃 。 竞赛 生涯 2000-01年 马季 实业 先锋 来 港 被 评为 98 分 ， 初出 即 跑 董事盃 与 一 众 本地 顶级 佳驹 如 靓虾王 ， 电子 麒麟 等 周旋 ， 跑第 9 名 。 第三 场 角逐 三 级 赛 百 周年 纪念 银 瓶 ， 更 击败 老马 王 原居民 专冠 。 其 后于 香港 金盃不敌 同 属 4 岁 对手 的 偶像 和 喜 莲 精神 ， 但 最终 在 打吡 大赛 中 以 两 个 马位 反先 ， 为 练 马 师 简炳墀 赢 出 第 5 个 打吡 冠军 。 接着 出战 女皇 盃 表现 失准 只得 第 10 。 随后 跑 遮打盃 则 上 名 得 第3 名 。 季 后 获选 成为 最 佳 中 距离 马 。\n",
      "----------\n",
      "Topic distribution = [8.8258392e-01 1.3626681e-04 1.3165580e-04 2.6180310e-04 1.7009458e-02\n",
      " 9.9876978e-02]\n",
      "==================================================\n",
      "大足 鼠耳蝠 （ 学名 ： Myotis ricketti ） ， 又名 大脚 鼠耳蝠 ， 是 鼠耳蝠 的 一 种 ， 现有 分佈 于 中国 及 越南 。 牠们 一般 住在 溪流 及 其他 淡水 湿地 附近 的 山洞 里面 。 牠们 群居 ， 有时 甚至 与 其他 品种 的 鼠耳蝠 一 起 住 。 牠们 的 脚部 特别 大 ， 因而 得名 。 牠们 虽然 主要 吃 昆虫 ， 但 在 香港 也 有 吃鱼 的 纪录 ， 并 在 牠们 的 粪便 中 发现 鱼鳞 ； 2000年 后 ， 在 蓟县 独 乐 寺 也 发现 了 以 鱼 为 主食 的 大足 鼠耳蝠 。 资料 来源 编辑 Chiroptera Specialist Group 1996 ， 2007年 7月 19日 参阅 《 香港 陆上 哺乳 动物 图鑑 》\n",
      "----------\n",
      "Topic distribution = [9.9996340e-01 4.4403910e-07 1.8776885e-06 1.4099352e-07 3.0192861e-05\n",
      " 3.9018710e-06]\n",
      "Topic 1\n",
      "xxxxxxxxxxxxxxxxxxxxxxxxxxxxxxxxxxxxxxxxxxxxxxxxxxxxxxxxxxxxxxxx\n",
      "==================================================\n",
      "amanozako heaven oppose everything tengu deity monstrous goddess mention the kujiki ancient japanese text which state that she originate when susanoo let his own ferocious spirit build inside him until vomit her out the wakan sansai zue describe this deity have furious temper beastly head with long nose long ear and great fang strong they can chew metal blade rag and capable fly for thousand amanozako illustrate toriyama sekien the third volume his konjaku gazu zoku hyakki\n",
      "----------\n",
      "Topic distribution = [1.3170368e-03 9.8432988e-01 1.1392928e-02 2.6649733e-03 3.8424318e-05\n",
      " 2.5674529e-04]\n",
      "==================================================\n",
      "lgbti right tamil nadu varies from the right for the gay lesbian bisexual transgender and intersex community transgenders tamil nadu call thirunar thirunangai for transfeminine people and thirunambi for transmasculine people the term aravaani tamil widely popularise before which substitute term for hijra india and visible male female transgender people thirunangai often discriminate against job force them resort beg and prostitution accord estimate from about people tamil nadu identifies themselves lgbt government have provide ration card and opportunity change sex without any fee through operation the government general hospital social security the tamil nadu state india the first state introduce transgender hijra aravani welfare policy accord the transgender welfare policy transgender people can access free sex reassignment surgery the government hospital only for transfeminine people free housing program various citizenship document admission government college with full scholarship for higher study alternative source livelihood through formation self help group for saving and initiate income generation programme igp tamil nadu also the first state form transgender welfare board with representative from the transgender community pioneering effort solve the problem face transgender people the government tamil nadu state south india establish transgender welfare board april social welfare minister will serve the president the board this effort tout the first india and even the world the government have also start issue separate food ration card for transgender people even though the transgender welfare board solely start focus only the development trans woman recent day the right trans men and gender variant discuss additional effort improve the education lgbt people tamil nadu government also issue order may create third gender for admission government college the government have also decide conduct census the transgender population order issue identity card april tiruchi siva dmk move the popular bill which support all political party rajya sabha for transgender people ensure they get benefit akin reserve community like scsts and take step see that they get enrolment school and job government besides protection from sexual harassment the manonmaniam sundaranar university begin offer free tuition transgender student supreme court refer curative petition opposition the previous verdict uphold the section the indian penal code constitution bench indicate that they decide reopen the section again this move celebrate the lgbt community chennai helpline and other service february first lesbian phone helpline launch indian community welfare organization icwo follow suicide lesbian couple chennai march telephone helpline call manasu set tamil nadu aid initiative voluntary health service srishti madurai launch india first helpline for genderqueer lgbtqia people october madurai later june the helpline turn offer service for hour with tagline just have someone understand talk can save life chennai dost launch focus lgbt tamil nadu the service call groom want permitted gay and bisexual register online\n",
      "----------\n",
      "Topic distribution = [2.7770793e-06 9.9806076e-01 3.7182803e-04 1.0378232e-05 8.3941984e-08\n",
      " 1.5541982e-03]\n",
      "==================================================\n",
      "the dharmakya sanskrit truth body reality body wylie chos sku rdzogs sku one the three body trikaya buddha mahayana buddhism the dharmakya constitute the unmanifested inconceivable acintya aspect buddha out which buddhas arise and which they return after their dissolution buddha manifestation the dharmakya call the nirmakya transformation body reginald ray writes the body reality itself without specific delimited form wherein the buddha identify with the spiritually charged nature everything that the dhammakaya movement thailand and the tathgatagarbha stras the ancient indian tradition view the dharmakya the tman true self the buddha present within all being tibetan etymology tibetan the term chos sku gloss dharmakya compose chos religion dharma and sku body form image bodily form figure thondup talbott render the ultimate body key scholarly collaborative nyingma translation work publish furthermore notable the first complete rendering the bardo thodol into the english language from the tibetan this technical term configure into english buddha body reality the yungdrung bon term for dharmakya rdzogs sku where rdzogs mean perfection origin and development pali canon the pli canon gautama buddha tell vasettha that the tathgata the buddha dhammakaya the truth body the embodiment truth well dharmabhuta truth become that one who have become truth\n",
      "----------\n",
      "Topic distribution = [9.3263880e-06 9.9991786e-01 3.3038785e-05 2.0273743e-05 3.2286476e-08\n",
      " 1.9421463e-05]\n",
      "==================================================\n",
      "mara los angeles vern know marita vern kidnap april from her home town tucumn province the northwest argentina she have still not find evidence suggest that she kidnap human trafficker order force her into prostitution and may have forcibly transport either rioja province argentina spain maritas mother susana trimarco have run tireless search find her daughter her search have lead more than woman who victim traffic the maria los angeles foundation rescue and help victim traffic for example the foundation play vital role bring alika kinans case court because this over the year verns case have become symbol the fight against human trafficking argentina and most south america the disappearance and search marita vern have leave the home her mother april keep doctor appointment when accord the description witness she kidnap people who get out red car three day later she find police the area ramada over kilometer away wear shoe with heel instead the sneaker she have wear when she disappear appear that she have escape from sex party police leave her bus that head tucumn but she never reach her destination april the saddest day life will never forget that day when daughter life destroy trimarco tell the bbc she and her husband daniel who die ask hospital and speak police and neighbour about marita one know her whereabouts trimarco recount walk back and forth hospital street talk with her girlfriend nothing desperate the police station they didnt want take our report they say she have voluntarily with boyfriend with her girlfriend then they say they have paper take down report gas out and look for her car number day later witness come forward and report see marita push into red car three men three week later prostitute tell her parent that she have sell trafficker with little support from the police maritas parent conduct their own investigation which soon lead enough evidence allow the police raid number suspected brothel where her daughter could have hold the suspected brothel rioja call themselves cabaret whiskey bar whiskeras and have since call place for the practice prostitution where there systematic recruitment woman include mean deprive them liberty the investigation identify three rioja whiskeras candy candilejas the limelight and desafo the challenge front for prostitution one the woman free during this raid report see marita candy with dyed hair and blue contact lens but that she have remove shortly before the raid arm with this information maritas mother begin infiltrate human traffic gang pretend interested buy woman the information she gather from these visit lead police raid which rescue dozen woman who sexually exploit the search give another lead when the allege madam candy lidia medina hear say those fool look for her and shes spain medina currently under arrest for unlawful deprivation liberty and aggravated promotion prostitution along with her son and his wife other branch the investigation incriminate daniela milhein from tucumn who have intend transport marita rio gallegos she detain along with her husband and rioja province official who transport woman the raid have lead series woman release this include woman from the province misiones one from the province crdoba and two from the province buenos air further information obtain about the prostitution ring spain from which woman rescue but marita not find among them february people accuse kidnap vern and sell her trafficker who force her into prostitution trial court tucumn the trial february people men and woman charge with kidnap vern and promote prostitution trial court the city san miguel tucumn the three month long trial heard more than witness include trimarco and dozen woman rescue from brothel her december the three judge find the defendant not guilty say that there evidence link the defendant marita vern february the sixth day the trial and the second day her statement the court she tell the story her ten year search for marita confronting defendant politician and police maritas mother related how she discover the business human trafficking and declare that the only thing she look for the return her daughter trimarco dedicate the first part her statement talk about her family she remember her husband daniel vern who die the early childhood year their child horace and marita the courtship the latter with david catalan and the birth micaela her granddaughter trimarco describe what happen the day marita disappear her suspicion fell patricia soria nurse who live the same neighborhood marita las talitas marita want get iud birth control device and she insist that marita maternidad the maternity center not like this woman all since she ask marita many detail her private life and her family she declare then she testify against miguel ardiles suppose employee maternidad who help marita get appointment they call her give her the appointment and they ask her bring her document this document her identity card the documento nacional identidad dni which require for hospital admission carry out banking procedure and travel documentation trimarco remark this look unusual recount the initial search when marita not return from maternidad she say walk back and forth hospital street talk with her girlfriend nothing desperate the police station they didnt want take our report they say she have voluntarily with boyfriend with her girlfriend then they say they have paper take down report gas out and look for her car chief justice alberto piedra interrupt this point the story and declare recess yes because have lot leave need about day say trimarco when the court resume maritas mother speak the search she spar word against the former governor julio miranda and official his cabinet like stupid person the governor mansion say stupid because the mafia there they send talk ale she say trimarco refer agreement sign the government mirandas order with the association united remiseros tucumn arut which they declare custodian the city julio daz secretary security tell they have more car and better weapon than the police she say remiseros minicabs taxi that have external marking and can only book advance telephone remisera the taxi office when she have make reference mara jess rivero the head arut and the cinco estrellas five star remisera company she speak her that woman and expect she testify against ruben chancha the pig ale never have any confidence them because everyone say that they criminal she say chancha ale and the mafia handle all the drug and prostitution this province dont know why the people tucumn dont stand them stand them short and small defend daughter she assure them there three moment tension because reaction the gmez family and interruption from the lawyer woman who work night tell that she know what happen marita she give detail where she have hold captive and that she abduct for sexual exploitation rioja could not believe these thing exist trimarco say maritas mother reject the other scenario and criticize the work ernesto baaclini then secretary the office instruction viii who charge the investigation when district attorney joaquina vermal die when last she arrive brothel rioja she not find marita but girl anahi run into her arm and beg her rescue her she tell her that her daughter have see the previous week and relate the ordeal she have live through the first many harrow testimony unfortunately become specialist this crime because touch live and search for daughter ill never give the search whoever fall fall mission daughter not want close eye before find out about her there many miss girl who help but care about daughter trimarco say firmly tuesday december three judge tucumn provincial court clear all defendant all charge attorney represent verns mother accuse the three judge corruption the judge argue piedrabuena december say there element prove the kidnapping marita the version about just such take year the dossier have body and still poorly investigate evidence obtain that could prove she kidnap force her into prostitution the acquittal the defendant lead widespread protest around argentina anonymous people publish the personal data address telephone and bank statement the judge the vern case the group also hack government webpage numerous march support susana trimarco call different city argentina with the people demand justice for marita vern michelle obama nobel laureate adolfo perez esquivel and others have present their respect and support susana trimarco nominee for the nobel peace prize for her unrelenting work against human trafficking\n",
      "----------\n",
      "Topic distribution = [6.4725388e-04 8.9754403e-01 4.1343056e-02 2.1898292e-02 2.4909777e-05\n",
      " 3.8542461e-02]\n",
      "==================================================\n",
      "iceland destination and transit country for woman subject human traffic specifically force prostitution some report maintain iceland also may destination country for men and woman who subject condition force labor the restaurant and construction industry icelandic red cross report claim that there least and possibly many case human trafficking iceland over the previous three year female victim human trafficking iceland come from eastern europe russia africa south america and southeast asia during the reporting period foreign woman work iceland strip club brothel vulnerable sex traffic accord the red cross report undocumented foreign worker mostly from eastern europe and baltic state iceland manufacture and construction industry vulnerable force labor during the reporting period local authority unable document case forced labor but acknowledge violation immigration employment law the government iceland not fully comply with the minimum standard for the elimination traffic however make significant effort and have show great deal political will deal with the problem iceland make substantial progress investigate and prosecute trafficking offense during the reporting period though victim assistance remain hoc the government have yet establish national anti traffic public awareness campaign although the amount information available the public about traffic increase dramatically due several high profile trafficking case and government sponsor anti traffic symposium october further effort prevent sex traffic the government make the purchase sex illegal and outlawed strip club state department office monitor and combat trafficking person place the country tier prosecution the government make clear progress its law enforcement effort against human traffic during the reporting period iceland prohibits traffic for both sexual exploitation and force labor through section its criminal code december parliament amend the definition traffic the code align with the international definition under the tip protocol punishment prescribe for traffic under section range eight year imprisonment which sufficiently stringent though not commensurate with penalty prescribe for other serious crime such rape actual sentence for traffic offender have commensurate with rape sentence police conduct three investigation during the reporting period and the government initiate eight prosecution during the reporting period compare with prosecution the previous year five trafficking offender convict under section each sentence five year prison one allege traffic offender acquit human traffic charge but convict other charge and sentence two year prison she have since arrest trafficking charge relate different case and remain prison there known report traffic related complicity icelandic official strengthen partnership with spanish and lithuanian authority traffic case during the reporting period the government fund formal anti traffic train include some training abroad for all employee the ministry for foreign affair and some police and airport official protection the government make some progress ensure that traffic victim receive access protective service not provide specific legal protection for traffic victim though practice the government provide service three victim include hour police protection for one victim the government fund domestic violence shelter accommodate trafficking victim but also provide private domicile least one instance icelandic authority provide trafficking specific care for male victim however all victim regardless age gender entitle free government support health care legal service and counsel service the government encourage victim assist the investigation and prosecution traffic offender the government not employ temporary longer term residence permit system offer relief from deportation foreign trafficking victim but least one occasion grant temporary residence permit one victim although lack formal system proactively identify victim traffic the government effectively monitor immigration and emigration pattern for evidence trafficking and potential trafficking victim the country only international airport law enforcement official identify least one victim during the reporting period iceland not employ victim referral process though ngo report some law enforcement officer refer victim for assistance case case basis the lack systematic proactive victim identification and referral procedure increase the risk victim could prosecute jailed and deport for unlawful act such immigration violation commit direct result traffic\n",
      "----------\n",
      "Topic distribution = [1.1431952e-04 9.5055288e-01 3.8025394e-02 2.6169996e-04 5.0657474e-07\n",
      " 1.1045244e-02]\n",
      "Topic 2\n",
      "xxxxxxxxxxxxxxxxxxxxxxxxxxxxxxxxxxxxxxxxxxxxxxxxxxxxxxxxxxxxxxxx\n",
      "==================================================\n",
      "the band tail barbthroat threnetes ruckeri medium size hummingbird which resident breeder from southeastern guatemala and belize western ecuador and western venezuela this hermit species inhabit the understory wet forest woodland edge and old second growth occur the lowland typically elevation although young bird may wander higher the nest cup plant fibre attach high the underside heliconia sometimes banana leaf the female alone incubate the two white egg the band tail barbthroat long and weigh have long decurved bill and with other hermit hummingbird the sex similar the adult have bronze green upperparts dark ear patch and dusky malar stripe the chest rusty orange and the underpart otherwise grey young bird resemble the adult but have buff feather tip the southern subspecies venezuelensis somewhat duller the breast than the nominate northern race the band tail barbthroat have high thin tseep call and the male song give alone lek dididit dew dew the caribbean lowland but the pacific side the song longer and include trill and warble like other hermit this barbthroat visit widely separated flower include heliconia costus and banana and the male less aggressively territorial than other male hummingbird\n",
      "----------\n",
      "Topic distribution = [1.0084030e-02 2.0220605e-04 9.8953748e-01 1.7205234e-04 1.0200229e-06\n",
      " 3.1711152e-06]\n",
      "==================================================\n",
      "chicken fry fried chicken product sell the international fast food restaurant chain burger king the time their introduction the company have intend chicken fry one their larger adult orient product make with higher quality ingredient than their standard menu item additionally the product far target the snacking and convenience food market with specific packaging design that intend easier handle and fit into automotive cup holder the product part series product introduction design expand burger king menu with both more sophisticated fare and present larger meatier product that appeal year old adult male along with this series larger more complex group menu product the company intend attract larger more affluent adult audience who would willing spend more the better quality product they discontinue the united state but continue sell some market such italy august they reintroduce for limited time offer lto north america lead their permanent addition the menu march over country globally one the company major offering the chicken fry sometimes the center product advertising for the company the original advertisement create the firm crispin porter bogusky and the subject both criticism and legal action the metal band slipknot over claim intellectual property right while later advertise program start the company new direction digital base multi medium advertising with the product north american reintroduction and burger king utilize heavy social medium campaign help entice fan the product back into restaurant the company have also rely heavily product tie ins with the nfl ncaa and nascar promote the product across different demographic group even though the product have prominent part the menu for the better part decade burger king have release very few limited time lto variant the product its first one release the summer despite major product line the company portfolio burger king have register very few any global trademark protect its investment the product history chicken fry introduce part menu expansion that design cater more adult demographic look for dish that beyond the standard fast food fare the time the introduction burger king target demographic group identify the super fan group consist male between the age that ate fast food restaurant several time week additionally the chain also add other fare such its tendergrill tendercrisp and angus sandwich that design offer more complex menu item that would raise average check price and expand the breadth its offering the fast food market place the product discontinue january replace with burger king version chicken strip march that year follow chicken fry discontinuation there call for the product reinstatement from fan the product forum such reddit business insider note that they one the most requested fast product that people would like see return menu fan the product also establish several social medium account dedicate chicken fry return facebook twitter and tumblr additionally changeorg petition create that call burger king reinstate the product its menu perez hiltons web site declare that chicken fry one product many that will never come back while comedian daniel tosh feature skit during one the segment his show tosh the product return they release august limited time offer lto the return the product meet with favorable reaction from those who advocate for chicken fry return the burger king menu there disappointment from these group well because the product status limited time offering march burger king permanently added chicken fry the menu large international menu expansion thirty country the product garner large amount attention the internet after its discontinuation its peak the product mention one form another average once every second its third quarter earnings report burger king admit that the massive social medium attention one the primary reason bring the product back the positive reaction the reintroduction include over one million mention twitter this tie into major push the company utilize social medium free marketing tool millennials who overwhelmingly utilize interactive medium communicate and prefer company that utilize these tool besides customer demand for the product another major reason for the reintroduction due significant rise the cost beef during the previous few month lead the reintroduction chicken fry the available cattle stock have decline since the usda begin record keep this shortage ground beef cause spike the price beef all time high june accord the bureau labor statistic additionally increase competition from mcdonalds wendys and other chain the fast food industry drive burger king boost sale introduce new product along similar line two major competitor have revamp their menu with product such variation the mcdouble from mcdonalds and sandwich base pretzel style bun from wendys the third reason the product bring back because new approach the company take regard lto product instead put out large number product that may only appeal small audience instead would only add smaller amount product that have broader market appeal chicken fry part that goal with the introduction utilize three prong approach its stated intention introduce product those that will have most impact bid appeal millennials utilize social medium focus campaign and utilize former product from its portfolio that the company probably should have think about before discontinue the idea reintroduce older product appeal company such burger king and mcdonalds because operationally easier than launch completely new product allow company utilize older advertising along with its exist supply chain already which already establish deliver the product ingredients the limited time offer allow chain bring new product the menu without add permanent complexity their kitchen operation the reintroduction chicken fry prove fortuitous decision for burger king the result sale bump provide increase profit each time they add the menu the reintroduction resounding success for the company help burger king achieve domestic same store comparable sale rise the opposite side mcdonalds report decrease for the same period its domestic same store sale which the competitor attribute ongoing aggressive competitive activity the success the reintroduction again help the chain post positive financial number with the company reporting that the chicken fry reintroduction one trio factor that help drive second quarter same store comparable sale growth again arch rival mcdonalds report that its same store comparable sale fell for the same time period the its promotion fail meet financial analyst prediction product description chicken fry bread and fry chicken strip and available three size during their initial availability period six nine and twelve piece serving three and thirty six piece size available limited time offer lto the smaller size sell carte while larger portion could purchase meal option while its core audience adult such soccer mom commuter childrens meal option one time available that include six piece order the product the reissued product only available nine piece serve recommended price point usd summer lto introduce spicy variant call fiery chicken fry addition the standard offering the product feature spicy pepper base bread feature mix cayenne pepper black pepper and other spice that replace the normal coat the product the first variant chicken fry add the company menu develop the product burger king chief market officer state that once taste tester describe the product spicy shit the company realize have the correct spice mix sale the product would limit one month period but the company state sale successful enough would consider extend the availability beyond the initial time frame accompany the introduction the product the chain release new sauce simply call chicken fry sauce the new condiment not widely advertise with almost all promotion through the company social medium account twitter and facebook the sauce describe combination bbq sauce and honey mustard and describe burger king the sauce all sauce the company post accompany the hashtag askforthesauce\n",
      "----------\n",
      "Topic distribution = [1.0152746e-04 2.3749762e-05 9.9982244e-01 2.5459687e-05 1.7695923e-07\n",
      " 2.6663232e-05]\n",
      "==================================================\n",
      "golden chick fast food restaurant chain serve fry chicken the company headquarter richardson texas the first restaurant san marcos texas under the name golden fry chicken franchise start decade later the franchise grow number restaurant primarily central texas with focus city like austin and san antonio eventually expand outside the dallas fort worth metroplex and then cross the state line into oklahoma and cross the ocean into karachi pakistan there currently store operate texas oklahoma south carolina georgia and florida and further plan for international development since the chain flagship menu item have its chicken strip trademark golden tender golden fry chicken abbreviate its present name golden chick golden chick celebrate its anniversary and sponsor texas country reporter\n",
      "----------\n",
      "Topic distribution = [1.9382525e-04 6.5228727e-07 9.9979407e-01 1.0889760e-05 3.2451258e-08\n",
      " 5.2749931e-07]\n",
      "==================================================\n",
      "lngos hungarian pronunciation lao turkish lalanga hungarian food speciality deep fry dough also traditionally make vojvodina serbia where introduce the local hungarian etymology and history the name come from lng the hungarian word for flame the early century glossary beszterce the most ancient currently know hungarian dictionary reveals that the ultimate ancestor flat bread the panis focacius attribute the roman which derive also the italian flat bread call focaccia ancient rome panis focacius flat bread bake the ash the fireplace latin focus mean fireplace however the modern lngos despite its name not prepared near open flame but rather deep fat frying and among hungarian food instead the pogcsa which preserve the connection both etymological and culinary the ancient panis focacius lalanga present both the byzantine and ottoman cuisine while the first one only eaten sweet ottoman turkey eat both sweet with honey savoury dish with cheese lalanga continue exist the turkish cuisine well the greek cuisine mostly peloponnese lalagia greek variation the dough for lngos make water milk and flour yeast sugar and salt add sour cream yoghurt mash potato the dough optional the latter case call potato lngos hungarian krumplis lngos eat fresh and warm topped with sour cream and grate cheese liptauer ham sausage most frequently without topping just rub with garlic garlic butter douse with garlic water other ingredient and accompaniment can mushroom quark cheese eggplant cabbage kefir omelet and confectioner sugar jam\n",
      "----------\n",
      "Topic distribution = [2.0354099e-03 2.3322715e-03 9.9555689e-01 1.2337733e-05 2.2627169e-07\n",
      " 6.2972169e-05]\n",
      "==================================================\n",
      "knish jewish central and eastern european snack food consisting filling cover with dough that either baked grill deep fried knish can purchase from street vendor urban area with large jewish population sometimes hot dog stand from butcher shop make popular north america central and eastern european jewish immigrant from the pale settlement mainly from present day belarus poland lithuania and ukraine most central and eastern european traditional version the filling make entirely mash potato ground meat sauerkraut onion kasha buckwheat groat cheese other variety filling include sweet potato black bean fruit broccoli tofu spinach knish may round rectangular square they may entirely cover dough some the filling may peek out the top size range from those that can eat single bite hors doeuvre sandwich sized history eastern european jewish immigrant who arrive sometime around brought knish north america knish yiddish word that derive from the ukrainian knysh and polish knysz the first knish bakery america found new york generally recognize food make popular new york jewish immigrant the early the united state undergo knish renaissance the drive knish specialty establishment such the knish shop baltimore maryland buffalo and bergen washington mother knish westlake village california similar dish many culinary tradition feature similar bake grilled fry dough covered snack see list dumpling include the cornish pasty the scottish bridie the jamaican patty the spanish and latin american empanada the middle eastern fatayer the portuguese rissol the italian calzone the central and south asian samosa the texan klobasnek the czech kolache the romanian placinta the polish pierogi the russian and ukrainian pirog pirozhki and vatrushka the tatar peremech the russian german bierock and the southeast asian curry puff\n",
      "----------\n",
      "Topic distribution = [4.1144001e-04 2.7217213e-05 9.9954969e-01 4.9610821e-06 7.0900570e-09\n",
      " 6.6673401e-06]\n",
      "Topic 3\n",
      "xxxxxxxxxxxxxxxxxxxxxxxxxxxxxxxxxxxxxxxxxxxxxxxxxxxxxxxxxxxxxxxx\n",
      "==================================================\n",
      "danger doom stylize dangerdoom hip hop project consist danger mouse and doom their first album the mouse and the mask release and follow the occult hymn background danger mouse and doom have previously collaborate social distortion from prince pos the slickness danger mouse remix zero somersault and the track november have come from gorillaz second studio album demon day doom have state that hop there would second dangerdoom album which would rap from the perspective the cartoon and their voice rather than simply create story around them danger mouse also slat reunite with doom though this not occur and nothing have announce since much dangerdooms music have fill with material from and endorse adult swim block animate television show air cable cartoon network master shake frylock meatwad carl brutananadilewski ignignokt and err from the adult swim television show aqua teen hunger force all make appearance the mouse and the mask reference other adult swim show find the song chupa nibre which the voice brak from space ghost coast coast and the brak show and lois griffin from family guy hear both the song title and its line chew like chupa nibredigest group and sell the poop ebay reference the show futurama two song perfect hair and athf direct reference the show from which they derive their name perfect hair forever and aqua teen hunger force the song basket case also have harvey birdman mentok the mind taker and other character the show harvey birdman attorney law another show adult swim the song sofa king also aqua teen hunger force reference feature the aqua teen hunger force cast and billywitchdoctorcom from the episode video ouija dangerdooms music have also play adult swim one these song space dangerdoom award best hip hop album the year plug independent music award for their album the mouse and the mask\n",
      "----------\n",
      "Topic distribution = [3.3559227e-05 1.6023163e-04 1.9471863e-02 9.8017555e-01 1.2731555e-04\n",
      " 3.1479165e-05]\n",
      "==================================================\n",
      "juvana perhitungan terakhir action film direct faisal ishak the film premier september plot cast johan asari botak zahiril adzim daim adam shahz ayam hasnul rahmat encik raja farhanna qismina eyka farhana nad zainal sharnaaz ahmad lan todak special appearance pekin ibrahim tok khairul mohamed komengain megat fazeril faiz kicap idzham ismail panjang release box office reception\n",
      "----------\n",
      "Topic distribution = [2.5300280e-05 2.2581478e-03 4.5837449e-05 9.9669802e-01 9.7075599e-04\n",
      " 1.9840386e-06]\n",
      "==================================================\n",
      "tiffany case fictional character the james bond novel diamond forever and its film adaptation bond girl she portray jill john the film the novel the story her name that when she bear her father case embittered she not boy that give her mother thousand dollar and powder case from tiffany and walk out the film state that she name after her accidental preterm birthplace tiffany where her parent through choice wed band which bond dryly joke that she lucky that have not happen van cleef arpels the novel ian fleming novel she american diamond smuggler work fence for the spangled mob ruthless american gang that smuggle diamond from africa through international pipeline bond contact her london posing petty crook peter frank use her professionally gateway into the pipeline even develop personal interest her felix leiter familiar with tiffanys background acquaints bond with the fact that she gang rap teenager and result have develop hatred men she nevertheless attract bond and the two ultimately become lover tiffany turn against her former partner and help bond escape from their clutch the novel she later kidnap wint kidd the queen elizabeth but she turn rescue bond after this adventure the two briefly live together but like many bond woman she out his life the next novel from russia with love this novel fleming write that tiffany find bond too difficult live with and return the united state with american military officer apparently intend marry him the film the film adaptation diamond forever substantially revise the plot and with tiffanys character the film she small time smuggler unwittingly work for bond nemesis ernst stavro blofeld and his terrorist organisation spectre posing gangster peter frank bond arrange partnership with her but this time investigate her role blofelds latest criminal scheme she initially believe that she and frank make million but get catch much more than she bargain for blofelds henchman wint and kidd begin eliminate all the link the smuggling chain when they accidentally kill bond casino conquest plenty otoole after mistake her for tiffany she help bond follow the path the smuggled diamond blofeld the end the film tiffany have help bond defeat blofeld and the two depart america romantic cruise together the first evening they interrupt assassination attempt wint and kidd but bond foil and the two continue their cruise conscious that blofelds diamond encrust satellite now non functional above them space tiffany wonder aloud how they might get the diamond back earth again attempt leave vegas with the diamond tiffany hire red ford mustang mach which later drive bond\n",
      "----------\n",
      "Topic distribution = [1.0820075e-04 2.0833869e-02 3.2579985e-02 9.4316453e-01 2.0351085e-04\n",
      " 3.1099278e-03]\n",
      "==================================================\n",
      "rufus cooper iii bear march also know his stage name young noble american rapper who best know for part tupac shakurs rap group outlawz noble join the outlawz early and also the last member add the group tupac himself before the late rapper death september life and career noble bear los angeles california make his debut shakurs album the don killuminati the day theory song bomb first second reply hail mary life outlaw and just like daddy december shakurs album still rise release which consist material record with pac and one solo song noble replace hussein fatals vocal the song through the outlawz and young noble twitter page together they announce the release two volume mixtapes title outlaw rydahz vol and outlaw nation outlaw rydaz volume one release march and outlaw nation october also say would feature some his mentor tupac shakurs old affiliate include thug life which pacs group before create the outlawz money who member shakurs old group digital underground and legit who feature shakurs album death row record all eyez the track aint hard find filmography reference external link official website young noble facebook young noble twitter young noble instagram young noble channel youtube young noble discography discogs\n",
      "----------\n",
      "Topic distribution = [7.5908935e-07 1.5945367e-04 4.1560552e-04 9.9932909e-01 1.6295649e-05\n",
      " 7.8852834e-05]\n",
      "==================================================\n",
      "undercut martial art film write and direct stephen reedy synopsis american ninja eric lose his job state employ peace officer when his job outsource cheaper cost effective chinese labor deal with the hardship unemployment werent stressful enough ninja dog sick and need expensive medicine release undercut release online via the stunt people sometime have also screen wondercon the san diego comic con and the metreon\n",
      "----------\n",
      "Topic distribution = [1.9332099e-05 2.8321873e-03 6.9748523e-04 9.9625152e-01 1.9363053e-04\n",
      " 5.9140516e-06]\n",
      "Topic 4\n",
      "xxxxxxxxxxxxxxxxxxxxxxxxxxxxxxxxxxxxxxxxxxxxxxxxxxxxxxxxxxxxxxxx\n",
      "==================================================\n",
      "苏慧伦 （ Tarcy Su ， 1970年 10月 27日 － ） ， 是 台湾 女 歌手 、 女 演员 ， 出生 于 台北市 。 姊姊 苏霈 （ 本名 苏 爱伦 ） 也 是 歌手 ， 擅长 演绎 老歌 。 生平 据 苏慧伦 自己 所述 ， Tarcy 这个 英文 名字 是 以前 看 杂志 时 ， 看到 Tracy 这个 英文 名字 而 觉得 不错 ， 但 当时 觉得 杂志 应该 是 写错 字 了 ， 所以 就 自己 改成 了 Tarcy 。 苏慧伦 于 台北市 怀生 国中 毕业后 ， 入华冈 艺校 读 戏剧科 。 她 当初 在 柯 一 正 老师 介绍 之下 去 试音 ， 之后 便 与 朱雀 文化 制作 签约 （ 由 滚石 唱片 发行 ） ， 于 1990年 3月 以 邻家 女孩 姿态 出道 ， 发 行首 张 专辑 《 追 得 过 一切 》 ， 其 清新 形象 与 当时 的 陈明真 、 方季惟 一同 被 封为 「 玉女 掌 门人 」 、 「 学生 情人 」 。 1994年 苏慧伦 与 滚石 唱片 签约 ， 在 滚石 的 企划 主导 下 尝试 各 种 不同 的 曲风 及 形象 包装 ， 1996年 起 凭着 「 变身 三 部 曲 」 ： 《 Lemon Tree 》 （ 1996 ） 、 《 鸭子 》 （ 1996 ） 、 《 傻瓜 》 （ 1997 ） 等 三 张 专辑 站上 声势 巅峰 ， 成为 引领 流行 音乐 的 代言人 之一 ， 如 《 傻瓜 》 专辑 中 的 傻瓜 头 ， 便 曾 成为 当时 模仿 的 焦点 。 2001年 推出 《 恋恋 真言 》 专辑 后 ， 苏慧伦 将 演艺 重心 转向 戏剧 演出 ； 直 到 2005年 转换 新 东家 上 华 唱片 ， 隔年 才 以 睽违 四 年 多 的 《 同名 专辑 》 复出 歌坛 ， 展现 轻 熟 女的 风范 。 戏剧 方面 ， 苏慧伦 在 1993年 第一 次 参与 了 电影 《 只要 为你 活 一 天 》 演出 ， 并且 在 2002年 公视 人生 剧展 《 童女 之 舞 》 中 突破 演出 女 同志 的 角色 ， 而 2003年 公视 人生 剧展 《 终身 大事 》 的 演出 亦 入围 了 该 年度 的 金钟 奖 单元剧 女 主角 。 2005年 的 「 深海 」 饰演 一 名 忧郁症 患者 ， 在 亚太 影展 上 入围 了 最佳 女 主角 ， 差 一 票 当选 影后 。 2008年 ， 苏慧伦 以 电影 《 流浪 神 狗 人 》 中 一 角 击败 劲敌 ， 夺得 罗马 亚洲 电影节 影后 ， 成为 从影 15 年 来 的 第一 个 演技 奖项 。\n",
      "----------\n",
      "Topic distribution = [1.5609404e-04 1.0518342e-05 2.8701052e-06 8.2359125e-04 9.9784899e-01\n",
      " 1.1579499e-03]\n",
      "==================================================\n",
      "《 毒 蛇 吓 机 》 （ 英语 ： Snakes on a Plane ） 是 一 部 2006年 的 美国 动作 惊悚 电影 。 由 戴维·R·埃利斯 执导 ， 主演 是 森姆·L·积逊 。 由 新 线影 业于 2006年 8月 18日 在 北美 上映 。 内容 简介 积逊 （ Samuel L. Jackson ） 戏中 饰演 一 名 FBI 探员 ， 奉命 保护 一 个 无辜 的 可怜人 —— 辛钟斯 。 辛钟 斯 意外 地 目击 了 一 宗 黑社会 的 残暴 兇杀案 ， 并 成为 该 案 的 唯一 目击 証人 。 为 保证 辛钟 斯 能 平安 地 从 夏威夷 返回 洛杉矶 出庭 作证 ， 森姆积逊 特意 安排 辛钟斯 登上 了 一 架 747 客机 ， 并 成为 机舱 上层 的 唯一 乘客 ， 而 机舱 下层 的 乘客 则 对 上层 有 一 位 重要 警方 证人 毫不 知情 。 另一方面 ， 黑帮 头目 艾迪 金 为了 阻止 美国 政府 对 他 的 非法 勾档 进行 调查 ， 不惜 利用 四百 条 毒 蛇 企图 骑 劫 客机 杀人灭口 ， 最终 机师 相继 死亡 ， 机上 乘客 该 如何 求生 ？\n",
      "----------\n",
      "Topic distribution = [1.5210400e-02 3.8548427e-05 8.2954966e-06 1.0209151e-02 9.7189528e-01\n",
      " 2.6382126e-03]\n",
      "==================================================\n",
      "傅宇昊 （ 英语 ： Dave Ying Hou Poh ， 1985年 1月 12日 － ） ， 本名傅 英豪 ， 新加坡 籍 歌手 。 为 包 娜娜 及 傅春安 之 子 。 曾 参加 中视 歌唱 选秀 节目 第三 届 《 超级 星光 大道 》 并 进入 20 强 ， 民视 《 明日 之 星 》 进入 第五 关 。 首 张 个人 专辑 《 好 的 爱 》 于 2011年 11月 25日 发行 。 专辑 单曲微 电影 经历 《 超级 星光 大道 》 比赛 成绩 参考 资料 包 娜娜 狠 断 儿子 金援 逼 傅宇昊 放弃 歌星 梦 傅宇昊 做 ｢ 春梦 」 梦见 谬思 女神 花花 ? !\n",
      "----------\n",
      "Topic distribution = [1.2126931e-03 2.0183785e-05 4.6195346e-06 1.5703386e-03 9.9598348e-01\n",
      " 1.2086884e-03]\n",
      "==================================================\n",
      "高佳群 （ 1992年 10月 22日 － ） ， 台南市 安南区 人 ， 台湾 男 歌手 ， 专唱 闽南语 歌曲 ， 为 超级 红人 榜 偶像 组 卫冕者 ， 并 为 超级 红人 榜 第 10 位 闯进 地狱 车 轮战 选手 。 第 6 位 20 闯关 成功 选手 。 于 104年 10月 11日 20 关 闯关 成功 ， 并 被 台语 歌手 詹雅雯 誉为 冻憨 歌王 。 专辑 吸毒 事件 2016年 4月 初 深夜 ， 高 佳群 开车 停 在 台南 安平 一 个 公园 路边 ， 台南 市政府 警察局 巡逻 警网 靠近 车子 时 闻到 浓浓 K 他 命味 ， 警方 当场 查获 车内 藏有 1包K 他 命 ， 高 佳群 被 带回 侦办 ， 尿液 初验 呈现 阳性 反应 ， 警方 依 《 毒品 危害 防制 条例 》 将 高佳群 移送 台南 地 检署 侦办 。 2016年 11月 18日 ， 高 佳群 尿液 复验 报告 确认 有 毒品 阳性 反应 ， 但 因 持有 K 他 命 未 超过 20 公克 ， 台南 市政府 警察局 依 《 毒品 危害 防制 条例 》 予以 行政 裁罚 新 台币 2万 元 。\n",
      "----------\n",
      "Topic distribution = [1.9556714e-02 1.5106377e-04 2.7972570e-05 1.0417736e-03 9.6641558e-01\n",
      " 1.2806802e-02]\n",
      "==================================================\n",
      "秀兰 玛雅 （ 1978年 10月 18日 － ） ， 汉名 沈秀兰 ， 台湾 新竹人 ， 为 台湾 知名 台语 女 歌手 。 父亲 是 浙江 人 ， 母亲 是 布农族 。 1997年 9月 ， 秀兰 玛雅 参加 由 三 立 电视 所 举办 的 《 21 世纪 新人 歌唱 排行榜 》 「 校园 组 」 竞赛 ， 于 1998年 2月 过关 。 隔年 ， 便 发行 第一 张 个人 专辑 《 友情人 》 ， 并 以 新人 之 姿 入围 2000年 第 11 届 金曲 奖 「 最 佳 方言 女 演唱 人 奖 」 及 「 最 佳 新人奖 」 两 个 奖项 。 外表 如 甜 姐儿 般 的 秀兰 玛雅 ， 有着 温柔 的 嗓音 及 优雅 且 清透 的 声线 ， 在 歌曲 的 诠释 上 ， 精练 纯熟 的 转音 技巧 是 她 歌唱 的 一 大 特色 ， 但 她 的 歌声 却 同时 保有 浓厚 的 情感 意境 。 她 说 ： 「 台语 歌 可以 更 深入 地 借由 转 音 、 咬字 表达 出 真挚 情感 ， 这 种 文化 不 能 断 ， 会 再 努力 让 更 多 人 接受 。 」 秀兰 玛雅 独一无二 的 R&B 唱腔 ， 不仅 在 传统 中 融入 新意 ， 将 台语 歌 带入 前所未有 的 新 境界 ， 也 让 她 在 歌坛 中 占有 一席之地 。 出道 至今 ， 几乎 年年 被 提名 的 她 ， 已经 十六 度 入围 「 最 佳 台语 女 歌手 奖 」 ， 位居 该 奖项 入围 次数 之 首 ， 并 创下 连续 入围 次数 最 多 （ 连续 十一 届 ） 的 纪录 。 更 曾 在 2004年 以 《 偷藏 》 专辑 ， 获得 第 15 届 金曲 奖 最 佳 台语 女 演唱 人 奖 的 殊荣 。 除了 台语 歌曲 外 ， 秀兰 玛雅 在 国语 歌曲 的 演绎 上 也 有 很 好 的 表现 ， 近年 来 ， 都 能 看到 她 的 专辑 中 收录 数 首 国语 歌曲 。 此外 ， 她 也 曾 演唱 过 《 大 爱 剧场 》 2010年 的 作品 〈 一闪一闪 亮晶晶 〉 的 片尾 曲 〈 路 要 自己 走 〉 ； 该 曲 的 歌词 曾 在 2014年 台北 捷运 随机 杀人 事件 风波 期间 ， 被 当时 的 新 北 市长 朱立伦 所 引述 。 而 这 首 歌 因 歌词 内容 ， 也 成为 很多 学校 毕业 典礼 喜欢 选用 的 歌曲 。 2017 年 秀兰 玛雅 结束 和 华特 唱片 长达 18 年 的 合作 关系 ， 转战 新 东家 米乐士 娱乐 。 专辑 大旗 唱片 华 特大 旗 影音 科技 华特 国际 音乐 米 乐士 娱乐 主持 节目 大 爱 电视 ： 传唱 年年\n",
      "----------\n",
      "Topic distribution = [9.9966454e-04 4.0288933e-04 5.6923154e-06 2.2303274e-04 9.9569750e-01\n",
      " 2.6712357e-03]\n",
      "Topic 5\n",
      "xxxxxxxxxxxxxxxxxxxxxxxxxxxxxxxxxxxxxxxxxxxxxxxxxxxxxxxxxxxxxxxx\n",
      "==================================================\n",
      "陈威仁 年 月 日 中华 民国 政治 人物 台南 下营 人 中国 国民党 籍 曾 任 中华 民国 内政 部长 。 生平 毕业 于 国立 成功 大学 都 巿 计画 学 系 、 美国 华盛顿 大学 土木 工程学 硕士 、 中国 文化 大学 实业 计划 研究所 工学 博士 。 曾 任职 于 台湾省 政府 、 台北市 政府 并 曾 担任 台北市 副市长 、 行政院 秘书长 。\n",
      "----------\n",
      "Topic distribution = [2.0171711e-04 7.5303316e-05 1.0344810e-06 1.4082210e-05 9.8809635e-04\n",
      " 9.9871993e-01]\n",
      "==================================================\n",
      "阿山 叛乱 或 阿山 事变 三 区 革命 的 支持者 则 称为 「 阿山 起义 」 。 发生 在 现今 阿勒泰 是 新疆 独立 运动 的 一 部份 。 指 抗战 时期 盛世才 因 新疆 独子 山 油鑛 开採 问题 察觉到 苏联 侵华 的 野心 双方 反目 下 盛世才 表达 归附 中华 民国 中央 之 意 苏联 则 改 以 煽动 新疆 民族 主义者 反 盛 反 中国 于 年月 军援 阿 山区 哈萨克族 乌斯满巴 图尔 起义 并 结合 苏联 空军 、 外蒙古 部队 发动 三 方 联合 军事 行动 这 场 战役 迫使 国民 政府 第八 战区 朱绍 良将 三 师团 调防 新疆 而 苏联 最终 取得 新疆 独子 山 油田 并 建立 东 突厥斯坦 共和国 。 概述 年 苏联 以 口头 告知 新疆省 政府 的 方式 强行 开採 独子 山 油鑛 。 年 苏联 在 德 苏 战争 中 失利 进而 要求 加强 榨取 中国 新疆 油矿 惟 盛世才 坚决 反对 。 苏联 随后 策动 盛世才 之 弟 盛世骐 起义 不料 盛世骐 反遭 杀害 。 年月 盛世才 邀请 国府 翁文灏 经济 部长 、 朱绍良 第八 战区 共同 商讨 新疆 「 独子 山 油鑛 」 问题 。 会后 双方 达成 协议 年月 苏联 察觉 盛世才 归顺 中国 中央 后以 驻华 大使 潘友新 向 国府 「 揭发 盛世才 的 罪行 」 形容 其为 中苏 友好 关系 的 障碍 。 国民 政府 军事 委员会 参谋 总长 何应钦 拟订 「 收复 新疆 主权 方略 」 经 蒋 中正 审核 后 决定 採行 国民 政府 将 一 面 安抚 盛世才 一面 遏止 苏联 断然 分裂 中国 的 举动 设法 收复 新疆 。 年月 苏联 协助 乌斯满巴 图尔 组织 反盛 反 中国 的 「 阿勒泰 哈萨克 复兴 委员会 」 以 建立 「 新 回教 国 」 。 年月 乌斯满巴 图尔 宣佈 起义 与 苏联 空军 、 外蒙古 发动 对 新疆 青河 、 乌 河 的 联合 军事 行动 。 月 结合 达列力 汗 苏古尔巴 也 夫承化县 副 县长 等 反 中国 武装 力量 月 再 联合 哈萨克族 反政府 吉木乃 游击队 由 苏联 伊 米尔 指挥部 所 组织 维吾尔族 毛拉 伊斯 拉姆 伊斯 马 伊尔 领导 。 月 阿勒泰 革命 临时 政府 成立 。 月日 东 突厥斯坦 共和国 建立 。 年月 东 突厥斯坦 共和国 佔领 乌苏 县 独子 山 油鑛 。 月 东 突厥斯坦 共和国 临时 政府 决议 将 独子 山 油田 开 採 交由 东突 军队 后勤处 、 军事部 苏联 红军 势力 。\n",
      "----------\n",
      "Topic distribution = [4.6384544e-04 4.6990046e-04 7.8991337e-07 2.5955403e-06 6.2164014e-05\n",
      " 9.9900061e-01]\n",
      "==================================================\n",
      "香港 葛福 临佈道 大会 HongKongFranklinGrahamFestival 是 一 个 在 香港 举行 的 大型 基督教 佈道会 由 香港 多 间 基督教会 联合 筹办 葛培理 佈道团 创办人 葛培理 牧师 之 子 葛福临 牧师 RevDrFranklinGraham 主领 年 月 日 至 月日 于 香港 大 球场 举行 并为 香港 特别 行政区 成立 十 周年 纪念 的 主要 活动 之一 。 背景 年 为 马礼逊 牧师 到 中国 宣教 週 年 亦 为 香港 主权 移交 予 中国 十 週年 香港 多 间 基督 教会 因此 商议 并 决定 联合 筹办 香港 葛福 临佈道 大会 并 邀请 葛培理 佈道团 葛福临 牧师 亲自 到 香港 主持 佈道会 。\n",
      "----------\n",
      "Topic distribution = [6.8662227e-03 3.5247020e-04 1.2793851e-05 1.1714128e-05 2.2033171e-03\n",
      " 9.9055344e-01]\n",
      "==================================================\n",
      "王育德 年 月 日 年月日 国际 台湾 语 研究 权威 、 台湾 独立 运动 重要 领导人 之一 亦 为 日本 「 台湾 青年 社 」 及其 机关 刊物 《 台湾 青年 》 之 创办者 。 简介 王育德 是 应 二二八 事件 而生 的 战后 第一 代 台独 运动 人士 中 非常 具有 代表性 的 一 位 人物 。 他 是 知识份子 、 作家 同时 也 是 专业 的 语言 学家 。 他 之所以 投入 政治 和 当时 许多 台湾人 之 所以 投入 政治 的 原因 都 相当 接近 在 某种 程度 上 算是 历史 的 偶然 。 王育德 是 台南市 人 出身 富庶 家庭 。 王育德 有 一 位 在 法律界 知名 的 哥哥 王育霖 于 新竹 地检署 检察官 任内 将 新竹 市长 郭绍宗 以 贪污 罪名 起诉 后 被迫 辞职 。 如果说 王育霖 或者是 廖文毅 是 想 在 政治 上 有 一 番 作为 的话 王育德 则 是 和 他们 两 个 截然不同 。 他 毫 无 政治 野心 他 之所以 投入 台独 运动 乃是 对 国民党 这个 新 政权 在 政治 、 经济 及 文化 上 的 多 方 压迫 深感 不满 而 终于 想 奋力 抵抗 。 王育德 对 台独 运动 的 参与 对 战后 这 一 代 之 台独 思想 的 形成 有 极 大 的 影响 。\n",
      "----------\n",
      "Topic distribution = [8.2728639e-06 1.2621224e-04 1.7426117e-07 4.0256876e-07 7.1709757e-05\n",
      " 9.9979323e-01]\n",
      "==================================================\n",
      "杨金海 （ 1932年 7月 11日 － ） ， 台湾 高雄 茄萣人 。 台湾 白色 恐怖 受难者 ， 台湾 独立 运动 参与者 。 曾 任 高雄县 油品 商业 同会 公会 会长 、 凤山 国际 表平 商会 会长 、 凤山 市 三 民 里 及 新兴 里长 ， 因 参与 郭雨 新 的 组党 运动 而 遭 国民党 逮 补入 狱 。 解严 后 曾 任 国大 代表 、 总统府 国策 顾问 。 生平 杨金海 于 昭和 七年 （ 1932年 ） 出生 于今 高雄市 茄萣区 ， 年轻 时 目睹 了 二战 。 1945年 搬到 高雄市 大港埔 。 二二八 事件 发生 时 ， 杨金海 由于 身为 报童 有 通行证 ， 目睹 了 彭孟缉 的 武装 部队 扫射 市政府 群众 ， 并 对 跳入 爱河 的 人民 开枪 。 了解 国民党 政权 的 腐败 与 不公 。 在 担任 凤山 市 三 民 里 及 新兴 里 长时 ， 即 利用 里 民 请 託 陈情 案件 时 ， 向里 民 揭发 国民党 的 霸权 统治 及 蒋介石 神化 独裁 的 真相 。 1969年 ， 杨金海 当选 高雄县 商业 第十 届 理事 长时 ， 国民党 高雄县 党部 曾 欲 说服 杨金海 加入 国民党 ， 遭杨 氏 严拒 。 随后 国民党 利用 商会 总 干事 将 其 偷偷 入 国民 党籍 ， 引起 杨金海 发表 抗议 声明 。 得罪 了 国民党 。 1972年 ， 杨金海 前往 日本 经商 期间 ， 经由 日籍 友人 高桥丰 的 介绍 ， 认识 了 台湾 独立 联盟 日本 本部 中央 委员 黄有仁 （ 即 黄昭堂 ） ， 两 人 经过 深入 交谈 后 ， 颇有 相见恨晚 之 感 。 杨金海 在 返 台 之前 ， 获得 独盟 邀请 加入 台独 联盟 ， 成为 岛内 工作 人员 ， 将 《 独立 台湾 》 单张 、 陈隆志 的 《 台湾 独立 与 建国 》 及 封面 改装 的 《 台湾 青年 》 带回 台湾 。 杨金海 也 积极 投入 民主 运动 ， 为 余登发 、 郭国基 、 郭雨新 、 余陈月瑛 等 人 助选 ， 在 参与 助选 过程 中 ， 杨金海 深感 国民党 的 买票 、 作票 卑劣 行径 。 在 郭雨 新 遭 中国 国民党 做 票 而 落选 后 ， 郭雨 新 筹组 反对党 ， 杨金海 也 加入 筹组 新党 ， 任 南部 地区 负责人 。\n",
      "----------\n",
      "Topic distribution = [1.5359864e-04 3.4171791e-04 4.6380310e-07 3.7306124e-06 1.8195977e-03\n",
      " 9.9768090e-01]\n"
     ]
    }
   ],
   "source": [
    "inspect(tm, train_dataset)"
   ],
   "metadata": {
    "collapsed": false,
    "ExecuteTime": {
     "end_time": "2024-02-26T14:34:54.463463Z",
     "start_time": "2024-02-26T14:34:42.030788Z"
    }
   },
   "id": "e89f8fa1bf193d81",
   "execution_count": 33
  },
  {
   "cell_type": "code",
   "outputs": [],
   "source": [
    "# write a function to write all examples of the same topic to a file\n",
    "def write_topic_to_file(topic_id, ds, doc_topic_distribution, path):\n",
    "\twith open(path, 'w') as f:\n",
    "\t\tfor i in np.where(doc_topic_distribution.argmax(-1) == topic_id)[0]:\n",
    "\t\t\tf.write(ds.df.iloc[i]['doc_clean'] + '\\n')"
   ],
   "metadata": {
    "collapsed": false,
    "ExecuteTime": {
     "end_time": "2024-02-26T14:34:54.463996Z",
     "start_time": "2024-02-26T14:34:54.461246Z"
    }
   },
   "id": "ea898d88bcc08440",
   "execution_count": 34
  },
  {
   "cell_type": "code",
   "outputs": [],
   "source": [
    "doc_topic_distribution = tm.get_doc_topic_distribution(train_dataset)"
   ],
   "metadata": {
    "collapsed": false,
    "ExecuteTime": {
     "end_time": "2024-02-26T14:35:05.613520Z",
     "start_time": "2024-02-26T14:34:54.464563Z"
    }
   },
   "id": "c8ae52e9513f36b7",
   "execution_count": 35
  },
  {
   "cell_type": "code",
   "outputs": [],
   "source": [
    "import os\n",
    "if not os.path.exists('../data/task3'):\n",
    "\tos.makedirs('../data/task3')"
   ],
   "metadata": {
    "collapsed": false,
    "ExecuteTime": {
     "end_time": "2024-02-26T14:35:05.619168Z",
     "start_time": "2024-02-26T14:35:05.614830Z"
    }
   },
   "id": "9bbef7640d05c365",
   "execution_count": 36
  },
  {
   "cell_type": "code",
   "outputs": [],
   "source": [
    "write_topic_to_file(0, train_dataset, doc_topic_distribution, '../data/task3/topic_0.txt')\n",
    "write_topic_to_file(1, train_dataset, doc_topic_distribution, '../data/task3/topic_1.txt')\n",
    "write_topic_to_file(2, train_dataset, doc_topic_distribution, '../data/task3/topic_2.txt')\n",
    "write_topic_to_file(3, train_dataset, doc_topic_distribution, '../data/task3/topic_3.txt')\n",
    "write_topic_to_file(4, train_dataset, doc_topic_distribution, '../data/task3/topic_4.txt')\n",
    "write_topic_to_file(5, train_dataset, doc_topic_distribution, '../data/task3/topic_5.txt')"
   ],
   "metadata": {
    "collapsed": false,
    "ExecuteTime": {
     "end_time": "2024-02-26T14:35:06.211855Z",
     "start_time": "2024-02-26T14:35:05.617888Z"
    }
   },
   "id": "6e8d19ee74c42391",
   "execution_count": 37
  },
  {
   "cell_type": "code",
   "outputs": [],
   "source": [
    "# read labels\n",
    "def read_labels(language='en'):\n",
    "\twith open('../data/wiki_shorts/{}/corpus/docs.txt'.format(language), 'r') as file:\n",
    "\t\tdocs = file.readlines()\n",
    "\twith open('../data/wiki_shorts/{}/labels.txt'.format(language), 'r') as file:\n",
    "\t\tlabels = file.readlines()\n",
    "\t\n",
    "\t# one to one mapping of docs to labels\n",
    "\tdoc2label = {}\n",
    "\tfor i in range(len(docs)):\n",
    "\t\tdoc2label[docs[i][:100].strip()] = int(labels[i].strip())\n",
    "\treturn doc2label"
   ],
   "metadata": {
    "collapsed": false,
    "ExecuteTime": {
     "end_time": "2024-02-26T14:35:06.216820Z",
     "start_time": "2024-02-26T14:35:06.213056Z"
    }
   },
   "id": "a1fdea8e554c0cb1",
   "execution_count": 38
  },
  {
   "cell_type": "code",
   "outputs": [],
   "source": [
    "doc2label_en = read_labels('en')\n",
    "doc2label_zh = read_labels('zh')"
   ],
   "metadata": {
    "collapsed": false,
    "ExecuteTime": {
     "end_time": "2024-02-26T14:35:06.300697Z",
     "start_time": "2024-02-26T14:35:06.217824Z"
    }
   },
   "id": "b1e0b9e8cd375a45",
   "execution_count": 39
  },
  {
   "cell_type": "code",
   "outputs": [],
   "source": [
    "# for each topic, find its majority label\n",
    "from collections import defaultdict\n",
    "def find_majority_label(topic):\n",
    "\tlabel2cnt = defaultdict(int)\n",
    "\tlabels = []\n",
    "\twith open('../data/task3/topic_{}.txt'.format(topic), 'r') as file:\n",
    "\t\tlines = file.readlines()\n",
    "\t\tfor line in lines:\n",
    "\t\t\tk = line[:100].strip()\n",
    "\t\t\tif k in doc2label_en:\n",
    "\t\t\t\tv = doc2label_en[k]\n",
    "\t\t\telse:\n",
    "\t\t\t\tv = doc2label_zh[k]\n",
    "\t\t\tlabel2cnt[v] += 1\n",
    "\t\t\tlabels.append(v)\n",
    "\tpredicted = max(label2cnt, key=lambda k: label2cnt[k])\n",
    "\treturn label2cnt, labels, predicted"
   ],
   "metadata": {
    "collapsed": false,
    "ExecuteTime": {
     "end_time": "2024-02-26T14:35:06.305475Z",
     "start_time": "2024-02-26T14:35:06.302522Z"
    }
   },
   "id": "af4b7ed97228435c",
   "execution_count": 40
  },
  {
   "cell_type": "code",
   "outputs": [],
   "source": [
    "_, labels_0, predicted_0 = find_majority_label(0)\n",
    "_, labels_1, predicted_1 = find_majority_label(1)\n",
    "_, labels_2, predicted_2 = find_majority_label(2)\n",
    "_, labels_3, predicted_3 = find_majority_label(3)\n",
    "_, labels_4, predicted_4 = find_majority_label(4)\n",
    "_, labels_5, predicted_5 = find_majority_label(5)"
   ],
   "metadata": {
    "collapsed": false,
    "ExecuteTime": {
     "end_time": "2024-02-26T14:35:06.370189Z",
     "start_time": "2024-02-26T14:35:06.305805Z"
    }
   },
   "id": "58ec1e4adb3ffbcd",
   "execution_count": 41
  },
  {
   "cell_type": "code",
   "outputs": [
    {
     "name": "stdout",
     "output_type": "stream",
     "text": [
      "2 3 5 1 0 3\n"
     ]
    }
   ],
   "source": [
    "print(predicted_0, predicted_1, predicted_2, predicted_3, predicted_4, predicted_5)"
   ],
   "metadata": {
    "collapsed": false,
    "ExecuteTime": {
     "end_time": "2024-02-26T14:35:06.378522Z",
     "start_time": "2024-02-26T14:35:06.373814Z"
    }
   },
   "id": "ba4dbed071428126",
   "execution_count": 42
  },
  {
   "cell_type": "code",
   "outputs": [],
   "source": [
    "final_labels = labels_0 + labels_1 + labels_2 + labels_3 + labels_4 + labels_5"
   ],
   "metadata": {
    "collapsed": false,
    "ExecuteTime": {
     "end_time": "2024-02-26T14:35:06.379941Z",
     "start_time": "2024-02-26T14:35:06.377124Z"
    }
   },
   "id": "a7c858a93eec883b",
   "execution_count": 43
  },
  {
   "cell_type": "code",
   "outputs": [
    {
     "data": {
      "text/plain": "21178"
     },
     "execution_count": 44,
     "metadata": {},
     "output_type": "execute_result"
    }
   ],
   "source": [
    "len(final_labels)"
   ],
   "metadata": {
    "collapsed": false,
    "ExecuteTime": {
     "end_time": "2024-02-26T14:35:06.384411Z",
     "start_time": "2024-02-26T14:35:06.380189Z"
    }
   },
   "id": "3973ef0ab34014e9",
   "execution_count": 44
  },
  {
   "cell_type": "code",
   "outputs": [],
   "source": [
    "final_pred = [predicted_0]*len(labels_0) + [predicted_1]*len(labels_1) + [predicted_2]*len(labels_2) + [predicted_3]*len(labels_3) + [predicted_4]*len(labels_4) + [predicted_5]*len(labels_5)"
   ],
   "metadata": {
    "collapsed": false,
    "ExecuteTime": {
     "end_time": "2024-02-26T14:35:06.389116Z",
     "start_time": "2024-02-26T14:35:06.384876Z"
    }
   },
   "id": "d9de49ca3d94066a",
   "execution_count": 45
  },
  {
   "cell_type": "code",
   "outputs": [
    {
     "data": {
      "text/plain": "21178"
     },
     "execution_count": 46,
     "metadata": {},
     "output_type": "execute_result"
    }
   ],
   "source": [
    "len(final_pred)"
   ],
   "metadata": {
    "collapsed": false,
    "ExecuteTime": {
     "end_time": "2024-02-26T14:35:06.390518Z",
     "start_time": "2024-02-26T14:35:06.387472Z"
    }
   },
   "id": "fb3070daf0d0c7a9",
   "execution_count": 46
  },
  {
   "cell_type": "code",
   "outputs": [],
   "source": [
    "model_pred = [0]*len(labels_0) + [1]*len(labels_1) + [2]*len(labels_2) + [3]*len(labels_3) + [4]*len(labels_4) + [5]*len(labels_5)"
   ],
   "metadata": {
    "collapsed": false,
    "ExecuteTime": {
     "end_time": "2024-02-26T14:35:06.415998Z",
     "start_time": "2024-02-26T14:35:06.392774Z"
    }
   },
   "id": "1b3b8ba54bb7f9bb",
   "execution_count": 47
  },
  {
   "cell_type": "code",
   "outputs": [],
   "source": [
    "from sklearn.metrics import f1_score, accuracy_score, adjusted_rand_score\n",
    "f1_macro = f1_score(y_true=final_labels, y_pred=final_pred, average='macro')\n",
    "f1_micro = f1_score(y_true=final_labels, y_pred=final_pred, average='micro')\n",
    "acc = accuracy_score(y_true=final_labels, y_pred=final_pred)\n",
    "ars = adjusted_rand_score(labels_true=final_labels, labels_pred=model_pred)"
   ],
   "metadata": {
    "collapsed": false,
    "ExecuteTime": {
     "end_time": "2024-02-26T14:35:06.436857Z",
     "start_time": "2024-02-26T14:35:06.397551Z"
    }
   },
   "id": "bbba6a36d3ee17d9",
   "execution_count": 48
  },
  {
   "cell_type": "code",
   "outputs": [
    {
     "name": "stdout",
     "output_type": "stream",
     "text": [
      "f1_macro = 0.4591213238278336\n",
      "f1_micro = 0.5169987723108886\n",
      "acc = 0.5169987723108886\n",
      "ars = 0.36197197746831355\n"
     ]
    }
   ],
   "source": [
    "print('f1_macro = {}'.format(f1_macro))\n",
    "print('f1_micro = {}'.format(f1_micro))\n",
    "print('acc = {}'.format(acc))\n",
    "print('ars = {}'.format(ars))"
   ],
   "metadata": {
    "collapsed": false,
    "ExecuteTime": {
     "end_time": "2024-02-26T14:35:06.442580Z",
     "start_time": "2024-02-26T14:35:06.439060Z"
    }
   },
   "id": "72dba2b6dd04bf32",
   "execution_count": 49
  },
  {
   "cell_type": "code",
   "outputs": [],
   "source": [],
   "metadata": {
    "collapsed": false
   },
   "id": "c26e5b9a4186fbca"
  }
 ],
 "metadata": {
  "kernelspec": {
   "display_name": "Python 3",
   "language": "python",
   "name": "python3"
  },
  "language_info": {
   "codemirror_mode": {
    "name": "ipython",
    "version": 2
   },
   "file_extension": ".py",
   "mimetype": "text/x-python",
   "name": "python",
   "nbconvert_exporter": "python",
   "pygments_lexer": "ipython2",
   "version": "2.7.6"
  }
 },
 "nbformat": 4,
 "nbformat_minor": 5
}
