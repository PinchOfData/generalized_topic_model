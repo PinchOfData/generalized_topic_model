{
 "cells": [
  {
   "cell_type": "code",
   "execution_count": 3,
   "id": "initial_id",
   "metadata": {
    "collapsed": true,
    "ExecuteTime": {
     "end_time": "2024-02-26T14:00:32.289181Z",
     "start_time": "2024-02-26T14:00:32.284003Z"
    }
   },
   "source": [
    "import pandas as pd\n",
    "import sys\n",
    "sys.path.append('../gtm/')\n",
    "from corpus import GTMCorpus\n",
    "from gtm_customized import GTM\n",
    "import pickle as p\n",
    "import os\n",
    "language = 'en-zh'"
   ],
   "outputs": []
  },
  {
   "cell_type": "code",
   "source": [
    "def load_examples(language='en'):\n",
    "\tdf = pd.read_csv('../data/wiki_shorts/{}/corpus/docs.txt'.format(language), header=None, delimiter='\\t')\n",
    "\tdf.columns = ['doc_clean']\n",
    "\t# df = df.head(1000)\n",
    "\treturn df"
   ],
   "metadata": {
    "collapsed": false,
    "ExecuteTime": {
     "end_time": "2024-02-26T14:00:33.143585Z",
     "start_time": "2024-02-26T14:00:33.140344Z"
    }
   },
   "id": "d8817b98e5dc637a",
   "execution_count": 4,
   "outputs": []
  },
  {
   "cell_type": "code",
   "source": [
    "if not os.path.exists('train_dataset_intfloat-e5-large2-{}.pkl'.format(language)):\n",
    "# if True:\n",
    "\tdf_en = load_examples('en')\n",
    "\tdf_zh = load_examples('zh')\n",
    "\n",
    "\t# merge two dfs into one df, with additional column specifying the language\n",
    "\tdf_en['language'] = 'en'\n",
    "\tdf_zh['language'] = 'zh'\n",
    "\n",
    "\t# randomly select 100 documents from each language\n",
    "\t# df_en = df_en.sample(n=100)\n",
    "\t# df_zh = df_zh.sample(n=100)\n",
    "\n",
    "\t# Concatenate the two DataFrames\n",
    "\tdf = pd.concat([df_en, df_zh], ignore_index=True)\n",
    "\n",
    "\ttrain_dataset = GTMCorpus(\n",
    "\t\tdf,\n",
    "\t\tcount_words=True,\n",
    "\t\tembeddings_type='SentenceTransformer',\n",
    "\t\tsbert_model_to_load='intfloat/multilingual-e5-large',\n",
    "\t\tcontent=None,\n",
    "\t\tbatch_size=64,\n",
    "\t\tmax_seq_length=512)\n",
    "\tprint('Saving train_dataset_intfloat-e5-large2-{}.pkl'.format(language))\n",
    "\twith open('train_dataset_intfloat-e5-large2-{}.pkl'.format(language), 'wb') as f:\n",
    "\t\tp.dump(train_dataset, f)\n",
    "else:\n",
    "\tprint('Loading train_dataset_intfloat-e5-large2-{}.pkl'.format(language))\n",
    "\twith open('train_dataset_intfloat-e5-large2-{}.pkl'.format(language), 'rb') as f:\n",
    "\t\ttrain_dataset = p.load(f)\n",
    "\n",
    "print('dataset loaded')"
   ],
   "metadata": {
    "collapsed": false,
    "ExecuteTime": {
     "end_time": "2024-02-26T14:00:34.415922Z",
     "start_time": "2024-02-26T14:00:34.072498Z"
    }
   },
   "id": "a627199d3daa13e0",
   "execution_count": 5,
   "outputs": []
  },
  {
   "cell_type": "code",
   "source": [
    "# Train the model\n",
    "tm = GTM(\n",
    "\ttrain_dataset,\n",
    "\tn_topics=6,\n",
    "\tdoc_topic_prior='dirichlet', # logistic_normal, dirichlet\n",
    "\talpha=0.02,\n",
    "\tupdate_prior=False,\n",
    "\tencoder_input='embeddings', # 'bow', 'embeddings'\n",
    "\tseparate_decoders=True,\n",
    "\tencoder_hidden_layers=[], # structure of the encoder neural net\n",
    "\tdecoder_hidden_layers=[256], # structure of the decoder neural net\n",
    "\tencoder_bias=True,\n",
    "\tdecoder_bias=True,\n",
    "\tnum_epochs=0,\n",
    "\tprint_every=10000,\n",
    "\tdropout=0.0,\n",
    "\tlearning_rate=0.01,\n",
    "\tlog_every=1,\n",
    "\tw_prior=None,\n",
    "\tbatch_size=512,\n",
    "\tpatience=5,\n",
    "\tsave_path='../ckpt2/task3',\n",
    "\tckpt='../ckpt2/task3/best_model.ckpt'\n",
    ")"
   ],
   "metadata": {
    "collapsed": false,
    "ExecuteTime": {
     "end_time": "2024-02-26T14:34:34.642161Z",
     "start_time": "2024-02-26T14:34:31.529314Z"
    }
   },
   "id": "457ca708e0d52773",
   "execution_count": 29,
   "outputs": []
  },
  {
   "cell_type": "code",
   "source": [
    "import numpy as np\n",
    "\n",
    "def inspect(tm, ds):\n",
    "\tdoc_topic_distribution = tm.get_doc_topic_distribution(ds)\n",
    "\n",
    "\tprint('Number of documents per topic')\n",
    "\tprint('Topic 0: {}'.format((doc_topic_distribution.argmax(-1) == 0).sum()))\n",
    "\tprint('Topic 1: {}'.format((doc_topic_distribution.argmax(-1) == 1).sum()))\n",
    "\tprint('Topic 2: {}'.format((doc_topic_distribution.argmax(-1) == 2).sum()))\n",
    "\tprint('Topic 3: {}'.format((doc_topic_distribution.argmax(-1) == 3).sum()))\n",
    "\tprint('Topic 4: {}'.format((doc_topic_distribution.argmax(-1) == 4).sum()))\n",
    "\tprint('Topic 5: {}'.format((doc_topic_distribution.argmax(-1) == 5).sum()))\n",
    "\n",
    "\t# show five random documents per topic\n",
    "\tfor topic in range(tm.n_topics):\n",
    "\t\tprint('Topic {}'.format(topic))\n",
    "\t\tprint('xxxxxxxxxxxxxxxxxxxxxxxxxxxxxxxxxxxxxxxxxxxxxxxxxxxxxxxxxxxxxxxx')\n",
    "\t\tfor i in np.random.choice(np.where(doc_topic_distribution.argmax(-1) == topic)[0], 5):\n",
    "\t\t\tprint('=' * 50)\n",
    "\t\t\tprint(ds.df.iloc[i]['doc_clean'])\n",
    "\t\t\tprint('----------')\n",
    "\t\t\tprint('Topic distribution = {}'.format(doc_topic_distribution[i]))"
   ],
   "metadata": {
    "collapsed": false,
    "ExecuteTime": {
     "end_time": "2024-02-26T14:34:41.281871Z",
     "start_time": "2024-02-26T14:34:41.274119Z"
    }
   },
   "id": "abb7ea17e8113038",
   "execution_count": 30,
   "outputs": []
  },
  {
   "cell_type": "code",
   "source": [
    "'''\n",
    "Epoch 100\tMean Training Loss:1846.3313570\n",
    "'''"
   ],
   "metadata": {
    "collapsed": false,
    "ExecuteTime": {
     "end_time": "2024-02-26T14:34:41.646568Z",
     "start_time": "2024-02-26T14:34:41.642460Z"
    }
   },
   "id": "c7ccb7b4043d7ebe",
   "execution_count": 31,
   "outputs": []
  },
  {
   "cell_type": "code",
   "source": [
    "tm"
   ],
   "metadata": {
    "collapsed": false,
    "ExecuteTime": {
     "end_time": "2024-02-26T14:34:41.866175Z",
     "start_time": "2024-02-26T14:34:41.861890Z"
    }
   },
   "id": "beaab3e580ba2ca7",
   "execution_count": 32,
   "outputs": []
  },
  {
   "cell_type": "code",
   "source": [
    "inspect(tm, train_dataset)"
   ],
   "metadata": {
    "collapsed": false,
    "ExecuteTime": {
     "end_time": "2024-02-26T14:34:54.463463Z",
     "start_time": "2024-02-26T14:34:42.030788Z"
    }
   },
   "id": "e89f8fa1bf193d81",
   "execution_count": 33,
   "outputs": []
  },
  {
   "cell_type": "code",
   "source": [
    "# write a function to write all examples of the same topic to a file\n",
    "def write_topic_to_file(topic_id, ds, doc_topic_distribution, path):\n",
    "\twith open(path, 'w') as f:\n",
    "\t\tfor i in np.where(doc_topic_distribution.argmax(-1) == topic_id)[0]:\n",
    "\t\t\tf.write(ds.df.iloc[i]['doc_clean'] + '\\n')"
   ],
   "metadata": {
    "collapsed": false,
    "ExecuteTime": {
     "end_time": "2024-02-26T14:34:54.463996Z",
     "start_time": "2024-02-26T14:34:54.461246Z"
    }
   },
   "id": "ea898d88bcc08440",
   "execution_count": 34,
   "outputs": []
  },
  {
   "cell_type": "code",
   "source": [
    "doc_topic_distribution = tm.get_doc_topic_distribution(train_dataset)"
   ],
   "metadata": {
    "collapsed": false,
    "ExecuteTime": {
     "end_time": "2024-02-26T14:35:05.613520Z",
     "start_time": "2024-02-26T14:34:54.464563Z"
    }
   },
   "id": "c8ae52e9513f36b7",
   "execution_count": 35,
   "outputs": []
  },
  {
   "cell_type": "code",
   "source": [
    "import os\n",
    "if not os.path.exists('../data/task3'):\n",
    "\tos.makedirs('../data/task3')"
   ],
   "metadata": {
    "collapsed": false,
    "ExecuteTime": {
     "end_time": "2024-02-26T14:35:05.619168Z",
     "start_time": "2024-02-26T14:35:05.614830Z"
    }
   },
   "id": "9bbef7640d05c365",
   "execution_count": 36,
   "outputs": []
  },
  {
   "cell_type": "code",
   "source": [
    "write_topic_to_file(0, train_dataset, doc_topic_distribution, '../data/task3/topic_0.txt')\n",
    "write_topic_to_file(1, train_dataset, doc_topic_distribution, '../data/task3/topic_1.txt')\n",
    "write_topic_to_file(2, train_dataset, doc_topic_distribution, '../data/task3/topic_2.txt')\n",
    "write_topic_to_file(3, train_dataset, doc_topic_distribution, '../data/task3/topic_3.txt')\n",
    "write_topic_to_file(4, train_dataset, doc_topic_distribution, '../data/task3/topic_4.txt')\n",
    "write_topic_to_file(5, train_dataset, doc_topic_distribution, '../data/task3/topic_5.txt')"
   ],
   "metadata": {
    "collapsed": false,
    "ExecuteTime": {
     "end_time": "2024-02-26T14:35:06.211855Z",
     "start_time": "2024-02-26T14:35:05.617888Z"
    }
   },
   "id": "6e8d19ee74c42391",
   "execution_count": 37,
   "outputs": []
  },
  {
   "cell_type": "code",
   "source": [
    "# read labels\n",
    "def read_labels(language='en'):\n",
    "\twith open('../data/wiki_shorts/{}/corpus/docs.txt'.format(language), 'r') as file:\n",
    "\t\tdocs = file.readlines()\n",
    "\twith open('../data/wiki_shorts/{}/labels.txt'.format(language), 'r') as file:\n",
    "\t\tlabels = file.readlines()\n",
    "\t\n",
    "\t# one to one mapping of docs to labels\n",
    "\tdoc2label = {}\n",
    "\tfor i in range(len(docs)):\n",
    "\t\tdoc2label[docs[i][:100].strip()] = int(labels[i].strip())\n",
    "\treturn doc2label"
   ],
   "metadata": {
    "collapsed": false,
    "ExecuteTime": {
     "end_time": "2024-02-26T14:35:06.216820Z",
     "start_time": "2024-02-26T14:35:06.213056Z"
    }
   },
   "id": "a1fdea8e554c0cb1",
   "execution_count": 38,
   "outputs": []
  },
  {
   "cell_type": "code",
   "source": [
    "doc2label_en = read_labels('en')\n",
    "doc2label_zh = read_labels('zh')"
   ],
   "metadata": {
    "collapsed": false,
    "ExecuteTime": {
     "end_time": "2024-02-26T14:35:06.300697Z",
     "start_time": "2024-02-26T14:35:06.217824Z"
    }
   },
   "id": "b1e0b9e8cd375a45",
   "execution_count": 39,
   "outputs": []
  },
  {
   "cell_type": "code",
   "source": [
    "# for each topic, find its majority label\n",
    "from collections import defaultdict\n",
    "def find_majority_label(topic):\n",
    "\tlabel2cnt = defaultdict(int)\n",
    "\tlabels = []\n",
    "\twith open('../data/task3/topic_{}.txt'.format(topic), 'r') as file:\n",
    "\t\tlines = file.readlines()\n",
    "\t\tfor line in lines:\n",
    "\t\t\tk = line[:100].strip()\n",
    "\t\t\tif k in doc2label_en:\n",
    "\t\t\t\tv = doc2label_en[k]\n",
    "\t\t\telse:\n",
    "\t\t\t\tv = doc2label_zh[k]\n",
    "\t\t\tlabel2cnt[v] += 1\n",
    "\t\t\tlabels.append(v)\n",
    "\tpredicted = max(label2cnt, key=lambda k: label2cnt[k])\n",
    "\treturn label2cnt, labels, predicted"
   ],
   "metadata": {
    "collapsed": false,
    "ExecuteTime": {
     "end_time": "2024-02-26T14:35:06.305475Z",
     "start_time": "2024-02-26T14:35:06.302522Z"
    }
   },
   "id": "af4b7ed97228435c",
   "execution_count": 40,
   "outputs": []
  },
  {
   "cell_type": "code",
   "source": [
    "_, labels_0, predicted_0 = find_majority_label(0)\n",
    "_, labels_1, predicted_1 = find_majority_label(1)\n",
    "_, labels_2, predicted_2 = find_majority_label(2)\n",
    "_, labels_3, predicted_3 = find_majority_label(3)\n",
    "_, labels_4, predicted_4 = find_majority_label(4)\n",
    "_, labels_5, predicted_5 = find_majority_label(5)"
   ],
   "metadata": {
    "collapsed": false,
    "ExecuteTime": {
     "end_time": "2024-02-26T14:35:06.370189Z",
     "start_time": "2024-02-26T14:35:06.305805Z"
    }
   },
   "id": "58ec1e4adb3ffbcd",
   "execution_count": 41,
   "outputs": []
  },
  {
   "cell_type": "code",
   "source": [
    "print(predicted_0, predicted_1, predicted_2, predicted_3, predicted_4, predicted_5)"
   ],
   "metadata": {
    "collapsed": false,
    "ExecuteTime": {
     "end_time": "2024-02-26T14:35:06.378522Z",
     "start_time": "2024-02-26T14:35:06.373814Z"
    }
   },
   "id": "ba4dbed071428126",
   "execution_count": 42,
   "outputs": []
  },
  {
   "cell_type": "code",
   "source": [
    "final_labels = labels_0 + labels_1 + labels_2 + labels_3 + labels_4 + labels_5"
   ],
   "metadata": {
    "collapsed": false,
    "ExecuteTime": {
     "end_time": "2024-02-26T14:35:06.379941Z",
     "start_time": "2024-02-26T14:35:06.377124Z"
    }
   },
   "id": "a7c858a93eec883b",
   "execution_count": 43,
   "outputs": []
  },
  {
   "cell_type": "code",
   "source": [
    "len(final_labels)"
   ],
   "metadata": {
    "collapsed": false,
    "ExecuteTime": {
     "end_time": "2024-02-26T14:35:06.384411Z",
     "start_time": "2024-02-26T14:35:06.380189Z"
    }
   },
   "id": "3973ef0ab34014e9",
   "execution_count": 44,
   "outputs": []
  },
  {
   "cell_type": "code",
   "source": [
    "final_pred = [predicted_0]*len(labels_0) + [predicted_1]*len(labels_1) + [predicted_2]*len(labels_2) + [predicted_3]*len(labels_3) + [predicted_4]*len(labels_4) + [predicted_5]*len(labels_5)"
   ],
   "metadata": {
    "collapsed": false,
    "ExecuteTime": {
     "end_time": "2024-02-26T14:35:06.389116Z",
     "start_time": "2024-02-26T14:35:06.384876Z"
    }
   },
   "id": "d9de49ca3d94066a",
   "execution_count": 45,
   "outputs": []
  },
  {
   "cell_type": "code",
   "source": [
    "len(final_pred)"
   ],
   "metadata": {
    "collapsed": false,
    "ExecuteTime": {
     "end_time": "2024-02-26T14:35:06.390518Z",
     "start_time": "2024-02-26T14:35:06.387472Z"
    }
   },
   "id": "fb3070daf0d0c7a9",
   "execution_count": 46,
   "outputs": []
  },
  {
   "cell_type": "code",
   "source": [
    "model_pred = [0]*len(labels_0) + [1]*len(labels_1) + [2]*len(labels_2) + [3]*len(labels_3) + [4]*len(labels_4) + [5]*len(labels_5)"
   ],
   "metadata": {
    "collapsed": false,
    "ExecuteTime": {
     "end_time": "2024-02-26T14:35:06.415998Z",
     "start_time": "2024-02-26T14:35:06.392774Z"
    }
   },
   "id": "1b3b8ba54bb7f9bb",
   "execution_count": 47,
   "outputs": []
  },
  {
   "cell_type": "code",
   "source": [
    "from sklearn.metrics import f1_score, accuracy_score, adjusted_rand_score\n",
    "f1_macro = f1_score(y_true=final_labels, y_pred=final_pred, average='macro')\n",
    "f1_micro = f1_score(y_true=final_labels, y_pred=final_pred, average='micro')\n",
    "acc = accuracy_score(y_true=final_labels, y_pred=final_pred)\n",
    "ars = adjusted_rand_score(labels_true=final_labels, labels_pred=model_pred)"
   ],
   "metadata": {
    "collapsed": false,
    "ExecuteTime": {
     "end_time": "2024-02-26T14:35:06.436857Z",
     "start_time": "2024-02-26T14:35:06.397551Z"
    }
   },
   "id": "bbba6a36d3ee17d9",
   "execution_count": 48,
   "outputs": []
  },
  {
   "cell_type": "code",
   "source": [
    "print('f1_macro = {}'.format(f1_macro))\n",
    "print('f1_micro = {}'.format(f1_micro))\n",
    "print('acc = {}'.format(acc))\n",
    "print('ars = {}'.format(ars))"
   ],
   "metadata": {
    "collapsed": false,
    "ExecuteTime": {
     "end_time": "2024-02-26T14:35:06.442580Z",
     "start_time": "2024-02-26T14:35:06.439060Z"
    }
   },
   "id": "72dba2b6dd04bf32",
   "execution_count": 49,
   "outputs": []
  },
  {
   "cell_type": "code",
   "source": [],
   "metadata": {
    "collapsed": false
   },
   "id": "c26e5b9a4186fbca",
   "execution_count": null,
   "outputs": []
  }
 ],
 "metadata": {
  "kernelspec": {
   "display_name": "Python 3",
   "language": "python",
   "name": "python3"
  },
  "language_info": {
   "codemirror_mode": {
    "name": "ipython",
    "version": 2
   },
   "file_extension": ".py",
   "mimetype": "text/x-python",
   "name": "python",
   "nbconvert_exporter": "python",
   "pygments_lexer": "ipython2",
   "version": "2.7.6"
  }
 },
 "nbformat": 4,
 "nbformat_minor": 5
}
