{
 "cells": [
  {
   "cell_type": "code",
   "execution_count": 1,
   "id": "a098c227",
   "metadata": {
    "scrolled": true
   },
   "outputs": [],
   "source": [
    "import torch\n",
    "import sys \n",
    "sys.path.append('../gtm/')"
   ]
  },
  {
   "cell_type": "code",
   "execution_count": 2,
   "id": "bf4f23b2",
   "metadata": {
    "scrolled": true
   },
   "outputs": [
    {
     "name": "stderr",
     "output_type": "stream",
     "text": [
      "/home/germain/Documents/topic models/generalized_topic_model/venv/lib/python3.10/site-packages/tqdm/auto.py:21: TqdmWarning: IProgress not found. Please update jupyter and ipywidgets. See https://ipywidgets.readthedocs.io/en/stable/user_install.html\n",
      "  from .autonotebook import tqdm as notebook_tqdm\n"
     ]
    },
    {
     "name": "stdout",
     "output_type": "stream",
     "text": [
      "tensor([[ 0.0000, -0.5883, -0.0691, -0.7169, -0.6580, -0.4289, -0.0048, -0.6477,\n",
      "         -0.4112, -0.7009, -0.5507, -0.0154, -0.5065,  0.0020, -0.7585, -0.5440,\n",
      "         -0.1713, -0.3676, -0.0053, -0.8080],\n",
      "        [ 0.0000, -0.2771, -0.2818,  0.3852, -0.1307, -0.1265,  0.6091,  0.4783,\n",
      "         -0.1915, -0.2216,  0.2979, -0.0129,  0.1821,  0.4526,  0.0889,  0.5959,\n",
      "          0.1679,  0.0432,  0.1862,  0.3444]])\n",
      "tensor([[ 0.0000, -0.6009, -0.0721, -0.7213, -0.6694, -0.4294, -0.0056, -0.6484,\n",
      "         -0.4187, -0.7154, -0.5495, -0.0163, -0.5118, -0.0017, -0.7644, -0.5449,\n",
      "         -0.1749, -0.3691, -0.0052, -0.8101],\n",
      "        [ 0.0000, -0.2893, -0.2804,  0.3874, -0.1375, -0.1291,  0.6113,  0.4792,\n",
      "         -0.1906, -0.2377,  0.2991, -0.0109,  0.1855,  0.4565,  0.0886,  0.5970,\n",
      "          0.1693,  0.0436,  0.1832,  0.3442]])\n"
     ]
    }
   ],
   "source": [
    "from priors import LogisticNormalPrior\n",
    "\n",
    "# Simulate 50,000 observations from a Logistic Multivariate Normal \n",
    "# lambda captures covariate effects\n",
    "# sigma is the covariance matrix\n",
    "lambda_ = torch.rand((2, 20))\n",
    "lambda_ = lambda_ - lambda_[:,0][:,None]\n",
    "sqrt_sigma = torch.rand(20,20)\n",
    "sigma = torch.matmul(sqrt_sigma, sqrt_sigma.T) \n",
    "M_prevalence_covariates = torch.randint(0,10,(50000, 2), dtype = torch.float)\n",
    "\n",
    "# Create the prior, simulate some data, and fit the model.\n",
    "prior = LogisticNormalPrior(prevalence_covariate_size=2, n_topics=20, prevalence_covariates_regularization=0,device='cpu')\n",
    "posterior_theta = prior.simulate(M_prevalence_covariates, lambda_, sigma).cpu().numpy()\n",
    "M_prevalence_covariates = M_prevalence_covariates.cpu().numpy()\n",
    "prior.update_parameters(posterior_theta, M_prevalence_covariates)\n",
    "\n",
    "# Check resulting fit\n",
    "print(prior.lambda_)\n",
    "print(lambda_)"
   ]
  },
  {
   "cell_type": "code",
   "execution_count": 7,
   "id": "fd6583af",
   "metadata": {},
   "outputs": [
    {
     "data": {
      "text/plain": [
       "torch.Size([2, 20])"
      ]
     },
     "execution_count": 7,
     "metadata": {},
     "output_type": "execute_result"
    }
   ],
   "source": [
    "lambda_.shape"
   ]
  },
  {
   "cell_type": "code",
   "execution_count": 6,
   "id": "e698a45f",
   "metadata": {
    "scrolled": false
   },
   "outputs": [
    {
     "data": {
      "text/plain": [
       "torch.Size([20, 20])"
      ]
     },
     "execution_count": 6,
     "metadata": {},
     "output_type": "execute_result"
    }
   ],
   "source": [
    "sigma.shape"
   ]
  },
  {
   "cell_type": "code",
   "execution_count": 8,
   "id": "5f64504e",
   "metadata": {},
   "outputs": [
    {
     "data": {
      "text/plain": [
       "(50000, 2)"
      ]
     },
     "execution_count": 8,
     "metadata": {},
     "output_type": "execute_result"
    }
   ],
   "source": [
    "M_prevalence_covariates.shape"
   ]
  },
  {
   "cell_type": "code",
   "execution_count": 3,
   "id": "96967480",
   "metadata": {
    "scrolled": true
   },
   "outputs": [
    {
     "name": "stdout",
     "output_type": "stream",
     "text": [
      "[[ 0.         -0.10163552 -0.06662548 -0.5302729  -0.5390905  -0.19397649\n",
      "  -0.34628376 -0.37523258 -0.33119085 -0.20138949 -0.13122478 -0.36949947\n",
      "  -0.38264674 -0.23250103 -0.35249394 -0.41616222  0.07745466 -0.38039687\n",
      "  -0.31699422 -0.5743764 ]\n",
      " [ 0.          0.07534995 -0.23296171 -0.09940197 -0.06067064 -0.28099138\n",
      "  -0.3719383  -0.30336088 -0.39149857 -0.34973356 -0.3114789  -0.2623979\n",
      "  -0.34812102 -0.37462288 -0.3237797  -0.26575115 -0.6822994  -0.13737576\n",
      "  -0.34883595  0.00196885]]\n",
      "tensor([[ 0.0000, -0.0764, -0.0788, -0.4943, -0.6514, -0.3633, -0.7124, -0.8294,\n",
      "         -0.5434, -0.3313, -0.1291, -0.8340, -0.5385, -0.4368, -0.4672, -0.8232,\n",
      "          0.0016, -0.4060, -0.7052, -0.7424],\n",
      "        [ 0.0000,  0.0638, -0.2218, -0.0827, -0.1568, -0.4533, -0.8619, -0.5657,\n",
      "         -0.7198, -0.4924, -0.2935, -0.5075, -0.4594, -0.7971, -0.4209, -0.4167,\n",
      "         -0.6701, -0.1798, -0.8887, -0.1382]])\n"
     ]
    }
   ],
   "source": [
    "from priors import DirichletPrior\n",
    "\n",
    "# Simulate 50,000 observations from a Dirichlet\n",
    "# lambda captures covariate effects\n",
    "lambda_ = torch.rand((2, 20))\n",
    "lambda_ = lambda_ - lambda_[:,0][:,None]\n",
    "M_prevalence_covariates = torch.randint(0,10,(50000, 2), dtype = torch.float32)\n",
    "\n",
    "# Create the prior, simulate some data, and fit the model.\n",
    "prior = DirichletPrior(prevalence_covariates_size=2, n_topics=20, alpha = 0.1, device='cpu')\n",
    "posterior_theta = prior.simulate(M_prevalence_covariates, lambda_).cpu().numpy()\n",
    "M_prevalence_covariates = M_prevalence_covariates.cpu().numpy()\n",
    "prior.update_parameters(posterior_theta, M_prevalence_covariates, num_epochs = 1000)\n",
    "\n",
    "# Check resulting fit\n",
    "print(prior.lambda_)\n",
    "print(lambda_)"
   ]
  }
 ],
 "metadata": {
  "kernelspec": {
   "display_name": "Python 3 (ipykernel)",
   "language": "python",
   "name": "python3"
  },
  "language_info": {
   "codemirror_mode": {
    "name": "ipython",
    "version": 3
   },
   "file_extension": ".py",
   "mimetype": "text/x-python",
   "name": "python",
   "nbconvert_exporter": "python",
   "pygments_lexer": "ipython3",
   "version": "3.10.6"
  }
 },
 "nbformat": 4,
 "nbformat_minor": 5
}
