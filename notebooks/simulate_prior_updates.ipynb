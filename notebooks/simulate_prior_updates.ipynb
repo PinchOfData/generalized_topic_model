{
 "cells": [
  {
   "cell_type": "code",
   "execution_count": 1,
   "id": "a098c227",
   "metadata": {
    "scrolled": true
   },
   "outputs": [],
   "source": [
    "import torch\n",
    "import sys \n",
    "sys.path.append('../gtm/')"
   ]
  },
  {
   "cell_type": "code",
   "execution_count": 2,
   "id": "bf4f23b2",
   "metadata": {
    "scrolled": true
   },
   "outputs": [
    {
     "name": "stderr",
     "output_type": "stream",
     "text": [
      "/home/germain/Documents/topic models/generalized_topic_model/venv/lib/python3.10/site-packages/tqdm/auto.py:21: TqdmWarning: IProgress not found. Please update jupyter and ipywidgets. See https://ipywidgets.readthedocs.io/en/stable/user_install.html\n",
      "  from .autonotebook import tqdm as notebook_tqdm\n"
     ]
    },
    {
     "name": "stdout",
     "output_type": "stream",
     "text": [
      "tensor([[ 0.0000,  0.0546, -0.2109, -0.2917, -0.2136, -0.2115,  0.5490,  0.4736,\n",
      "          0.3502,  0.1898,  0.3846,  0.0085,  0.3960, -0.2153, -0.0978, -0.0215,\n",
      "         -0.0391, -0.0710,  0.3257,  0.3533],\n",
      "        [ 0.0000, -0.0102, -0.1632, -0.0407, -0.2846,  0.6248, -0.3030,  0.4427,\n",
      "         -0.1658,  0.0640,  0.5974, -0.1886, -0.2301,  0.0812,  0.5434, -0.3029,\n",
      "          0.3831,  0.3381, -0.3117,  0.2584]])\n",
      "tensor([[ 0.0000,  0.0568, -0.2121, -0.2958, -0.2217, -0.2082,  0.5525,  0.4753,\n",
      "          0.3550,  0.1921,  0.3854,  0.0113,  0.4001, -0.2160, -0.1009, -0.0213,\n",
      "         -0.0406, -0.0668,  0.3297,  0.3547],\n",
      "        [ 0.0000, -0.0116, -0.1736, -0.0468, -0.3033,  0.6223, -0.3065,  0.4423,\n",
      "         -0.1686,  0.0634,  0.5973, -0.1941, -0.2328,  0.0804,  0.5478, -0.3106,\n",
      "          0.3848,  0.3360, -0.3178,  0.2591]])\n"
     ]
    }
   ],
   "source": [
    "from priors import LogisticNormalPrior\n",
    "\n",
    "# Simulate 50,000 observations from a Logistic Multivariate Normal \n",
    "# lambda captures covariate effects\n",
    "# sigma is the covariance matrix\n",
    "lambda_ = torch.rand((2, 20))\n",
    "lambda_ = lambda_ - lambda_[:,0][:,None]\n",
    "sqrt_sigma = torch.rand(20,20)\n",
    "sigma = torch.matmul(sqrt_sigma, sqrt_sigma.T) \n",
    "M_prevalence_covariates = torch.randint(0,10,(50000, 2), dtype = torch.float)\n",
    "\n",
    "# Create the prior, simulate some data, and fit the model.\n",
    "prior = LogisticNormalPrior(prevalence_covariate_size=2, n_topics=20, prevalence_covariates_regularization=0,device='cpu')\n",
    "posterior_theta = prior.simulate(M_prevalence_covariates, lambda_, sigma).cpu().numpy()\n",
    "M_prevalence_covariates = M_prevalence_covariates.cpu().numpy()\n",
    "prior.update_parameters(posterior_theta, M_prevalence_covariates)\n",
    "\n",
    "# Check resulting fit\n",
    "print(prior.lambda_)\n",
    "print(lambda_)"
   ]
  },
  {
   "cell_type": "code",
   "execution_count": 3,
   "id": "96967480",
   "metadata": {
    "scrolled": true
   },
   "outputs": [
    {
     "name": "stdout",
     "output_type": "stream",
     "text": [
      "[[ 0.         -0.10163552 -0.06662548 -0.5302729  -0.5390905  -0.19397649\n",
      "  -0.34628376 -0.37523258 -0.33119085 -0.20138949 -0.13122478 -0.36949947\n",
      "  -0.38264674 -0.23250103 -0.35249394 -0.41616222  0.07745466 -0.38039687\n",
      "  -0.31699422 -0.5743764 ]\n",
      " [ 0.          0.07534995 -0.23296171 -0.09940197 -0.06067064 -0.28099138\n",
      "  -0.3719383  -0.30336088 -0.39149857 -0.34973356 -0.3114789  -0.2623979\n",
      "  -0.34812102 -0.37462288 -0.3237797  -0.26575115 -0.6822994  -0.13737576\n",
      "  -0.34883595  0.00196885]]\n",
      "tensor([[ 0.0000, -0.0764, -0.0788, -0.4943, -0.6514, -0.3633, -0.7124, -0.8294,\n",
      "         -0.5434, -0.3313, -0.1291, -0.8340, -0.5385, -0.4368, -0.4672, -0.8232,\n",
      "          0.0016, -0.4060, -0.7052, -0.7424],\n",
      "        [ 0.0000,  0.0638, -0.2218, -0.0827, -0.1568, -0.4533, -0.8619, -0.5657,\n",
      "         -0.7198, -0.4924, -0.2935, -0.5075, -0.4594, -0.7971, -0.4209, -0.4167,\n",
      "         -0.6701, -0.1798, -0.8887, -0.1382]])\n"
     ]
    }
   ],
   "source": [
    "from priors import DirichletPrior\n",
    "\n",
    "# Simulate 50,000 observations from a Dirichlet\n",
    "# lambda captures covariate effects\n",
    "lambda_ = torch.rand((2, 20))\n",
    "lambda_ = lambda_ - lambda_[:,0][:,None]\n",
    "M_prevalence_covariates = torch.randint(0,10,(50000, 2), dtype = torch.float32)\n",
    "\n",
    "# Create the prior, simulate some data, and fit the model.\n",
    "prior = DirichletPrior(prevalence_covariates_size=2, n_topics=20, alpha = 0.1, device='cpu')\n",
    "posterior_theta = prior.simulate(M_prevalence_covariates, lambda_).cpu().numpy()\n",
    "M_prevalence_covariates = M_prevalence_covariates.cpu().numpy()\n",
    "prior.update_parameters(posterior_theta, M_prevalence_covariates, num_epochs = 1000)\n",
    "\n",
    "# Check resulting fit\n",
    "print(prior.lambda_)\n",
    "print(lambda_)"
   ]
  }
 ],
 "metadata": {
  "kernelspec": {
   "display_name": "Python 3 (ipykernel)",
   "language": "python",
   "name": "python3"
  },
  "language_info": {
   "codemirror_mode": {
    "name": "ipython",
    "version": 3
   },
   "file_extension": ".py",
   "mimetype": "text/x-python",
   "name": "python",
   "nbconvert_exporter": "python",
   "pygments_lexer": "ipython3",
   "version": "3.10.6"
  }
 },
 "nbformat": 4,
 "nbformat_minor": 5
}
