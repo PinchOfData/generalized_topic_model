{
 "cells": [
  {
   "cell_type": "code",
   "execution_count": null,
   "id": "11242d66",
   "metadata": {},
   "outputs": [],
   "source": [
    "import pandas as pd \n",
    "df = pd.read_csv('../data/wall_street_journal/WSJ_articles_full.csv')\n",
    "gdp = pd.read_csv('../data/misc/FRED_US_GDP_1947_2023.csv')"
   ]
  },
  {
   "cell_type": "code",
   "execution_count": null,
   "id": "f3b2153f",
   "metadata": {},
   "outputs": [],
   "source": [
    "df = df.sample(n=50000,random_state=42)\n",
    "df['doc_clean'] = df['doc']\n",
    "df = df[['doc_clean']]\n",
    "df = df.dropna().reset_index()"
   ]
  },
  {
   "cell_type": "code",
   "execution_count": null,
   "id": "62a36dce",
   "metadata": {},
   "outputs": [],
   "source": []
  },
  {
   "cell_type": "code",
   "execution_count": null,
   "id": "14e40c27",
   "metadata": {},
   "outputs": [],
   "source": [
    "import sys\n",
    "sys.path.append('../gtm/')\n",
    "from corpus import GTMCorpus\n",
    "from gtm import GTM\n",
    "\n",
    "# Create a GTMCorpus object\n",
    "train_dataset = GTMCorpus(\n",
    "    df,\n",
    "    vectorizer_args = {\n",
    "        'stop_words':'english',\n",
    "        'max_features':50000\n",
    "    },\n",
    "    content = '~ 1'\n",
    ")"
   ]
  },
  {
   "cell_type": "code",
   "execution_count": null,
   "id": "b2a4fdc3",
   "metadata": {
    "scrolled": false
   },
   "outputs": [],
   "source": [
    "# Train the model\n",
    "tm = GTM(\n",
    "    train_dataset, \n",
    "    n_topics=50,\n",
    "    doc_topic_prior='dirichlet', # logistic_normal\n",
    "    alpha=0.1,\n",
    "    prevalence_covariates_regularization=0.1,\n",
    "    update_prior=False,\n",
    "    encoder_hidden_layers=[], # structure of the encoder neural net\n",
    "    decoder_hidden_layers=[300], # structure of the decoder neural net\n",
    "    num_epochs=5,\n",
    "    print_every=10000,\n",
    "    log_every=1,\n",
    "    w_prior=None,\n",
    "    batch_size=250\n",
    ")"
   ]
  },
  {
   "cell_type": "code",
   "execution_count": null,
   "id": "c5d9588d",
   "metadata": {},
   "outputs": [],
   "source": [
    "# Assess the quality of the learned word embeddings \n",
    "# Top 8 closest words to a specific word\n",
    "\n",
    "import torch\n",
    "import torch.nn.functional as F\n",
    "\n",
    "specific_word = 'democrat'\n",
    "\n",
    "word_id = [i for i,w in enumerate(train_dataset.vocab) if w == specific_word][0]\n",
    "\n",
    "words = tm.AutoEncoder.decoder['dec_1'].weight.T\n",
    "\n",
    "logit = torch.matmul(words.T[word_id], words)\n",
    "\n",
    "beta = F.softmax(logit)\n",
    "\n",
    "tm.AutoEncoder.eval()\n",
    "topic_words = []\n",
    "vals, indices = torch.topk(beta, 8)\n",
    "vals = vals.cpu().tolist()\n",
    "indices = indices.cpu().tolist()\n",
    "[tm.id2token[idx] for idx in indices]"
   ]
  }
 ],
 "metadata": {
  "kernelspec": {
   "display_name": "Python 3 (ipykernel)",
   "language": "python",
   "name": "python3"
  },
  "language_info": {
   "codemirror_mode": {
    "name": "ipython",
    "version": 3
   },
   "file_extension": ".py",
   "mimetype": "text/x-python",
   "name": "python",
   "nbconvert_exporter": "python",
   "pygments_lexer": "ipython3",
   "version": "3.10.12"
  }
 },
 "nbformat": 4,
 "nbformat_minor": 5
}
