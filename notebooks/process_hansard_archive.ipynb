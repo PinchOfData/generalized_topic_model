{
 "cells": [
  {
   "cell_type": "code",
   "execution_count": null,
   "id": "d625147b",
   "metadata": {},
   "outputs": [],
   "source": [
    "import pandas as pd\n",
    "df = pd.read_csv('../data/hansard_archive/hansard_speeches.csv')\n",
    "df = df[['speech', 'party']]\n",
    "df.columns = ['doc', 'party']\n",
    "df = df.dropna(subset = ['party'])\n",
    "df = df[df['party'].isin(['Conservative', 'Labour'])]\n",
    "df"
   ]
  },
  {
   "cell_type": "code",
   "execution_count": null,
   "id": "9584dabc",
   "metadata": {},
   "outputs": [],
   "source": [
    "import sys\n",
    "sys.path.append('../gtm/')\n",
    "from utils import text_processor\n",
    "    \n",
    "p = text_processor('en_core_web_sm', pos_tags_to_keep = ['VERB', 'NOUN'])\n",
    "df['doc_clean'] = p.process_docs(df['doc'])"
   ]
  },
  {
   "cell_type": "code",
   "execution_count": null,
   "id": "ff6bb21c",
   "metadata": {},
   "outputs": [],
   "source": [
    "from collections import Counter\n",
    "doc_clean = list(df['doc_clean'])\n",
    "doc_clean_tokenized = [doc.split() for doc in doc_clean]\n",
    "doc_clean_tokenized = [item for sublist in doc_clean_tokenized for item in sublist]\n",
    "c = Counter(doc_clean_tokenized)"
   ]
  },
  {
   "cell_type": "code",
   "execution_count": null,
   "id": "2dc1940b",
   "metadata": {},
   "outputs": [],
   "source": [
    "c = {k:v for k,v in c.items() if v > 100}\n",
    "print(len(c))\n",
    "keepers = list(c)\n",
    "\n",
    "doc_clean_tokenized = [doc.split() for doc in doc_clean]\n",
    "docs = []\n",
    "for doc in doc_clean_tokenized:\n",
    "    d = []\n",
    "    for tok in doc:\n",
    "        if tok in keepers:\n",
    "            d.append(tok)\n",
    "    d = ' '.join(d)\n",
    "    d = d.strip()\n",
    "    docs.append(d)\n",
    "df['doc_clean'] = docs\n",
    "df = df[df[\"doc_clean\"] != '']\n",
    "df = df.reset_index(drop=True)\n",
    "\n",
    "l = list(df.doc_clean)\n",
    "idx = [k for k,v in enumerate(l) if len(v.split()) >= 20] # drop speeches of less than 20 preprocessed tokens\n",
    "df = df.iloc[idx]\n",
    "df = df.reset_index(drop=True)\n",
    "\n",
    "df.to_csv('../data/hansard_archive/hansard_speeches_processed.csv')"
   ]
  }
 ],
 "metadata": {
  "kernelspec": {
   "display_name": "Python 3 (ipykernel)",
   "language": "python",
   "name": "python3"
  },
  "language_info": {
   "codemirror_mode": {
    "name": "ipython",
    "version": 3
   },
   "file_extension": ".py",
   "mimetype": "text/x-python",
   "name": "python",
   "nbconvert_exporter": "python",
   "pygments_lexer": "ipython3",
   "version": "3.10.12"
  }
 },
 "nbformat": 4,
 "nbformat_minor": 5
}
