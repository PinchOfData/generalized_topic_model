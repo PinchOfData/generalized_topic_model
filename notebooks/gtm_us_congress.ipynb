{
 "cells": [
  {
   "cell_type": "code",
   "execution_count": null,
   "id": "ad368a83",
   "metadata": {},
   "outputs": [],
   "source": [
    "import pandas as pd \n",
    "df = pd.read_csv('../data/us_congressional_record/us_congress_speeches_processed.csv')\n",
    "df = df.sample(n=50000, random_state = 42)\n",
    "df"
   ]
  },
  {
   "cell_type": "code",
   "execution_count": null,
   "id": "3ea9460b",
   "metadata": {},
   "outputs": [],
   "source": [
    "import sys\n",
    "sys.path.append('../gtm/')\n",
    "from corpus import GTMCorpus\n",
    "from gtm import GTM\n",
    "\n",
    "# Create a GTMCorpus object\n",
    "train_dataset = GTMCorpus(\n",
    "    df, \n",
    "    prevalence = \"~ party\", # + C(speech_year) \n",
    "    content = \"~ party\" # + C(speech_year)\n",
    ")\n",
    "\n",
    "train_dataset.M_prevalence_covariates.shape"
   ]
  },
  {
   "cell_type": "code",
   "execution_count": null,
   "id": "6e24ca2f",
   "metadata": {},
   "outputs": [],
   "source": [
    "train_dataset.M_prevalence_covariates"
   ]
  },
  {
   "cell_type": "code",
   "execution_count": null,
   "id": "8babc895",
   "metadata": {
    "scrolled": true
   },
   "outputs": [],
   "source": [
    "train_dataset.prevalence_colnames"
   ]
  },
  {
   "cell_type": "code",
   "execution_count": null,
   "id": "a9e92de4",
   "metadata": {
    "scrolled": false
   },
   "outputs": [],
   "source": [
    "# Train the model\n",
    "tm = GTM(\n",
    "    train_dataset, \n",
    "    n_topics=50,\n",
    "    doc_topic_prior='dirichlet', # logistic_normal\n",
    "    alpha=0.1,\n",
    "    prevalence_covariates_regularization=0.1,\n",
    "    update_prior=True,\n",
    "    encoder_hidden_layers=[], # structure of the encoder neural net\n",
    "    decoder_hidden_layers=[300], # structure of the decoder neural net\n",
    "    num_epochs=5,\n",
    "    print_every=10000,\n",
    "    log_every=1,\n",
    "    w_prior=None,\n",
    "    batch_size=250\n",
    ")"
   ]
  },
  {
   "cell_type": "code",
   "execution_count": null,
   "id": "f7a04d6a",
   "metadata": {},
   "outputs": [],
   "source": [
    "# Assess the quality of the learned word embeddings \n",
    "# Top 8 closest words to a specific word\n",
    "\n",
    "import torch\n",
    "import torch.nn.functional as F\n",
    "\n",
    "specific_word = 'terrorist'\n",
    "\n",
    "word_id = [i for i,w in enumerate(train_dataset.vocab) if w == specific_word][0]\n",
    "\n",
    "words = tm.AutoEncoder.decoder['dec_1'].weight.T\n",
    "\n",
    "logit = torch.matmul(words.T[word_id], words)\n",
    "\n",
    "beta = F.softmax(logit)\n",
    "\n",
    "tm.AutoEncoder.eval()\n",
    "topic_words = []\n",
    "vals, indices = torch.topk(beta, 8)\n",
    "vals = vals.cpu().tolist()\n",
    "indices = indices.cpu().tolist()\n",
    "[tm.id2token[idx] for idx in indices]"
   ]
  },
  {
   "cell_type": "code",
   "execution_count": null,
   "id": "36f40107",
   "metadata": {},
   "outputs": [],
   "source": [
    "dfc = tm.estimate_effect(train_dataset, n_samples=10, topic_ids=[18,20,43])"
   ]
  },
  {
   "cell_type": "code",
   "execution_count": null,
   "id": "921c6b0e",
   "metadata": {},
   "outputs": [],
   "source": [
    "dfc"
   ]
  },
  {
   "cell_type": "code",
   "execution_count": null,
   "id": "99c015e6",
   "metadata": {},
   "outputs": [],
   "source": [
    "import statsmodels.api as sm\n",
    "Y = tm.get_doc_topic_distribution(train_dataset)\n",
    "X = train_dataset.M_prevalence_covariates\n",
    "model = sm.OLS(Y[:,43],X)\n",
    "results = model.fit()\n",
    "covs = train_dataset.prevalence_colnames\n",
    "pd.DataFrame([covs, results.params])"
   ]
  },
  {
   "cell_type": "code",
   "execution_count": null,
   "id": "467ae00d",
   "metadata": {},
   "outputs": [],
   "source": [
    "tm.get_top_docs(train_dataset, topic_id = 47)"
   ]
  },
  {
   "cell_type": "code",
   "execution_count": null,
   "id": "0620bfd7",
   "metadata": {},
   "outputs": [],
   "source": [
    "ldavis_format = tm.get_ldavis_data_format(train_dataset)\n",
    "import pyLDAvis\n",
    "gtm_vis_data = pyLDAvis.prepare(**ldavis_format, sort_topics=False)\n",
    "pyLDAvis.display(gtm_vis_data)"
   ]
  },
  {
   "cell_type": "code",
   "execution_count": null,
   "id": "6e46f4a6",
   "metadata": {},
   "outputs": [],
   "source": [
    "tm.plot_wordcloud(topic_id = 18)"
   ]
  }
 ],
 "metadata": {
  "kernelspec": {
   "display_name": "Python 3 (ipykernel)",
   "language": "python",
   "name": "python3"
  },
  "language_info": {
   "codemirror_mode": {
    "name": "ipython",
    "version": 3
   },
   "file_extension": ".py",
   "mimetype": "text/x-python",
   "name": "python",
   "nbconvert_exporter": "python",
   "pygments_lexer": "ipython3",
   "version": "3.10.12"
  }
 },
 "nbformat": 4,
 "nbformat_minor": 5
}
